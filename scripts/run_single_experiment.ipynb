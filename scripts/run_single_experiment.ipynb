{
 "cells": [
  {
   "cell_type": "markdown",
   "id": "impossible-moscow",
   "metadata": {},
   "source": [
    "# Shahir Rahman"
   ]
  },
  {
   "cell_type": "code",
   "execution_count": 1,
   "id": "negative-german",
   "metadata": {},
   "outputs": [],
   "source": [
    "import os\n",
    "import numpy as np\n",
    "import torch\n",
    "import torchvision\n",
    "from torchsummary import summary\n",
    "\n",
    "from project_18408.datasets import *\n",
    "from project_18408.evaluation import *\n",
    "from project_18408.experiments import *\n",
    "from project_18408.utils import *"
   ]
  },
  {
   "cell_type": "code",
   "execution_count": 2,
   "id": "applied-bullet",
   "metadata": {},
   "outputs": [
    {
     "name": "stdout",
     "output_type": "stream",
     "text": [
      "PyTorch Version: 1.8.0\n",
      "Torchvision Version: 0.9.0\n",
      "Using the GPU!\n"
     ]
    }
   ],
   "source": [
    "print(\"PyTorch Version:\", torch.__version__)\n",
    "print(\"Torchvision Version:\", torchvision.__version__)\n",
    "# Detect if we have a GPU available\n",
    "device = torch.device(\"cuda\" if torch.cuda.is_available() else \"cpu\")\n",
    "if torch.cuda.is_available():\n",
    "    print(\"Using the GPU!\")\n",
    "else:\n",
    "    print(\"WARNING: Could not find GPU! Using CPU only\")"
   ]
  },
  {
   "cell_type": "code",
   "execution_count": 3,
   "id": "afraid-publicity",
   "metadata": {},
   "outputs": [],
   "source": [
    "img_dataset_type = ImageDatasetType.MNIST\n",
    "dataset_config = DatasetConfig(\n",
    "    dataset_type=DatasetType.IMG,\n",
    "    dataset_config=ImageDatasetConfig(\n",
    "        img_dataset_type=img_dataset_type,\n",
    "        num_train_samples=60000,\n",
    "        corrupt_frac=0,\n",
    "        flatten=True,\n",
    "        seed=0\n",
    "    )\n",
    ")\n",
    "\n",
    "input_dim = IMG_DATASET_TO_IMG_SIZE_FLAT[img_dataset_type]\n",
    "output_dim = IMG_DATASET_TO_NUM_CLASSES[img_dataset_type]\n",
    "\n",
    "model_config = ModelConfig(\n",
    "    model_type=ModelType.RELU_TOY,\n",
    "    model_config=ReLUModelConfig(\n",
    "        input_dim=input_dim,\n",
    "        output_dim=output_dim,\n",
    "        layer_dims=[100, 100, 100, 100]\n",
    "    )\n",
    ")\n",
    "\n",
    "training_config = TrainingConfig(\n",
    "    optimizer_type=OptimizerType.SGD_MOMENTUM,\n",
    "    loss_type=LossType.CROSS_ENTROPY,\n",
    "    num_epochs=20,\n",
    "    weight_decay=1e-6\n",
    ")\n",
    "\n",
    "experiment_config = ExperimentConfig(\n",
    "    dataset_config=dataset_config,\n",
    "    model_config=model_config,\n",
    "    training_config=training_config,\n",
    "    trial_index=None\n",
    ")"
   ]
  },
  {
   "cell_type": "code",
   "execution_count": 4,
   "id": "5e19cf83",
   "metadata": {},
   "outputs": [
    {
     "name": "stdout",
     "output_type": "stream",
     "text": [
      "{'dataset_config': {'dataset_type': 'img', 'dataset_config': {'img_dataset_type': 'mnist', 'num_train_samples': 60000, 'num_test_samples': 10000, 'new_input_size': None, 'flatten': True, 'augment': False, 'corrupt_frac': 0, 'seed': 0}}, 'model_config': {'model_type': 'relu_toy', 'model_config': {'input_dim': 784, 'output_dim': 10, 'layer_dims': [100, 100, 100, 100], 'bias': False, 'seed': None}}, 'training_config': {'optimizer_type': 'sgd_momentum', 'loss_type': 'cross_entropy', 'lr': 0.01, 'num_epochs': 20, 'clip_grad_norm': False, 'weight_decay': 1e-06, 'use_lr_schedule': False, 'epoch_lr_decay_steps': None, 'lr_decay_gamma': None}, 'trial_index': None}\n"
     ]
    }
   ],
   "source": [
    "print(experiment_config)"
   ]
  },
  {
   "cell_type": "code",
   "execution_count": 5,
   "id": "buried-edmonton",
   "metadata": {},
   "outputs": [],
   "source": [
    "data_dir = get_rel_pkg_path(\"dataset/\")\n",
    "experiment_dir = get_rel_pkg_path(\"experiments/\")"
   ]
  },
  {
   "cell_type": "code",
   "execution_count": 6,
   "id": "eastern-dakota",
   "metadata": {},
   "outputs": [],
   "source": [
    "manager = ExperimentManager(data_dir, experiment_dir)"
   ]
  },
  {
   "cell_type": "code",
   "execution_count": 7,
   "id": "af537e0f",
   "metadata": {},
   "outputs": [
    {
     "data": {
      "text/plain": [
       "'e3366129a1e21748'"
      ]
     },
     "execution_count": 7,
     "metadata": {},
     "output_type": "execute_result"
    }
   ],
   "source": [
    "manager.add_experiment(experiment_config, exist_ok=True)"
   ]
  },
  {
   "cell_type": "code",
   "execution_count": 8,
   "id": "ca86a659",
   "metadata": {},
   "outputs": [
    {
     "name": "stderr",
     "output_type": "stream",
     "text": [
      "\r",
      "  0%|                                                                                          | 0/469 [00:00<?, ?it/s]"
     ]
    },
    {
     "name": "stdout",
     "output_type": "stream",
     "text": [
      "Epoch 1/20\n",
      "----------\n",
      "Training\n"
     ]
    },
    {
     "name": "stderr",
     "output_type": "stream",
     "text": [
      "Avg. Loss: 1.5041, Total Loss: 0.7155, Loss Parts: [0.7155]: 100%|███████████████████| 469/469 [00:05<00:00, 93.44it/s]\n",
      "  0%|                                                                                           | 0/79 [00:00<?, ?it/s]"
     ]
    },
    {
     "name": "stdout",
     "output_type": "stream",
     "text": [
      "Training Loss: 1.5041\n",
      "Training Accuracy: 0.4889\n",
      "Testing\n"
     ]
    },
    {
     "name": "stderr",
     "output_type": "stream",
     "text": [
      "100%|██████████████████████████████████████████████████████████████████████████████████| 79/79 [00:02<00:00, 32.26it/s]\n",
      "  0%|                                                                                          | 0/469 [00:00<?, ?it/s]"
     ]
    },
    {
     "name": "stdout",
     "output_type": "stream",
     "text": [
      "Testing loss 0.4511\n",
      "Testing accuracy 0.8639\n",
      "\n",
      "Epoch 2/20\n",
      "----------\n",
      "Training\n"
     ]
    },
    {
     "name": "stderr",
     "output_type": "stream",
     "text": [
      "Avg. Loss: 0.3288, Total Loss: 0.2159, Loss Parts: [0.2159]: 100%|██████████████████| 469/469 [00:04<00:00, 100.89it/s]\n",
      "  0%|                                                                                           | 0/79 [00:00<?, ?it/s]"
     ]
    },
    {
     "name": "stdout",
     "output_type": "stream",
     "text": [
      "Training Loss: 0.3288\n",
      "Training Accuracy: 0.9041\n",
      "Testing\n"
     ]
    },
    {
     "name": "stderr",
     "output_type": "stream",
     "text": [
      "100%|██████████████████████████████████████████████████████████████████████████████████| 79/79 [00:02<00:00, 31.65it/s]\n",
      "  0%|                                                                                          | 0/469 [00:00<?, ?it/s]"
     ]
    },
    {
     "name": "stdout",
     "output_type": "stream",
     "text": [
      "Testing loss 0.2433\n",
      "Testing accuracy 0.9267\n",
      "\n",
      "Epoch 3/20\n",
      "----------\n",
      "Training\n"
     ]
    },
    {
     "name": "stderr",
     "output_type": "stream",
     "text": [
      "Avg. Loss: 0.2004, Total Loss: 0.2079, Loss Parts: [0.2079]: 100%|██████████████████| 469/469 [00:04<00:00, 102.45it/s]\n",
      "  0%|                                                                                           | 0/79 [00:00<?, ?it/s]"
     ]
    },
    {
     "name": "stdout",
     "output_type": "stream",
     "text": [
      "Training Loss: 0.2004\n",
      "Training Accuracy: 0.9408\n",
      "Testing\n"
     ]
    },
    {
     "name": "stderr",
     "output_type": "stream",
     "text": [
      "100%|██████████████████████████████████████████████████████████████████████████████████| 79/79 [00:02<00:00, 32.43it/s]\n",
      "  0%|                                                                                          | 0/469 [00:00<?, ?it/s]"
     ]
    },
    {
     "name": "stdout",
     "output_type": "stream",
     "text": [
      "Testing loss 0.1581\n",
      "Testing accuracy 0.9542\n",
      "\n",
      "Epoch 4/20\n",
      "----------\n",
      "Training\n"
     ]
    },
    {
     "name": "stderr",
     "output_type": "stream",
     "text": [
      "Avg. Loss: 0.1440, Total Loss: 0.1769, Loss Parts: [0.1769]: 100%|██████████████████| 469/469 [00:04<00:00, 102.02it/s]\n",
      "  0%|                                                                                           | 0/79 [00:00<?, ?it/s]"
     ]
    },
    {
     "name": "stdout",
     "output_type": "stream",
     "text": [
      "Training Loss: 0.1440\n",
      "Training Accuracy: 0.9574\n",
      "Testing\n"
     ]
    },
    {
     "name": "stderr",
     "output_type": "stream",
     "text": [
      "100%|██████████████████████████████████████████████████████████████████████████████████| 79/79 [00:02<00:00, 31.98it/s]\n",
      "  0%|                                                                                          | 0/469 [00:00<?, ?it/s]"
     ]
    },
    {
     "name": "stdout",
     "output_type": "stream",
     "text": [
      "Testing loss 0.1404\n",
      "Testing accuracy 0.9570\n",
      "\n",
      "Epoch 5/20\n",
      "----------\n",
      "Training\n"
     ]
    },
    {
     "name": "stderr",
     "output_type": "stream",
     "text": [
      "Avg. Loss: 0.1130, Total Loss: 0.1093, Loss Parts: [0.1093]: 100%|██████████████████| 469/469 [00:04<00:00, 102.31it/s]\n",
      "  0%|                                                                                           | 0/79 [00:00<?, ?it/s]"
     ]
    },
    {
     "name": "stdout",
     "output_type": "stream",
     "text": [
      "Training Loss: 0.1130\n",
      "Training Accuracy: 0.9665\n",
      "Testing\n"
     ]
    },
    {
     "name": "stderr",
     "output_type": "stream",
     "text": [
      "100%|██████████████████████████████████████████████████████████████████████████████████| 79/79 [00:02<00:00, 31.15it/s]\n",
      "  0%|                                                                                          | 0/469 [00:00<?, ?it/s]"
     ]
    },
    {
     "name": "stdout",
     "output_type": "stream",
     "text": [
      "Testing loss 0.1165\n",
      "Testing accuracy 0.9643\n",
      "\n",
      "Epoch 6/20\n",
      "----------\n",
      "Training\n"
     ]
    },
    {
     "name": "stderr",
     "output_type": "stream",
     "text": [
      "Avg. Loss: 0.0954, Total Loss: 0.1341, Loss Parts: [0.1341]: 100%|██████████████████| 469/469 [00:04<00:00, 101.70it/s]\n",
      "  0%|                                                                                           | 0/79 [00:00<?, ?it/s]"
     ]
    },
    {
     "name": "stdout",
     "output_type": "stream",
     "text": [
      "Training Loss: 0.0954\n",
      "Training Accuracy: 0.9709\n",
      "Testing\n"
     ]
    },
    {
     "name": "stderr",
     "output_type": "stream",
     "text": [
      "100%|██████████████████████████████████████████████████████████████████████████████████| 79/79 [00:02<00:00, 33.85it/s]\n",
      "  0%|                                                                                          | 0/469 [00:00<?, ?it/s]"
     ]
    },
    {
     "name": "stdout",
     "output_type": "stream",
     "text": [
      "Testing loss 0.1160\n",
      "Testing accuracy 0.9647\n",
      "\n",
      "Epoch 7/20\n",
      "----------\n",
      "Training\n"
     ]
    },
    {
     "name": "stderr",
     "output_type": "stream",
     "text": [
      "Avg. Loss: 0.0834, Total Loss: 0.1247, Loss Parts: [0.1247]: 100%|██████████████████| 469/469 [00:04<00:00, 101.12it/s]\n",
      "  0%|                                                                                           | 0/79 [00:00<?, ?it/s]"
     ]
    },
    {
     "name": "stdout",
     "output_type": "stream",
     "text": [
      "Training Loss: 0.0834\n",
      "Training Accuracy: 0.9742\n",
      "Testing\n"
     ]
    },
    {
     "name": "stderr",
     "output_type": "stream",
     "text": [
      "100%|██████████████████████████████████████████████████████████████████████████████████| 79/79 [00:02<00:00, 32.09it/s]\n",
      "  0%|                                                                                          | 0/469 [00:00<?, ?it/s]"
     ]
    },
    {
     "name": "stdout",
     "output_type": "stream",
     "text": [
      "Testing loss 0.1166\n",
      "Testing accuracy 0.9662\n",
      "\n",
      "Epoch 8/20\n",
      "----------\n",
      "Training\n"
     ]
    },
    {
     "name": "stderr",
     "output_type": "stream",
     "text": [
      "Avg. Loss: 0.0698, Total Loss: 0.0781, Loss Parts: [0.0781]: 100%|██████████████████| 469/469 [00:04<00:00, 100.33it/s]\n",
      "  0%|                                                                                           | 0/79 [00:00<?, ?it/s]"
     ]
    },
    {
     "name": "stdout",
     "output_type": "stream",
     "text": [
      "Training Loss: 0.0698\n",
      "Training Accuracy: 0.9785\n",
      "Testing\n"
     ]
    },
    {
     "name": "stderr",
     "output_type": "stream",
     "text": [
      "100%|██████████████████████████████████████████████████████████████████████████████████| 79/79 [00:02<00:00, 32.07it/s]\n",
      "  0%|                                                                                          | 0/469 [00:00<?, ?it/s]"
     ]
    },
    {
     "name": "stdout",
     "output_type": "stream",
     "text": [
      "Testing loss 0.0888\n",
      "Testing accuracy 0.9729\n",
      "\n",
      "Epoch 9/20\n",
      "----------\n",
      "Training\n"
     ]
    },
    {
     "name": "stderr",
     "output_type": "stream",
     "text": [
      "Avg. Loss: 0.0607, Total Loss: 0.1045, Loss Parts: [0.1045]: 100%|███████████████████| 469/469 [00:04<00:00, 98.98it/s]\n",
      "  0%|                                                                                           | 0/79 [00:00<?, ?it/s]"
     ]
    },
    {
     "name": "stdout",
     "output_type": "stream",
     "text": [
      "Training Loss: 0.0607\n",
      "Training Accuracy: 0.9814\n",
      "Testing\n"
     ]
    },
    {
     "name": "stderr",
     "output_type": "stream",
     "text": [
      "100%|██████████████████████████████████████████████████████████████████████████████████| 79/79 [00:02<00:00, 32.24it/s]\n",
      "  0%|                                                                                          | 0/469 [00:00<?, ?it/s]"
     ]
    },
    {
     "name": "stdout",
     "output_type": "stream",
     "text": [
      "Testing loss 0.0914\n",
      "Testing accuracy 0.9726\n",
      "\n",
      "Epoch 10/20\n",
      "----------\n",
      "Training\n"
     ]
    },
    {
     "name": "stderr",
     "output_type": "stream",
     "text": [
      "Avg. Loss: 0.0527, Total Loss: 0.0154, Loss Parts: [0.0154]: 100%|██████████████████| 469/469 [00:04<00:00, 103.14it/s]\n",
      "  0%|                                                                                           | 0/79 [00:00<?, ?it/s]"
     ]
    },
    {
     "name": "stdout",
     "output_type": "stream",
     "text": [
      "Training Loss: 0.0527\n",
      "Training Accuracy: 0.9840\n",
      "Testing\n"
     ]
    },
    {
     "name": "stderr",
     "output_type": "stream",
     "text": [
      "100%|██████████████████████████████████████████████████████████████████████████████████| 79/79 [00:02<00:00, 31.81it/s]\n",
      "  0%|                                                                                          | 0/469 [00:00<?, ?it/s]"
     ]
    },
    {
     "name": "stdout",
     "output_type": "stream",
     "text": [
      "Testing loss 0.0886\n",
      "Testing accuracy 0.9746\n",
      "\n",
      "Epoch 11/20\n",
      "----------\n",
      "Training\n"
     ]
    },
    {
     "name": "stderr",
     "output_type": "stream",
     "text": [
      "Avg. Loss: 0.0461, Total Loss: 0.0102, Loss Parts: [0.0102]: 100%|██████████████████| 469/469 [00:04<00:00, 102.06it/s]\n",
      "  0%|                                                                                           | 0/79 [00:00<?, ?it/s]"
     ]
    },
    {
     "name": "stdout",
     "output_type": "stream",
     "text": [
      "Training Loss: 0.0461\n",
      "Training Accuracy: 0.9861\n",
      "Testing\n"
     ]
    },
    {
     "name": "stderr",
     "output_type": "stream",
     "text": [
      "100%|██████████████████████████████████████████████████████████████████████████████████| 79/79 [00:02<00:00, 31.70it/s]\n",
      "  0%|                                                                                          | 0/469 [00:00<?, ?it/s]"
     ]
    },
    {
     "name": "stdout",
     "output_type": "stream",
     "text": [
      "Testing loss 0.0850\n",
      "Testing accuracy 0.9737\n",
      "\n",
      "Epoch 12/20\n",
      "----------\n",
      "Training\n"
     ]
    },
    {
     "name": "stderr",
     "output_type": "stream",
     "text": [
      "Avg. Loss: 0.0412, Total Loss: 0.0492, Loss Parts: [0.0492]: 100%|██████████████████| 469/469 [00:04<00:00, 102.42it/s]\n",
      "  0%|                                                                                           | 0/79 [00:00<?, ?it/s]"
     ]
    },
    {
     "name": "stdout",
     "output_type": "stream",
     "text": [
      "Training Loss: 0.0412\n",
      "Training Accuracy: 0.9875\n",
      "Testing\n"
     ]
    },
    {
     "name": "stderr",
     "output_type": "stream",
     "text": [
      "100%|██████████████████████████████████████████████████████████████████████████████████| 79/79 [00:02<00:00, 32.51it/s]\n",
      "  0%|                                                                                          | 0/469 [00:00<?, ?it/s]"
     ]
    },
    {
     "name": "stdout",
     "output_type": "stream",
     "text": [
      "Testing loss 0.1093\n",
      "Testing accuracy 0.9706\n",
      "\n",
      "Epoch 13/20\n",
      "----------\n",
      "Training\n"
     ]
    },
    {
     "name": "stderr",
     "output_type": "stream",
     "text": [
      "Avg. Loss: 0.0361, Total Loss: 0.0352, Loss Parts: [0.0352]: 100%|██████████████████| 469/469 [00:04<00:00, 101.18it/s]\n",
      "  0%|                                                                                           | 0/79 [00:00<?, ?it/s]"
     ]
    },
    {
     "name": "stdout",
     "output_type": "stream",
     "text": [
      "Training Loss: 0.0361\n",
      "Training Accuracy: 0.9888\n",
      "Testing\n"
     ]
    },
    {
     "name": "stderr",
     "output_type": "stream",
     "text": [
      "100%|██████████████████████████████████████████████████████████████████████████████████| 79/79 [00:02<00:00, 31.83it/s]\n",
      "  0%|                                                                                          | 0/469 [00:00<?, ?it/s]"
     ]
    },
    {
     "name": "stdout",
     "output_type": "stream",
     "text": [
      "Testing loss 0.0907\n",
      "Testing accuracy 0.9762\n",
      "\n",
      "Epoch 14/20\n",
      "----------\n",
      "Training\n"
     ]
    },
    {
     "name": "stderr",
     "output_type": "stream",
     "text": [
      "Avg. Loss: 0.0335, Total Loss: 0.0100, Loss Parts: [0.0100]: 100%|██████████████████| 469/469 [00:04<00:00, 100.86it/s]\n",
      "  0%|                                                                                           | 0/79 [00:00<?, ?it/s]"
     ]
    },
    {
     "name": "stdout",
     "output_type": "stream",
     "text": [
      "Training Loss: 0.0335\n",
      "Training Accuracy: 0.9892\n",
      "Testing\n"
     ]
    },
    {
     "name": "stderr",
     "output_type": "stream",
     "text": [
      "100%|██████████████████████████████████████████████████████████████████████████████████| 79/79 [00:02<00:00, 31.40it/s]\n",
      "  0%|                                                                                          | 0/469 [00:00<?, ?it/s]"
     ]
    },
    {
     "name": "stdout",
     "output_type": "stream",
     "text": [
      "Testing loss 0.1037\n",
      "Testing accuracy 0.9719\n",
      "\n",
      "Epoch 15/20\n",
      "----------\n",
      "Training\n"
     ]
    },
    {
     "name": "stderr",
     "output_type": "stream",
     "text": [
      "Avg. Loss: 0.0289, Total Loss: 0.0264, Loss Parts: [0.0264]: 100%|██████████████████| 469/469 [00:04<00:00, 102.17it/s]\n",
      "  0%|                                                                                           | 0/79 [00:00<?, ?it/s]"
     ]
    },
    {
     "name": "stdout",
     "output_type": "stream",
     "text": [
      "Training Loss: 0.0289\n",
      "Training Accuracy: 0.9912\n",
      "Testing\n"
     ]
    },
    {
     "name": "stderr",
     "output_type": "stream",
     "text": [
      "100%|██████████████████████████████████████████████████████████████████████████████████| 79/79 [00:02<00:00, 31.07it/s]\n",
      "  0%|                                                                                          | 0/469 [00:00<?, ?it/s]"
     ]
    },
    {
     "name": "stdout",
     "output_type": "stream",
     "text": [
      "Testing loss 0.0883\n",
      "Testing accuracy 0.9754\n",
      "\n",
      "Epoch 16/20\n",
      "----------\n",
      "Training\n"
     ]
    },
    {
     "name": "stderr",
     "output_type": "stream",
     "text": [
      "Avg. Loss: 0.0279, Total Loss: 0.0012, Loss Parts: [0.0012]: 100%|██████████████████| 469/469 [00:04<00:00, 102.39it/s]\n",
      "  0%|                                                                                           | 0/79 [00:00<?, ?it/s]"
     ]
    },
    {
     "name": "stdout",
     "output_type": "stream",
     "text": [
      "Training Loss: 0.0279\n",
      "Training Accuracy: 0.9911\n",
      "Testing\n"
     ]
    },
    {
     "name": "stderr",
     "output_type": "stream",
     "text": [
      "100%|██████████████████████████████████████████████████████████████████████████████████| 79/79 [00:02<00:00, 31.45it/s]\n",
      "  0%|                                                                                          | 0/469 [00:00<?, ?it/s]"
     ]
    },
    {
     "name": "stdout",
     "output_type": "stream",
     "text": [
      "Testing loss 0.1024\n",
      "Testing accuracy 0.9737\n",
      "\n",
      "Epoch 17/20\n",
      "----------\n",
      "Training\n"
     ]
    },
    {
     "name": "stderr",
     "output_type": "stream",
     "text": [
      "Avg. Loss: 0.0242, Total Loss: 0.0223, Loss Parts: [0.0223]: 100%|██████████████████| 469/469 [00:04<00:00, 105.33it/s]\n",
      "  0%|                                                                                           | 0/79 [00:00<?, ?it/s]"
     ]
    },
    {
     "name": "stdout",
     "output_type": "stream",
     "text": [
      "Training Loss: 0.0242\n",
      "Training Accuracy: 0.9923\n",
      "Testing\n"
     ]
    },
    {
     "name": "stderr",
     "output_type": "stream",
     "text": [
      "100%|██████████████████████████████████████████████████████████████████████████████████| 79/79 [00:02<00:00, 30.96it/s]\n",
      "  0%|                                                                                          | 0/469 [00:00<?, ?it/s]"
     ]
    },
    {
     "name": "stdout",
     "output_type": "stream",
     "text": [
      "Testing loss 0.0991\n",
      "Testing accuracy 0.9769\n",
      "\n",
      "Epoch 18/20\n",
      "----------\n",
      "Training\n"
     ]
    },
    {
     "name": "stderr",
     "output_type": "stream",
     "text": [
      "Avg. Loss: 0.0204, Total Loss: 0.0174, Loss Parts: [0.0174]: 100%|███████████████████| 469/469 [00:04<00:00, 99.85it/s]\n",
      "  0%|                                                                                           | 0/79 [00:00<?, ?it/s]"
     ]
    },
    {
     "name": "stdout",
     "output_type": "stream",
     "text": [
      "Training Loss: 0.0204\n",
      "Training Accuracy: 0.9935\n",
      "Testing\n"
     ]
    },
    {
     "name": "stderr",
     "output_type": "stream",
     "text": [
      "100%|██████████████████████████████████████████████████████████████████████████████████| 79/79 [00:02<00:00, 31.74it/s]\n",
      "  0%|                                                                                          | 0/469 [00:00<?, ?it/s]"
     ]
    },
    {
     "name": "stdout",
     "output_type": "stream",
     "text": [
      "Testing loss 0.1012\n",
      "Testing accuracy 0.9757\n",
      "\n",
      "Epoch 19/20\n",
      "----------\n",
      "Training\n"
     ]
    },
    {
     "name": "stderr",
     "output_type": "stream",
     "text": [
      "Avg. Loss: 0.0187, Total Loss: 0.0666, Loss Parts: [0.0666]: 100%|██████████████████| 469/469 [00:04<00:00, 100.64it/s]\n",
      "  0%|                                                                                           | 0/79 [00:00<?, ?it/s]"
     ]
    },
    {
     "name": "stdout",
     "output_type": "stream",
     "text": [
      "Training Loss: 0.0187\n",
      "Training Accuracy: 0.9939\n",
      "Testing\n"
     ]
    },
    {
     "name": "stderr",
     "output_type": "stream",
     "text": [
      "100%|██████████████████████████████████████████████████████████████████████████████████| 79/79 [00:02<00:00, 31.76it/s]\n",
      "  0%|                                                                                          | 0/469 [00:00<?, ?it/s]"
     ]
    },
    {
     "name": "stdout",
     "output_type": "stream",
     "text": [
      "Testing loss 0.1237\n",
      "Testing accuracy 0.9708\n",
      "\n",
      "Epoch 20/20\n",
      "----------\n",
      "Training\n"
     ]
    },
    {
     "name": "stderr",
     "output_type": "stream",
     "text": [
      "Avg. Loss: 0.0182, Total Loss: 0.0125, Loss Parts: [0.0125]: 100%|██████████████████| 469/469 [00:04<00:00, 100.34it/s]\n",
      "  0%|                                                                                           | 0/79 [00:00<?, ?it/s]"
     ]
    },
    {
     "name": "stdout",
     "output_type": "stream",
     "text": [
      "Training Loss: 0.0182\n",
      "Training Accuracy: 0.9945\n",
      "Testing\n"
     ]
    },
    {
     "name": "stderr",
     "output_type": "stream",
     "text": [
      "100%|██████████████████████████████████████████████████████████████████████████████████| 79/79 [00:02<00:00, 32.02it/s]"
     ]
    },
    {
     "name": "stdout",
     "output_type": "stream",
     "text": [
      "Testing loss 0.0977\n",
      "Testing accuracy 0.9788\n",
      "\n",
      "Training complete in 2m 22s\n",
      "Saved session to C:\\Users\\Windows\\Desktop\\Shahir\\18.408\\18408-final-project\\experiments\\e3366129a1e21748\\sessions\\Session 05-16-2021 08-59-45 PM\n"
     ]
    },
    {
     "name": "stderr",
     "output_type": "stream",
     "text": [
      "\n"
     ]
    }
   ],
   "source": [
    "setup, state = manager.run_training(experiment_config, device, completed_ok=True)"
   ]
  },
  {
   "cell_type": "code",
   "execution_count": 9,
   "id": "0bd2d3f1",
   "metadata": {},
   "outputs": [
    {
     "name": "stdout",
     "output_type": "stream",
     "text": [
      "Loaded session from C:\\Users\\Windows\\Desktop\\Shahir\\18.408\\18408-final-project\\experiments\\e3366129a1e21748\\sessions\\Session 05-16-2021 08-59-45 PM\n"
     ]
    }
   ],
   "source": [
    "setup, state = manager.load_experiment(experiment_config, device)"
   ]
  },
  {
   "cell_type": "code",
   "execution_count": 10,
   "id": "4afd850d",
   "metadata": {},
   "outputs": [
    {
     "name": "stderr",
     "output_type": "stream",
     "text": [
      "\r",
      "  0%|                                                                                          | 0/469 [00:00<?, ?it/s]"
     ]
    },
    {
     "name": "stdout",
     "output_type": "stream",
     "text": [
      "Loaded session from C:\\Users\\Windows\\Desktop\\Shahir\\18.408\\18408-final-project\\experiments\\e3366129a1e21748\\sessions\\Session 05-16-2021 08-59-45 PM\n"
     ]
    },
    {
     "name": "stderr",
     "output_type": "stream",
     "text": [
      "100%|███████████████████████████████████████████████████████████████████████████████| 469/469 [00:03<00:00, 130.62it/s]\n",
      "100%|██████████████████████████████████████████████████████████████████████████████████| 79/79 [00:02<00:00, 30.31it/s]\n"
     ]
    }
   ],
   "source": [
    "stats = manager.run_stats(experiment_config, device)"
   ]
  },
  {
   "cell_type": "code",
   "execution_count": 12,
   "id": "1c2fc078",
   "metadata": {},
   "outputs": [
    {
     "name": "stdout",
     "output_type": "stream",
     "text": [
      "{'train': {'inputs': array([[0., 0., 0., ..., 0., 0., 0.],\n",
      "       [0., 0., 0., ..., 0., 0., 0.],\n",
      "       [0., 0., 0., ..., 0., 0., 0.],\n",
      "       ...,\n",
      "       [0., 0., 0., ..., 0., 0., 0.],\n",
      "       [0., 0., 0., ..., 0., 0., 0.],\n",
      "       [0., 0., 0., ..., 0., 0., 0.]], dtype=float32), 'labels': array([5, 3, 2, ..., 8, 5, 0], dtype=int64), 'outputs': array([[ -6.9676094 , -13.247974  , -24.817596  , ..., -20.980486  ,\n",
      "         11.36442   ,  20.233675  ],\n",
      "       [-15.9696245 ,   6.1709514 ,   2.6246376 , ...,  -1.8691494 ,\n",
      "          9.909661  ,   5.5623784 ],\n",
      "       [  1.9342866 ,   8.182568  ,  22.461407  , ...,   9.857608  ,\n",
      "         10.774798  , -10.858118  ],\n",
      "       ...,\n",
      "       [  2.3136446 ,  -6.3657894 ,  -0.93654156, ..., -10.653067  ,\n",
      "         19.444847  ,   2.7601326 ],\n",
      "       [ -2.098754  , -10.243507  , -18.54133   , ..., -16.38102   ,\n",
      "          7.00425   ,  11.592793  ],\n",
      "       [ 19.572578  , -12.214141  ,   7.611844  , ...,   3.546257  ,\n",
      "          1.9838194 ,   2.712765  ]], dtype=float32), 'preds': array([5, 3, 2, ..., 8, 5, 0], dtype=int64), 'loss': 0.010424369448547561, 'acc': 0.9974166666666666}, 'test': {'inputs': array([[0., 0., 0., ..., 0., 0., 0.],\n",
      "       [0., 0., 0., ..., 0., 0., 0.],\n",
      "       [0., 0., 0., ..., 0., 0., 0.],\n",
      "       ...,\n",
      "       [0., 0., 0., ..., 0., 0., 0.],\n",
      "       [0., 0., 0., ..., 0., 0., 0.],\n",
      "       [0., 0., 0., ..., 0., 0., 0.]], dtype=float32), 'labels': array([7, 2, 1, ..., 4, 5, 6], dtype=int64), 'outputs': array([[  1.630688  ,  -0.04166853,   4.108598  , ...,  18.655418  ,\n",
      "         -1.2787966 ,   6.556686  ],\n",
      "       [  4.043109  ,  10.433461  ,  25.797873  , ...,   1.6476958 ,\n",
      "         10.851709  , -20.86624   ],\n",
      "       [ -5.6751556 ,  13.383316  ,   0.35509914, ...,   2.949336  ,\n",
      "          2.946951  ,  -5.6980405 ],\n",
      "       ...,\n",
      "       [ -7.072607  ,   5.6595907 , -13.231695  , ...,   0.65011954,\n",
      "          0.30689195,  10.645614  ],\n",
      "       [  1.8184018 , -10.1170225 , -17.202223  , ..., -16.723804  ,\n",
      "         12.188196  ,   5.21556   ],\n",
      "       [  7.1070375 , -10.14752   ,   3.0212479 , ..., -19.356472  ,\n",
      "         -0.07063895, -10.651494  ]], dtype=float32), 'preds': array([7, 2, 1, ..., 4, 5, 6], dtype=int64), 'loss': 0.09766780805922026, 'acc': 0.9788}}\n"
     ]
    }
   ],
   "source": [
    "print(stats)"
   ]
  },
  {
   "cell_type": "code",
   "execution_count": null,
   "id": "d6846c33",
   "metadata": {},
   "outputs": [],
   "source": []
  }
 ],
 "metadata": {
  "kernelspec": {
   "display_name": "Python 3",
   "language": "python",
   "name": "python3"
  },
  "language_info": {
   "codemirror_mode": {
    "name": "ipython",
    "version": 3
   },
   "file_extension": ".py",
   "mimetype": "text/x-python",
   "name": "python",
   "nbconvert_exporter": "python",
   "pygments_lexer": "ipython3",
   "version": "3.8.8"
  }
 },
 "nbformat": 4,
 "nbformat_minor": 5
}
