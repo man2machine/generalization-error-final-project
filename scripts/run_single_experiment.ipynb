{
 "cells": [
  {
   "cell_type": "code",
   "execution_count": 1,
   "id": "negative-german",
   "metadata": {},
   "outputs": [],
   "source": [
    "import os\n",
    "import numpy as np\n",
    "import torch\n",
    "import torchvision\n",
    "from torchsummary import summary\n",
    "\n",
    "from project_18408.datasets import *\n",
    "from project_18408.evaluation import *\n",
    "from project_18408.experiments import *\n",
    "from project_18408.utils import *"
   ]
  },
  {
   "cell_type": "code",
   "execution_count": 2,
   "id": "applied-bullet",
   "metadata": {},
   "outputs": [
    {
     "name": "stdout",
     "output_type": "stream",
     "text": [
      "PyTorch Version: 1.8.0\n",
      "Torchvision Version: 0.9.0\n",
      "Using the GPU!\n"
     ]
    }
   ],
   "source": [
    "print(\"PyTorch Version:\", torch.__version__)\n",
    "print(\"Torchvision Version:\", torchvision.__version__)\n",
    "# Detect if we have a GPU available\n",
    "device = torch.device(\"cuda\" if torch.cuda.is_available() else \"cpu\")\n",
    "if torch.cuda.is_available():\n",
    "    print(\"Using the GPU!\")\n",
    "else:\n",
    "    print(\"WARNING: Could not find GPU! Using CPU only\")"
   ]
  },
  {
   "cell_type": "code",
   "execution_count": 3,
   "id": "afraid-publicity",
   "metadata": {},
   "outputs": [],
   "source": [
    "img_dataset_type = ImageDatasetType.MNIST\n",
    "dataset_config = DatasetConfig(\n",
    "    dataset_type=DatasetType.IMG,\n",
    "    dataset_config=ImageDatasetConfig(\n",
    "        img_dataset_type=img_dataset_type,\n",
    "        num_train_samples=60000,\n",
    "        corrupt_frac=0,\n",
    "        flatten=True,\n",
    "        seed=0\n",
    "    )\n",
    ")\n",
    "\n",
    "input_dim = IMG_DATASET_TO_IMG_SIZE_FLAT[img_dataset_type]\n",
    "output_dim = IMG_DATASET_TO_NUM_CLASSES[img_dataset_type]\n",
    "\n",
    "model_config = ModelConfig(\n",
    "    model_type=ModelType.RELU_TOY,\n",
    "    model_config=ReLUModelConfig(\n",
    "        input_dim=input_dim,\n",
    "        output_dim=output_dim,\n",
    "        layer_dims=[100, 100, 100, 100]\n",
    "    )\n",
    ")\n",
    "\n",
    "training_config = TrainingConfig(\n",
    "    optimizer_type=OptimizerType.SGD_MOMENTUM,\n",
    "    loss_type=LossType.CROSS_ENTROPY,\n",
    "    num_epochs=20,\n",
    "    weight_decay=1e-4,\n",
    "    lr=0.01\n",
    ")\n",
    "\n",
    "experiment_config = ExperimentConfig(\n",
    "    dataset_config=dataset_config,\n",
    "    model_config=model_config,\n",
    "    training_config=training_config,\n",
    "    trial_index=0\n",
    ")"
   ]
  },
  {
   "cell_type": "code",
   "execution_count": 4,
   "id": "5e19cf83",
   "metadata": {},
   "outputs": [
    {
     "name": "stdout",
     "output_type": "stream",
     "text": [
      "{'dataset_config': {'dataset_type': 'img', 'dataset_config': {'img_dataset_type': 'mnist', 'num_train_samples': 60000, 'num_test_samples': 10000, 'new_input_size': None, 'flatten': True, 'augment': False, 'corrupt_frac': 0, 'seed': 0}}, 'model_config': {'model_type': 'relu_toy', 'model_config': {'input_dim': 784, 'output_dim': 10, 'layer_dims': [100, 100, 100, 100], 'bias': False, 'seed': None}}, 'training_config': {'optimizer_type': 'sgd_momentum', 'loss_type': 'cross_entropy', 'lr': 0.01, 'num_epochs': 20, 'clip_grad_norm': False, 'weight_decay': 0.0001, 'use_lr_schedule': False, 'epoch_lr_decay_steps': None, 'lr_decay_gamma': None}, 'trial_index': 0}\n"
     ]
    }
   ],
   "source": [
    "print(experiment_config)"
   ]
  },
  {
   "cell_type": "code",
   "execution_count": 5,
   "id": "buried-edmonton",
   "metadata": {},
   "outputs": [],
   "source": [
    "data_dir = get_rel_pkg_path(\"dataset/\")\n",
    "experiment_dir = get_rel_pkg_path(\"experiments/\")"
   ]
  },
  {
   "cell_type": "code",
   "execution_count": 6,
   "id": "eastern-dakota",
   "metadata": {},
   "outputs": [],
   "source": [
    "manager = ExperimentManager(data_dir, experiment_dir)"
   ]
  },
  {
   "cell_type": "code",
   "execution_count": 7,
   "id": "af537e0f",
   "metadata": {},
   "outputs": [
    {
     "data": {
      "text/plain": [
       "'11cdfa06be74fd71'"
      ]
     },
     "execution_count": 7,
     "metadata": {},
     "output_type": "execute_result"
    }
   ],
   "source": [
    "manager.add_experiment(experiment_config, exist_ok=True)"
   ]
  },
  {
   "cell_type": "code",
   "execution_count": 8,
   "id": "ca86a659",
   "metadata": {},
   "outputs": [
    {
     "name": "stderr",
     "output_type": "stream",
     "text": [
      "\r",
      "  0%|                                                                                          | 0/469 [00:00<?, ?it/s]"
     ]
    },
    {
     "name": "stdout",
     "output_type": "stream",
     "text": [
      "Epoch 1/20\n",
      "----------\n",
      "Training\n"
     ]
    },
    {
     "name": "stderr",
     "output_type": "stream",
     "text": [
      "Avgerage Loss: 1.5839, Current Loss: 0.4523: 100%|██████████████████████████████████| 469/469 [00:04<00:00, 108.00it/s]\n",
      "  0%|                                                                                           | 0/79 [00:00<?, ?it/s]"
     ]
    },
    {
     "name": "stdout",
     "output_type": "stream",
     "text": [
      "Training Loss: 1.5839\n",
      "Training Accuracy: 0.4431\n",
      "Testing\n"
     ]
    },
    {
     "name": "stderr",
     "output_type": "stream",
     "text": [
      "100%|██████████████████████████████████████████████████████████████████████████████████| 79/79 [00:02<00:00, 31.77it/s]\n",
      "  0%|                                                                                          | 0/469 [00:00<?, ?it/s]"
     ]
    },
    {
     "name": "stdout",
     "output_type": "stream",
     "text": [
      "Testing loss 0.4737\n",
      "Testing accuracy 0.8561\n",
      "\n",
      "Epoch 2/20\n",
      "----------\n",
      "Training\n"
     ]
    },
    {
     "name": "stderr",
     "output_type": "stream",
     "text": [
      "Avgerage Loss: 0.3455, Current Loss: 0.3156: 100%|██████████████████████████████████| 469/469 [00:04<00:00, 117.12it/s]\n",
      "  0%|                                                                                           | 0/79 [00:00<?, ?it/s]"
     ]
    },
    {
     "name": "stdout",
     "output_type": "stream",
     "text": [
      "Training Loss: 0.3455\n",
      "Training Accuracy: 0.8994\n",
      "Testing\n"
     ]
    },
    {
     "name": "stderr",
     "output_type": "stream",
     "text": [
      "100%|██████████████████████████████████████████████████████████████████████████████████| 79/79 [00:02<00:00, 34.72it/s]\n",
      "  0%|                                                                                          | 0/469 [00:00<?, ?it/s]"
     ]
    },
    {
     "name": "stdout",
     "output_type": "stream",
     "text": [
      "Testing loss 0.2429\n",
      "Testing accuracy 0.9283\n",
      "\n",
      "Epoch 3/20\n",
      "----------\n",
      "Training\n"
     ]
    },
    {
     "name": "stderr",
     "output_type": "stream",
     "text": [
      "Avgerage Loss: 0.2078, Current Loss: 0.2962: 100%|██████████████████████████████████| 469/469 [00:03<00:00, 117.31it/s]\n",
      "  0%|                                                                                           | 0/79 [00:00<?, ?it/s]"
     ]
    },
    {
     "name": "stdout",
     "output_type": "stream",
     "text": [
      "Training Loss: 0.2078\n",
      "Training Accuracy: 0.9397\n",
      "Testing\n"
     ]
    },
    {
     "name": "stderr",
     "output_type": "stream",
     "text": [
      "100%|██████████████████████████████████████████████████████████████████████████████████| 79/79 [00:02<00:00, 34.35it/s]\n",
      "  0%|                                                                                          | 0/469 [00:00<?, ?it/s]"
     ]
    },
    {
     "name": "stdout",
     "output_type": "stream",
     "text": [
      "Testing loss 0.1824\n",
      "Testing accuracy 0.9450\n",
      "\n",
      "Epoch 4/20\n",
      "----------\n",
      "Training\n"
     ]
    },
    {
     "name": "stderr",
     "output_type": "stream",
     "text": [
      "Avgerage Loss: 0.1524, Current Loss: 0.0682: 100%|██████████████████████████████████| 469/469 [00:03<00:00, 120.01it/s]\n",
      "  0%|                                                                                           | 0/79 [00:00<?, ?it/s]"
     ]
    },
    {
     "name": "stdout",
     "output_type": "stream",
     "text": [
      "Training Loss: 0.1524\n",
      "Training Accuracy: 0.9537\n",
      "Testing\n"
     ]
    },
    {
     "name": "stderr",
     "output_type": "stream",
     "text": [
      "100%|██████████████████████████████████████████████████████████████████████████████████| 79/79 [00:02<00:00, 34.14it/s]\n",
      "  0%|                                                                                          | 0/469 [00:00<?, ?it/s]"
     ]
    },
    {
     "name": "stdout",
     "output_type": "stream",
     "text": [
      "Testing loss 0.1345\n",
      "Testing accuracy 0.9598\n",
      "\n",
      "Epoch 5/20\n",
      "----------\n",
      "Training\n"
     ]
    },
    {
     "name": "stderr",
     "output_type": "stream",
     "text": [
      "Avgerage Loss: 0.1215, Current Loss: 0.2447: 100%|██████████████████████████████████| 469/469 [00:03<00:00, 120.53it/s]\n",
      "  0%|                                                                                           | 0/79 [00:00<?, ?it/s]"
     ]
    },
    {
     "name": "stdout",
     "output_type": "stream",
     "text": [
      "Training Loss: 0.1215\n",
      "Training Accuracy: 0.9641\n",
      "Testing\n"
     ]
    },
    {
     "name": "stderr",
     "output_type": "stream",
     "text": [
      "100%|██████████████████████████████████████████████████████████████████████████████████| 79/79 [00:02<00:00, 34.30it/s]\n",
      "  0%|                                                                                          | 0/469 [00:00<?, ?it/s]"
     ]
    },
    {
     "name": "stdout",
     "output_type": "stream",
     "text": [
      "Testing loss 0.1170\n",
      "Testing accuracy 0.9646\n",
      "\n",
      "Epoch 6/20\n",
      "----------\n",
      "Training\n"
     ]
    },
    {
     "name": "stderr",
     "output_type": "stream",
     "text": [
      "Avgerage Loss: 0.0999, Current Loss: 0.0834: 100%|██████████████████████████████████| 469/469 [00:03<00:00, 119.82it/s]\n",
      "  0%|                                                                                           | 0/79 [00:00<?, ?it/s]"
     ]
    },
    {
     "name": "stdout",
     "output_type": "stream",
     "text": [
      "Training Loss: 0.0999\n",
      "Training Accuracy: 0.9699\n",
      "Testing\n"
     ]
    },
    {
     "name": "stderr",
     "output_type": "stream",
     "text": [
      "100%|██████████████████████████████████████████████████████████████████████████████████| 79/79 [00:02<00:00, 34.04it/s]\n",
      "  0%|                                                                                          | 0/469 [00:00<?, ?it/s]"
     ]
    },
    {
     "name": "stdout",
     "output_type": "stream",
     "text": [
      "Testing loss 0.1085\n",
      "Testing accuracy 0.9659\n",
      "\n",
      "Epoch 7/20\n",
      "----------\n",
      "Training\n"
     ]
    },
    {
     "name": "stderr",
     "output_type": "stream",
     "text": [
      "Avgerage Loss: 0.0837, Current Loss: 0.1261: 100%|██████████████████████████████████| 469/469 [00:03<00:00, 123.87it/s]\n",
      "  0%|                                                                                           | 0/79 [00:00<?, ?it/s]"
     ]
    },
    {
     "name": "stdout",
     "output_type": "stream",
     "text": [
      "Training Loss: 0.0837\n",
      "Training Accuracy: 0.9748\n",
      "Testing\n"
     ]
    },
    {
     "name": "stderr",
     "output_type": "stream",
     "text": [
      "100%|██████████████████████████████████████████████████████████████████████████████████| 79/79 [00:02<00:00, 32.21it/s]\n",
      "  0%|                                                                                          | 0/469 [00:00<?, ?it/s]"
     ]
    },
    {
     "name": "stdout",
     "output_type": "stream",
     "text": [
      "Testing loss 0.1065\n",
      "Testing accuracy 0.9688\n",
      "\n",
      "Epoch 8/20\n",
      "----------\n",
      "Training\n"
     ]
    },
    {
     "name": "stderr",
     "output_type": "stream",
     "text": [
      "Avgerage Loss: 0.0716, Current Loss: 0.0106: 100%|██████████████████████████████████| 469/469 [00:03<00:00, 121.32it/s]\n",
      "  0%|                                                                                           | 0/79 [00:00<?, ?it/s]"
     ]
    },
    {
     "name": "stdout",
     "output_type": "stream",
     "text": [
      "Training Loss: 0.0716\n",
      "Training Accuracy: 0.9783\n",
      "Testing\n"
     ]
    },
    {
     "name": "stderr",
     "output_type": "stream",
     "text": [
      "100%|██████████████████████████████████████████████████████████████████████████████████| 79/79 [00:02<00:00, 33.31it/s]\n",
      "  0%|                                                                                          | 0/469 [00:00<?, ?it/s]"
     ]
    },
    {
     "name": "stdout",
     "output_type": "stream",
     "text": [
      "Testing loss 0.1091\n",
      "Testing accuracy 0.9674\n",
      "\n",
      "Epoch 9/20\n",
      "----------\n",
      "Training\n"
     ]
    },
    {
     "name": "stderr",
     "output_type": "stream",
     "text": [
      "Avgerage Loss: 0.0622, Current Loss: 0.0070: 100%|██████████████████████████████████| 469/469 [00:03<00:00, 123.67it/s]\n",
      "  0%|                                                                                           | 0/79 [00:00<?, ?it/s]"
     ]
    },
    {
     "name": "stdout",
     "output_type": "stream",
     "text": [
      "Training Loss: 0.0622\n",
      "Training Accuracy: 0.9808\n",
      "Testing\n"
     ]
    },
    {
     "name": "stderr",
     "output_type": "stream",
     "text": [
      "100%|██████████████████████████████████████████████████████████████████████████████████| 79/79 [00:02<00:00, 33.36it/s]\n",
      "  0%|                                                                                          | 0/469 [00:00<?, ?it/s]"
     ]
    },
    {
     "name": "stdout",
     "output_type": "stream",
     "text": [
      "Testing loss 0.0949\n",
      "Testing accuracy 0.9707\n",
      "\n",
      "Epoch 10/20\n",
      "----------\n",
      "Training\n"
     ]
    },
    {
     "name": "stderr",
     "output_type": "stream",
     "text": [
      "Avgerage Loss: 0.0535, Current Loss: 0.0364: 100%|██████████████████████████████████| 469/469 [00:03<00:00, 122.08it/s]\n",
      "  0%|                                                                                           | 0/79 [00:00<?, ?it/s]"
     ]
    },
    {
     "name": "stdout",
     "output_type": "stream",
     "text": [
      "Training Loss: 0.0535\n",
      "Training Accuracy: 0.9839\n",
      "Testing\n"
     ]
    },
    {
     "name": "stderr",
     "output_type": "stream",
     "text": [
      "100%|██████████████████████████████████████████████████████████████████████████████████| 79/79 [00:02<00:00, 32.64it/s]\n",
      "  0%|                                                                                          | 0/469 [00:00<?, ?it/s]"
     ]
    },
    {
     "name": "stdout",
     "output_type": "stream",
     "text": [
      "Testing loss 0.0899\n",
      "Testing accuracy 0.9731\n",
      "\n",
      "Epoch 11/20\n",
      "----------\n",
      "Training\n"
     ]
    },
    {
     "name": "stderr",
     "output_type": "stream",
     "text": [
      "Avgerage Loss: 0.0487, Current Loss: 0.0278: 100%|██████████████████████████████████| 469/469 [00:03<00:00, 121.00it/s]\n",
      "  0%|                                                                                           | 0/79 [00:00<?, ?it/s]"
     ]
    },
    {
     "name": "stdout",
     "output_type": "stream",
     "text": [
      "Training Loss: 0.0487\n",
      "Training Accuracy: 0.9850\n",
      "Testing\n"
     ]
    },
    {
     "name": "stderr",
     "output_type": "stream",
     "text": [
      "100%|██████████████████████████████████████████████████████████████████████████████████| 79/79 [00:02<00:00, 32.94it/s]\n",
      "  0%|                                                                                          | 0/469 [00:00<?, ?it/s]"
     ]
    },
    {
     "name": "stdout",
     "output_type": "stream",
     "text": [
      "Testing loss 0.0882\n",
      "Testing accuracy 0.9727\n",
      "\n",
      "Epoch 12/20\n",
      "----------\n",
      "Training\n"
     ]
    },
    {
     "name": "stderr",
     "output_type": "stream",
     "text": [
      "Avgerage Loss: 0.0425, Current Loss: 0.0524: 100%|██████████████████████████████████| 469/469 [00:03<00:00, 119.23it/s]\n",
      "  0%|                                                                                           | 0/79 [00:00<?, ?it/s]"
     ]
    },
    {
     "name": "stdout",
     "output_type": "stream",
     "text": [
      "Training Loss: 0.0425\n",
      "Training Accuracy: 0.9866\n",
      "Testing\n"
     ]
    },
    {
     "name": "stderr",
     "output_type": "stream",
     "text": [
      "100%|██████████████████████████████████████████████████████████████████████████████████| 79/79 [00:02<00:00, 33.85it/s]\n",
      "  0%|                                                                                          | 0/469 [00:00<?, ?it/s]"
     ]
    },
    {
     "name": "stdout",
     "output_type": "stream",
     "text": [
      "Testing loss 0.1017\n",
      "Testing accuracy 0.9711\n",
      "\n",
      "Epoch 13/20\n",
      "----------\n",
      "Training\n"
     ]
    },
    {
     "name": "stderr",
     "output_type": "stream",
     "text": [
      "Avgerage Loss: 0.0370, Current Loss: 0.0757: 100%|██████████████████████████████████| 469/469 [00:03<00:00, 120.73it/s]\n",
      "  0%|                                                                                           | 0/79 [00:00<?, ?it/s]"
     ]
    },
    {
     "name": "stdout",
     "output_type": "stream",
     "text": [
      "Training Loss: 0.0370\n",
      "Training Accuracy: 0.9883\n",
      "Testing\n"
     ]
    },
    {
     "name": "stderr",
     "output_type": "stream",
     "text": [
      "100%|██████████████████████████████████████████████████████████████████████████████████| 79/79 [00:02<00:00, 31.56it/s]\n",
      "  0%|                                                                                          | 0/469 [00:00<?, ?it/s]"
     ]
    },
    {
     "name": "stdout",
     "output_type": "stream",
     "text": [
      "Testing loss 0.0867\n",
      "Testing accuracy 0.9742\n",
      "\n",
      "Epoch 14/20\n",
      "----------\n",
      "Training\n"
     ]
    },
    {
     "name": "stderr",
     "output_type": "stream",
     "text": [
      "Avgerage Loss: 0.0327, Current Loss: 0.0621: 100%|██████████████████████████████████| 469/469 [00:03<00:00, 120.44it/s]\n",
      "  0%|                                                                                           | 0/79 [00:00<?, ?it/s]"
     ]
    },
    {
     "name": "stdout",
     "output_type": "stream",
     "text": [
      "Training Loss: 0.0327\n",
      "Training Accuracy: 0.9898\n",
      "Testing\n"
     ]
    },
    {
     "name": "stderr",
     "output_type": "stream",
     "text": [
      "100%|██████████████████████████████████████████████████████████████████████████████████| 79/79 [00:02<00:00, 32.57it/s]\n",
      "  0%|                                                                                          | 0/469 [00:00<?, ?it/s]"
     ]
    },
    {
     "name": "stdout",
     "output_type": "stream",
     "text": [
      "Testing loss 0.0882\n",
      "Testing accuracy 0.9734\n",
      "\n",
      "Epoch 15/20\n",
      "----------\n",
      "Training\n"
     ]
    },
    {
     "name": "stderr",
     "output_type": "stream",
     "text": [
      "Avgerage Loss: 0.0294, Current Loss: 0.0537: 100%|██████████████████████████████████| 469/469 [00:03<00:00, 123.16it/s]\n",
      "  0%|                                                                                           | 0/79 [00:00<?, ?it/s]"
     ]
    },
    {
     "name": "stdout",
     "output_type": "stream",
     "text": [
      "Training Loss: 0.0294\n",
      "Training Accuracy: 0.9910\n",
      "Testing\n"
     ]
    },
    {
     "name": "stderr",
     "output_type": "stream",
     "text": [
      "100%|██████████████████████████████████████████████████████████████████████████████████| 79/79 [00:02<00:00, 33.01it/s]\n",
      "  0%|                                                                                          | 0/469 [00:00<?, ?it/s]"
     ]
    },
    {
     "name": "stdout",
     "output_type": "stream",
     "text": [
      "Testing loss 0.0827\n",
      "Testing accuracy 0.9768\n",
      "\n",
      "Epoch 16/20\n",
      "----------\n",
      "Training\n"
     ]
    },
    {
     "name": "stderr",
     "output_type": "stream",
     "text": [
      "Avgerage Loss: 0.0242, Current Loss: 0.0068: 100%|██████████████████████████████████| 469/469 [00:03<00:00, 120.79it/s]\n",
      "  0%|                                                                                           | 0/79 [00:00<?, ?it/s]"
     ]
    },
    {
     "name": "stdout",
     "output_type": "stream",
     "text": [
      "Training Loss: 0.0242\n",
      "Training Accuracy: 0.9926\n",
      "Testing\n"
     ]
    },
    {
     "name": "stderr",
     "output_type": "stream",
     "text": [
      "100%|██████████████████████████████████████████████████████████████████████████████████| 79/79 [00:02<00:00, 32.60it/s]\n",
      "  0%|                                                                                          | 0/469 [00:00<?, ?it/s]"
     ]
    },
    {
     "name": "stdout",
     "output_type": "stream",
     "text": [
      "Testing loss 0.0862\n",
      "Testing accuracy 0.9772\n",
      "\n",
      "Epoch 17/20\n",
      "----------\n",
      "Training\n"
     ]
    },
    {
     "name": "stderr",
     "output_type": "stream",
     "text": [
      "Avgerage Loss: 0.0236, Current Loss: 0.0195: 100%|██████████████████████████████████| 469/469 [00:03<00:00, 117.56it/s]\n",
      "  0%|                                                                                           | 0/79 [00:00<?, ?it/s]"
     ]
    },
    {
     "name": "stdout",
     "output_type": "stream",
     "text": [
      "Training Loss: 0.0236\n",
      "Training Accuracy: 0.9929\n",
      "Testing\n"
     ]
    },
    {
     "name": "stderr",
     "output_type": "stream",
     "text": [
      "100%|██████████████████████████████████████████████████████████████████████████████████| 79/79 [00:02<00:00, 33.25it/s]\n",
      "  0%|                                                                                          | 0/469 [00:00<?, ?it/s]"
     ]
    },
    {
     "name": "stdout",
     "output_type": "stream",
     "text": [
      "Testing loss 0.1031\n",
      "Testing accuracy 0.9721\n",
      "\n",
      "Epoch 18/20\n",
      "----------\n",
      "Training\n"
     ]
    },
    {
     "name": "stderr",
     "output_type": "stream",
     "text": [
      "Avgerage Loss: 0.0217, Current Loss: 0.0206: 100%|██████████████████████████████████| 469/469 [00:03<00:00, 123.00it/s]\n",
      "  0%|                                                                                           | 0/79 [00:00<?, ?it/s]"
     ]
    },
    {
     "name": "stdout",
     "output_type": "stream",
     "text": [
      "Training Loss: 0.0217\n",
      "Training Accuracy: 0.9933\n",
      "Testing\n"
     ]
    },
    {
     "name": "stderr",
     "output_type": "stream",
     "text": [
      "100%|██████████████████████████████████████████████████████████████████████████████████| 79/79 [00:02<00:00, 32.75it/s]\n",
      "  0%|                                                                                          | 0/469 [00:00<?, ?it/s]"
     ]
    },
    {
     "name": "stdout",
     "output_type": "stream",
     "text": [
      "Testing loss 0.0901\n",
      "Testing accuracy 0.9756\n",
      "\n",
      "Epoch 19/20\n",
      "----------\n",
      "Training\n"
     ]
    },
    {
     "name": "stderr",
     "output_type": "stream",
     "text": [
      "Avgerage Loss: 0.0220, Current Loss: 0.0329: 100%|██████████████████████████████████| 469/469 [00:03<00:00, 120.86it/s]\n",
      "  0%|                                                                                           | 0/79 [00:00<?, ?it/s]"
     ]
    },
    {
     "name": "stdout",
     "output_type": "stream",
     "text": [
      "Training Loss: 0.0220\n",
      "Training Accuracy: 0.9929\n",
      "Testing\n"
     ]
    },
    {
     "name": "stderr",
     "output_type": "stream",
     "text": [
      "100%|██████████████████████████████████████████████████████████████████████████████████| 79/79 [00:02<00:00, 33.34it/s]\n",
      "  0%|                                                                                          | 0/469 [00:00<?, ?it/s]"
     ]
    },
    {
     "name": "stdout",
     "output_type": "stream",
     "text": [
      "Testing loss 0.0982\n",
      "Testing accuracy 0.9732\n",
      "\n",
      "Epoch 20/20\n",
      "----------\n",
      "Training\n"
     ]
    },
    {
     "name": "stderr",
     "output_type": "stream",
     "text": [
      "Avgerage Loss: 0.0188, Current Loss: 0.0089: 100%|██████████████████████████████████| 469/469 [00:04<00:00, 117.10it/s]\n",
      "  0%|                                                                                           | 0/79 [00:00<?, ?it/s]"
     ]
    },
    {
     "name": "stdout",
     "output_type": "stream",
     "text": [
      "Training Loss: 0.0188\n",
      "Training Accuracy: 0.9942\n",
      "Testing\n"
     ]
    },
    {
     "name": "stderr",
     "output_type": "stream",
     "text": [
      "100%|██████████████████████████████████████████████████████████████████████████████████| 79/79 [00:02<00:00, 33.34it/s]"
     ]
    },
    {
     "name": "stdout",
     "output_type": "stream",
     "text": [
      "Testing loss 0.0960\n",
      "Testing accuracy 0.9735\n",
      "\n",
      "Training complete in 2m 6s\n",
      "Saved session to C:\\Users\\Windows\\Desktop\\Shahir\\18.408\\18408-final-project\\experiments\\11cdfa06be74fd71\\sessions\\Session 05-17-2021 05-51-45 AM\n"
     ]
    },
    {
     "name": "stderr",
     "output_type": "stream",
     "text": [
      "\n"
     ]
    }
   ],
   "source": [
    "setup, state = manager.run_training(experiment_config, device, completed_ok=True)"
   ]
  },
  {
   "cell_type": "code",
   "execution_count": 9,
   "id": "0bd2d3f1",
   "metadata": {},
   "outputs": [
    {
     "name": "stdout",
     "output_type": "stream",
     "text": [
      "Loaded session from C:\\Users\\Windows\\Desktop\\Shahir\\18.408\\18408-final-project\\experiments\\11cdfa06be74fd71\\sessions\\Session 05-17-2021 05-51-45 AM\n"
     ]
    }
   ],
   "source": [
    "setup, state = manager.load_experiment(experiment_config, device)"
   ]
  },
  {
   "cell_type": "code",
   "execution_count": 10,
   "id": "4afd850d",
   "metadata": {},
   "outputs": [
    {
     "name": "stderr",
     "output_type": "stream",
     "text": [
      "\r",
      "  0%|                                                                                          | 0/469 [00:00<?, ?it/s]"
     ]
    },
    {
     "name": "stdout",
     "output_type": "stream",
     "text": [
      "Loaded session from C:\\Users\\Windows\\Desktop\\Shahir\\18.408\\18408-final-project\\experiments\\11cdfa06be74fd71\\sessions\\Session 05-17-2021 05-51-45 AM\n"
     ]
    },
    {
     "name": "stderr",
     "output_type": "stream",
     "text": [
      "100%|███████████████████████████████████████████████████████████████████████████████| 469/469 [00:03<00:00, 132.79it/s]\n",
      "100%|██████████████████████████████████████████████████████████████████████████████████| 79/79 [00:02<00:00, 32.43it/s]\n"
     ]
    }
   ],
   "source": [
    "stats = manager.run_stats(experiment_config, device)"
   ]
  },
  {
   "cell_type": "code",
   "execution_count": 11,
   "id": "1c2fc078",
   "metadata": {},
   "outputs": [
    {
     "name": "stdout",
     "output_type": "stream",
     "text": [
      "{'train': {'inputs': array([[0., 0., 0., ..., 0., 0., 0.],\n",
      "       [0., 0., 0., ..., 0., 0., 0.],\n",
      "       [0., 0., 0., ..., 0., 0., 0.],\n",
      "       ...,\n",
      "       [0., 0., 0., ..., 0., 0., 0.],\n",
      "       [0., 0., 0., ..., 0., 0., 0.],\n",
      "       [0., 0., 0., ..., 0., 0., 0.]], dtype=float32), 'labels': array([4, 1, 2, ..., 1, 9, 8], dtype=int64), 'outputs': array([[ -3.6655405 ,  -5.790785  ,  -0.7582369 , ...,  -0.18891889,\n",
      "         -3.0435112 ,   3.9392934 ],\n",
      "       [-13.5473995 ,  18.212687  ,   0.1635935 , ...,   3.8387885 ,\n",
      "          4.457792  ,  -4.7824945 ],\n",
      "       [  5.201746  ,  -4.5643406 ,  24.537745  , ...,   5.056277  ,\n",
      "          5.2177405 ,  -8.22546   ],\n",
      "       ...,\n",
      "       [-11.781391  ,  17.014381  ,   1.1311958 , ...,   5.978708  ,\n",
      "          4.131478  ,  -3.8627946 ],\n",
      "       [ -5.8022714 ,  -5.0868125 ,  -3.6304297 , ...,   7.570735  ,\n",
      "          4.4798074 ,  19.206718  ],\n",
      "       [ -3.06314   ,  -1.2235568 ,  -1.6285355 , ...,  -8.011282  ,\n",
      "         18.569761  ,   3.45531   ]], dtype=float32), 'preds': array([4, 1, 2, ..., 1, 9, 8], dtype=int64), 'loss': 0.015899166652560234, 'acc': 0.9951833333333333}, 'test': {'inputs': array([[0., 0., 0., ..., 0., 0., 0.],\n",
      "       [0., 0., 0., ..., 0., 0., 0.],\n",
      "       [0., 0., 0., ..., 0., 0., 0.],\n",
      "       ...,\n",
      "       [0., 0., 0., ..., 0., 0., 0.],\n",
      "       [0., 0., 0., ..., 0., 0., 0.],\n",
      "       [0., 0., 0., ..., 0., 0., 0.]], dtype=float32), 'labels': array([7, 2, 1, ..., 4, 5, 6], dtype=int64), 'outputs': array([[ -4.6187806 ,   1.7556474 ,   5.511509  , ...,  17.559248  ,\n",
      "         -1.205846  ,   2.3499205 ],\n",
      "       [ -0.24425784,   4.5511084 ,  18.920238  , ...,   0.7762402 ,\n",
      "          4.176083  , -11.783915  ],\n",
      "       [ -9.100628  ,  13.039603  ,   1.242524  , ...,   4.6801014 ,\n",
      "          2.6797252 ,  -3.2446518 ],\n",
      "       ...,\n",
      "       [-12.108287  ,   1.8342953 ,  -5.0508323 , ...,   5.830573  ,\n",
      "         -1.2940158 ,  10.276187  ],\n",
      "       [ -0.16449073,  -4.4866204 , -12.553643  , ...,  -7.311074  ,\n",
      "          4.2246785 ,   2.335051  ],\n",
      "       [  3.629936  ,  -5.7018747 ,   4.1452193 , ..., -17.612106  ,\n",
      "          3.623646  , -10.834437  ]], dtype=float32), 'preds': array([7, 2, 1, ..., 4, 5, 6], dtype=int64), 'loss': 0.09597819837859715, 'acc': 0.9735}}\n"
     ]
    }
   ],
   "source": [
    "print(stats)"
   ]
  },
  {
   "cell_type": "code",
   "execution_count": null,
   "id": "efef6d2b",
   "metadata": {},
   "outputs": [],
   "source": []
  }
 ],
 "metadata": {
  "kernelspec": {
   "display_name": "Python 3",
   "language": "python",
   "name": "python3"
  },
  "language_info": {
   "codemirror_mode": {
    "name": "ipython",
    "version": 3
   },
   "file_extension": ".py",
   "mimetype": "text/x-python",
   "name": "python",
   "nbconvert_exporter": "python",
   "pygments_lexer": "ipython3",
   "version": "3.8.8"
  }
 },
 "nbformat": 4,
 "nbformat_minor": 5
}
