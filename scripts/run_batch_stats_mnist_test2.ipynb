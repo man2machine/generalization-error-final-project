{
 "cells": [
  {
   "cell_type": "code",
   "execution_count": 1,
   "id": "negative-german",
   "metadata": {},
   "outputs": [],
   "source": [
    "import os\n",
    "import json\n",
    "\n",
    "import numpy as np\n",
    "import torch\n",
    "import torchvision\n",
    "from torchsummary import summary\n",
    "\n",
    "from project_18408.datasets import *\n",
    "from project_18408.evaluation import *\n",
    "from project_18408.experiments import *\n",
    "from project_18408.utils import *"
   ]
  },
  {
   "cell_type": "code",
   "execution_count": 2,
   "id": "applied-bullet",
   "metadata": {},
   "outputs": [
    {
     "name": "stdout",
     "output_type": "stream",
     "text": [
      "PyTorch Version: 1.8.0\n",
      "Torchvision Version: 0.9.0\n",
      "Using the GPU!\n"
     ]
    }
   ],
   "source": [
    "print(\"PyTorch Version:\", torch.__version__)\n",
    "print(\"Torchvision Version:\", torchvision.__version__)\n",
    "# Detect if we have a GPU available\n",
    "device = torch.device(\"cuda\" if torch.cuda.is_available() else \"cpu\")\n",
    "if torch.cuda.is_available():\n",
    "    print(\"Using the GPU!\")\n",
    "else:\n",
    "    print(\"WARNING: Could not find GPU! Using CPU only\")"
   ]
  },
  {
   "cell_type": "code",
   "execution_count": 3,
   "id": "4a91c558",
   "metadata": {},
   "outputs": [],
   "source": [
    "data_dir = get_rel_pkg_path(\"dataset/\")\n",
    "experiment_dir = get_rel_pkg_path(\"experiments/\")"
   ]
  },
  {
   "cell_type": "code",
   "execution_count": 4,
   "id": "fc770c50",
   "metadata": {},
   "outputs": [],
   "source": [
    "manager = ExperimentManager(data_dir, experiment_dir)"
   ]
  },
  {
   "cell_type": "code",
   "execution_count": 5,
   "id": "70295b92",
   "metadata": {},
   "outputs": [],
   "source": [
    "configs_fname = \"experiment_configs_mnist_test2.json\""
   ]
  },
  {
   "cell_type": "code",
   "execution_count": 6,
   "id": "a8842de6",
   "metadata": {},
   "outputs": [],
   "source": [
    "with open(configs_fname, 'r') as f:\n",
    "    configs = json.load(f)\n",
    "configs = [ExperimentConfig.from_dict(c) for c in configs]"
   ]
  },
  {
   "cell_type": "code",
   "execution_count": 7,
   "id": "cf6e76aa",
   "metadata": {},
   "outputs": [],
   "source": [
    "def get_weight_norm_prod(model):\n",
    "    prod = 1\n",
    "    for layer in model.layers:\n",
    "        if isinstance(layer, nn.Linear):\n",
    "            v = layer.weight.norm().item()\n",
    "            prod *= v\n",
    "    return prod"
   ]
  },
  {
   "cell_type": "code",
   "execution_count": 8,
   "id": "e52e574a",
   "metadata": {
    "scrolled": true
   },
   "outputs": [
    {
     "name": "stderr",
     "output_type": "stream",
     "text": [
      "\r",
      "  0%|                                                                                          | 0/469 [00:00<?, ?it/s]"
     ]
    },
    {
     "name": "stdout",
     "output_type": "stream",
     "text": [
      "Loaded session from C:\\Users\\Windows\\Desktop\\Shahir\\18.408\\18408-final-project\\experiments\\44b333e88741f6ef\\sessions\\Session 05-19-2021 04-50-46 PM\n"
     ]
    },
    {
     "name": "stderr",
     "output_type": "stream",
     "text": [
      "100%|███████████████████████████████████████████████████████████████████████████████| 469/469 [00:04<00:00, 116.96it/s]\n",
      "100%|██████████████████████████████████████████████████████████████████████████████████| 79/79 [00:02<00:00, 31.07it/s]\n",
      "  0%|                                                                                          | 0/469 [00:00<?, ?it/s]"
     ]
    },
    {
     "name": "stdout",
     "output_type": "stream",
     "text": [
      "Loaded session from C:\\Users\\Windows\\Desktop\\Shahir\\18.408\\18408-final-project\\experiments\\716119bb47f5a05c\\sessions\\Session 05-19-2021 04-52-26 PM\n"
     ]
    },
    {
     "name": "stderr",
     "output_type": "stream",
     "text": [
      "100%|███████████████████████████████████████████████████████████████████████████████| 469/469 [00:03<00:00, 124.53it/s]\n",
      "100%|██████████████████████████████████████████████████████████████████████████████████| 79/79 [00:02<00:00, 30.60it/s]\n",
      "  0%|                                                                                          | 0/469 [00:00<?, ?it/s]"
     ]
    },
    {
     "name": "stdout",
     "output_type": "stream",
     "text": [
      "Loaded session from C:\\Users\\Windows\\Desktop\\Shahir\\18.408\\18408-final-project\\experiments\\f3cfd582c9b9a972\\sessions\\Session 05-19-2021 04-59-59 PM\n"
     ]
    },
    {
     "name": "stderr",
     "output_type": "stream",
     "text": [
      "100%|███████████████████████████████████████████████████████████████████████████████| 469/469 [00:03<00:00, 127.23it/s]\n",
      "100%|██████████████████████████████████████████████████████████████████████████████████| 79/79 [00:02<00:00, 31.99it/s]\n",
      "  0%|                                                                                          | 0/469 [00:00<?, ?it/s]"
     ]
    },
    {
     "name": "stdout",
     "output_type": "stream",
     "text": [
      "WARNING: LOW ACCURACY\n",
      "{'dataset_config': {'dataset_type': 'img', 'dataset_config': {'img_dataset_type': 'mnist', 'num_train_samples': 60000, 'num_test_samples': 10000, 'new_input_size': None, 'flatten': True, 'augment': False, 'corrupt_frac': 0.0, 'seed': 0}}, 'model_config': {'model_type': 'relu_toy', 'model_config': {'input_dim': 784, 'output_dim': 10, 'layer_dims': [], 'bias': True, 'seed': None}}, 'training_config': {'optimizer_type': 'sgd_momentum', 'loss_type': 'cross_entropy', 'lr': 0.01, 'num_epochs': 50, 'clip_grad_norm': False, 'weight_decay': 0.1, 'use_lr_schedule': False, 'epoch_lr_decay_steps': None, 'lr_decay_gamma': None, 'early_stop': True, 'early_stop_acc': 0.9, 'early_stop_patience': 5}, 'trial_index': 0}\n",
      "Loaded session from C:\\Users\\Windows\\Desktop\\Shahir\\18.408\\18408-final-project\\experiments\\f88dac12158f7350\\sessions\\Session 05-19-2021 05-07-41 PM\n"
     ]
    },
    {
     "name": "stderr",
     "output_type": "stream",
     "text": [
      "100%|███████████████████████████████████████████████████████████████████████████████| 469/469 [00:03<00:00, 128.84it/s]\n",
      "100%|██████████████████████████████████████████████████████████████████████████████████| 79/79 [00:02<00:00, 30.76it/s]\n",
      "  0%|                                                                                          | 0/469 [00:00<?, ?it/s]"
     ]
    },
    {
     "name": "stdout",
     "output_type": "stream",
     "text": [
      "Loaded session from C:\\Users\\Windows\\Desktop\\Shahir\\18.408\\18408-final-project\\experiments\\0b050f3f6a14b9bf\\sessions\\Session 05-19-2021 05-12-12 PM\n"
     ]
    },
    {
     "name": "stderr",
     "output_type": "stream",
     "text": [
      "100%|███████████████████████████████████████████████████████████████████████████████| 469/469 [00:03<00:00, 123.03it/s]\n",
      "100%|██████████████████████████████████████████████████████████████████████████████████| 79/79 [00:02<00:00, 31.08it/s]\n",
      "  0%|                                                                                          | 0/469 [00:00<?, ?it/s]"
     ]
    },
    {
     "name": "stdout",
     "output_type": "stream",
     "text": [
      "Loaded session from C:\\Users\\Windows\\Desktop\\Shahir\\18.408\\18408-final-project\\experiments\\ca1694869d61b24a\\sessions\\Session 05-19-2021 05-19-59 PM\n"
     ]
    },
    {
     "name": "stderr",
     "output_type": "stream",
     "text": [
      "100%|███████████████████████████████████████████████████████████████████████████████| 469/469 [00:03<00:00, 122.19it/s]\n",
      "100%|██████████████████████████████████████████████████████████████████████████████████| 79/79 [00:02<00:00, 30.95it/s]\n",
      "  0%|                                                                                          | 0/469 [00:00<?, ?it/s]"
     ]
    },
    {
     "name": "stdout",
     "output_type": "stream",
     "text": [
      "WARNING: LOW ACCURACY\n",
      "{'dataset_config': {'dataset_type': 'img', 'dataset_config': {'img_dataset_type': 'mnist', 'num_train_samples': 60000, 'num_test_samples': 10000, 'new_input_size': None, 'flatten': True, 'augment': False, 'corrupt_frac': 0.0, 'seed': 0}}, 'model_config': {'model_type': 'relu_toy', 'model_config': {'input_dim': 784, 'output_dim': 10, 'layer_dims': [100], 'bias': True, 'seed': None}}, 'training_config': {'optimizer_type': 'sgd_momentum', 'loss_type': 'cross_entropy', 'lr': 0.01, 'num_epochs': 50, 'clip_grad_norm': False, 'weight_decay': 0.1, 'use_lr_schedule': False, 'epoch_lr_decay_steps': None, 'lr_decay_gamma': None, 'early_stop': True, 'early_stop_acc': 0.9, 'early_stop_patience': 5}, 'trial_index': 0}\n",
      "Loaded session from C:\\Users\\Windows\\Desktop\\Shahir\\18.408\\18408-final-project\\experiments\\6dc3543b6c1a1764\\sessions\\Session 05-19-2021 05-24-51 PM\n"
     ]
    },
    {
     "name": "stderr",
     "output_type": "stream",
     "text": [
      "100%|███████████████████████████████████████████████████████████████████████████████| 469/469 [00:03<00:00, 126.34it/s]\n",
      "100%|██████████████████████████████████████████████████████████████████████████████████| 79/79 [00:02<00:00, 31.18it/s]\n",
      "  0%|                                                                                          | 0/469 [00:00<?, ?it/s]"
     ]
    },
    {
     "name": "stdout",
     "output_type": "stream",
     "text": [
      "Loaded session from C:\\Users\\Windows\\Desktop\\Shahir\\18.408\\18408-final-project\\experiments\\bc8947ac3ab84b26\\sessions\\Session 05-19-2021 05-30-04 PM\n"
     ]
    },
    {
     "name": "stderr",
     "output_type": "stream",
     "text": [
      "100%|███████████████████████████████████████████████████████████████████████████████| 469/469 [00:03<00:00, 122.44it/s]\n",
      "100%|██████████████████████████████████████████████████████████████████████████████████| 79/79 [00:02<00:00, 31.05it/s]\n",
      "  0%|                                                                                          | 0/469 [00:00<?, ?it/s]"
     ]
    },
    {
     "name": "stdout",
     "output_type": "stream",
     "text": [
      "Loaded session from C:\\Users\\Windows\\Desktop\\Shahir\\18.408\\18408-final-project\\experiments\\f16119680fd73e13\\sessions\\Session 05-19-2021 05-38-20 PM\n"
     ]
    },
    {
     "name": "stderr",
     "output_type": "stream",
     "text": [
      "100%|███████████████████████████████████████████████████████████████████████████████| 469/469 [00:03<00:00, 131.41it/s]\n",
      "100%|██████████████████████████████████████████████████████████████████████████████████| 79/79 [00:02<00:00, 32.40it/s]\n",
      "  0%|                                                                                          | 0/469 [00:00<?, ?it/s]"
     ]
    },
    {
     "name": "stdout",
     "output_type": "stream",
     "text": [
      "WARNING: LOW ACCURACY\n",
      "{'dataset_config': {'dataset_type': 'img', 'dataset_config': {'img_dataset_type': 'mnist', 'num_train_samples': 60000, 'num_test_samples': 10000, 'new_input_size': None, 'flatten': True, 'augment': False, 'corrupt_frac': 0.0, 'seed': 0}}, 'model_config': {'model_type': 'relu_toy', 'model_config': {'input_dim': 784, 'output_dim': 10, 'layer_dims': [100, 100], 'bias': True, 'seed': None}}, 'training_config': {'optimizer_type': 'sgd_momentum', 'loss_type': 'cross_entropy', 'lr': 0.01, 'num_epochs': 50, 'clip_grad_norm': False, 'weight_decay': 0.1, 'use_lr_schedule': False, 'epoch_lr_decay_steps': None, 'lr_decay_gamma': None, 'early_stop': True, 'early_stop_acc': 0.9, 'early_stop_patience': 5}, 'trial_index': 0}\n",
      "Loaded session from C:\\Users\\Windows\\Desktop\\Shahir\\18.408\\18408-final-project\\experiments\\23e792c32f5d72c2\\sessions\\Session 05-19-2021 05-41-30 PM\n"
     ]
    },
    {
     "name": "stderr",
     "output_type": "stream",
     "text": [
      "100%|███████████████████████████████████████████████████████████████████████████████| 469/469 [00:03<00:00, 135.51it/s]\n",
      "100%|██████████████████████████████████████████████████████████████████████████████████| 79/79 [00:02<00:00, 31.13it/s]\n",
      "  0%|                                                                                          | 0/469 [00:00<?, ?it/s]"
     ]
    },
    {
     "name": "stdout",
     "output_type": "stream",
     "text": [
      "Loaded session from C:\\Users\\Windows\\Desktop\\Shahir\\18.408\\18408-final-project\\experiments\\2546c661d445a238\\sessions\\Session 05-19-2021 05-46-00 PM\n"
     ]
    },
    {
     "name": "stderr",
     "output_type": "stream",
     "text": [
      "100%|███████████████████████████████████████████████████████████████████████████████| 469/469 [00:03<00:00, 131.42it/s]\n",
      "100%|██████████████████████████████████████████████████████████████████████████████████| 79/79 [00:02<00:00, 31.96it/s]\n",
      "  0%|                                                                                          | 0/469 [00:00<?, ?it/s]"
     ]
    },
    {
     "name": "stdout",
     "output_type": "stream",
     "text": [
      "Loaded session from C:\\Users\\Windows\\Desktop\\Shahir\\18.408\\18408-final-project\\experiments\\34598a7849cdff8c\\sessions\\Session 05-19-2021 05-54-44 PM\n"
     ]
    },
    {
     "name": "stderr",
     "output_type": "stream",
     "text": [
      "100%|███████████████████████████████████████████████████████████████████████████████| 469/469 [00:03<00:00, 130.97it/s]\n",
      "100%|██████████████████████████████████████████████████████████████████████████████████| 79/79 [00:02<00:00, 31.78it/s]\n",
      "  0%|                                                                                          | 0/469 [00:00<?, ?it/s]"
     ]
    },
    {
     "name": "stdout",
     "output_type": "stream",
     "text": [
      "WARNING: LOW ACCURACY\n",
      "{'dataset_config': {'dataset_type': 'img', 'dataset_config': {'img_dataset_type': 'mnist', 'num_train_samples': 60000, 'num_test_samples': 10000, 'new_input_size': None, 'flatten': True, 'augment': False, 'corrupt_frac': 0.0, 'seed': 0}}, 'model_config': {'model_type': 'relu_toy', 'model_config': {'input_dim': 784, 'output_dim': 10, 'layer_dims': [100, 100, 100, 100], 'bias': True, 'seed': None}}, 'training_config': {'optimizer_type': 'sgd_momentum', 'loss_type': 'cross_entropy', 'lr': 0.01, 'num_epochs': 50, 'clip_grad_norm': False, 'weight_decay': 0.1, 'use_lr_schedule': False, 'epoch_lr_decay_steps': None, 'lr_decay_gamma': None, 'early_stop': True, 'early_stop_acc': 0.9, 'early_stop_patience': 5}, 'trial_index': 0}\n",
      "Loaded session from C:\\Users\\Windows\\Desktop\\Shahir\\18.408\\18408-final-project\\experiments\\3638ed3f4448b30f\\sessions\\Session 05-19-2021 05-58-21 PM\n"
     ]
    },
    {
     "name": "stderr",
     "output_type": "stream",
     "text": [
      "100%|███████████████████████████████████████████████████████████████████████████████| 469/469 [00:03<00:00, 126.57it/s]\n",
      "100%|██████████████████████████████████████████████████████████████████████████████████| 79/79 [00:02<00:00, 31.74it/s]\n",
      "  0%|                                                                                          | 0/469 [00:00<?, ?it/s]"
     ]
    },
    {
     "name": "stdout",
     "output_type": "stream",
     "text": [
      "Loaded session from C:\\Users\\Windows\\Desktop\\Shahir\\18.408\\18408-final-project\\experiments\\827cdb88f8dc465c\\sessions\\Session 05-19-2021 06-07-11 PM\n"
     ]
    },
    {
     "name": "stderr",
     "output_type": "stream",
     "text": [
      "100%|███████████████████████████████████████████████████████████████████████████████| 469/469 [00:03<00:00, 133.58it/s]\n",
      "100%|██████████████████████████████████████████████████████████████████████████████████| 79/79 [00:02<00:00, 32.73it/s]\n",
      "  0%|                                                                                          | 0/469 [00:00<?, ?it/s]"
     ]
    },
    {
     "name": "stdout",
     "output_type": "stream",
     "text": [
      "WARNING: LOW ACCURACY\n",
      "{'dataset_config': {'dataset_type': 'img', 'dataset_config': {'img_dataset_type': 'mnist', 'num_train_samples': 60000, 'num_test_samples': 10000, 'new_input_size': None, 'flatten': True, 'augment': False, 'corrupt_frac': 0.0, 'seed': 0}}, 'model_config': {'model_type': 'relu_toy', 'model_config': {'input_dim': 784, 'output_dim': 10, 'layer_dims': [100, 100, 100, 100, 100, 100], 'bias': True, 'seed': None}}, 'training_config': {'optimizer_type': 'sgd_momentum', 'loss_type': 'cross_entropy', 'lr': 0.01, 'num_epochs': 50, 'clip_grad_norm': False, 'weight_decay': 0.01, 'use_lr_schedule': False, 'epoch_lr_decay_steps': None, 'lr_decay_gamma': None, 'early_stop': True, 'early_stop_acc': 0.9, 'early_stop_patience': 5}, 'trial_index': 0}\n",
      "Loaded session from C:\\Users\\Windows\\Desktop\\Shahir\\18.408\\18408-final-project\\experiments\\162696cc649a8201\\sessions\\Session 05-19-2021 06-16-18 PM\n"
     ]
    },
    {
     "name": "stderr",
     "output_type": "stream",
     "text": [
      "100%|███████████████████████████████████████████████████████████████████████████████| 469/469 [00:03<00:00, 127.92it/s]\n",
      "100%|██████████████████████████████████████████████████████████████████████████████████| 79/79 [00:02<00:00, 31.24it/s]\n",
      "  0%|                                                                                          | 0/469 [00:00<?, ?it/s]"
     ]
    },
    {
     "name": "stdout",
     "output_type": "stream",
     "text": [
      "WARNING: LOW ACCURACY\n",
      "{'dataset_config': {'dataset_type': 'img', 'dataset_config': {'img_dataset_type': 'mnist', 'num_train_samples': 60000, 'num_test_samples': 10000, 'new_input_size': None, 'flatten': True, 'augment': False, 'corrupt_frac': 0.0, 'seed': 0}}, 'model_config': {'model_type': 'relu_toy', 'model_config': {'input_dim': 784, 'output_dim': 10, 'layer_dims': [100, 100, 100, 100, 100, 100], 'bias': True, 'seed': None}}, 'training_config': {'optimizer_type': 'sgd_momentum', 'loss_type': 'cross_entropy', 'lr': 0.01, 'num_epochs': 50, 'clip_grad_norm': False, 'weight_decay': 0.1, 'use_lr_schedule': False, 'epoch_lr_decay_steps': None, 'lr_decay_gamma': None, 'early_stop': True, 'early_stop_acc': 0.9, 'early_stop_patience': 5}, 'trial_index': 0}\n",
      "Loaded session from C:\\Users\\Windows\\Desktop\\Shahir\\18.408\\18408-final-project\\experiments\\5cb241610e7ddaf1\\sessions\\Session 05-19-2021 06-22-32 PM\n"
     ]
    },
    {
     "name": "stderr",
     "output_type": "stream",
     "text": [
      "100%|███████████████████████████████████████████████████████████████████████████████| 469/469 [00:03<00:00, 132.14it/s]\n",
      "100%|██████████████████████████████████████████████████████████████████████████████████| 79/79 [00:02<00:00, 30.92it/s]\n",
      "  0%|                                                                                          | 0/469 [00:00<?, ?it/s]"
     ]
    },
    {
     "name": "stdout",
     "output_type": "stream",
     "text": [
      "Loaded session from C:\\Users\\Windows\\Desktop\\Shahir\\18.408\\18408-final-project\\experiments\\118a90f4f3627eb8\\sessions\\Session 05-19-2021 06-32-04 PM\n"
     ]
    },
    {
     "name": "stderr",
     "output_type": "stream",
     "text": [
      "100%|███████████████████████████████████████████████████████████████████████████████| 469/469 [00:03<00:00, 130.49it/s]\n",
      "100%|██████████████████████████████████████████████████████████████████████████████████| 79/79 [00:02<00:00, 31.26it/s]\n",
      "  0%|                                                                                          | 0/469 [00:00<?, ?it/s]"
     ]
    },
    {
     "name": "stdout",
     "output_type": "stream",
     "text": [
      "WARNING: LOW ACCURACY\n",
      "{'dataset_config': {'dataset_type': 'img', 'dataset_config': {'img_dataset_type': 'mnist', 'num_train_samples': 60000, 'num_test_samples': 10000, 'new_input_size': None, 'flatten': True, 'augment': False, 'corrupt_frac': 0.0, 'seed': 0}}, 'model_config': {'model_type': 'relu_toy', 'model_config': {'input_dim': 784, 'output_dim': 10, 'layer_dims': [100, 100, 100, 100, 100, 100, 100, 100], 'bias': True, 'seed': None}}, 'training_config': {'optimizer_type': 'sgd_momentum', 'loss_type': 'cross_entropy', 'lr': 0.01, 'num_epochs': 50, 'clip_grad_norm': False, 'weight_decay': 0.01, 'use_lr_schedule': False, 'epoch_lr_decay_steps': None, 'lr_decay_gamma': None, 'early_stop': True, 'early_stop_acc': 0.9, 'early_stop_patience': 5}, 'trial_index': 0}\n",
      "Loaded session from C:\\Users\\Windows\\Desktop\\Shahir\\18.408\\18408-final-project\\experiments\\e15583346bb4c876\\sessions\\Session 05-19-2021 06-41-29 PM\n"
     ]
    },
    {
     "name": "stderr",
     "output_type": "stream",
     "text": [
      "100%|███████████████████████████████████████████████████████████████████████████████| 469/469 [00:03<00:00, 130.42it/s]\n",
      "100%|██████████████████████████████████████████████████████████████████████████████████| 79/79 [00:02<00:00, 30.90it/s]\n",
      "  0%|                                                                                          | 0/469 [00:00<?, ?it/s]"
     ]
    },
    {
     "name": "stdout",
     "output_type": "stream",
     "text": [
      "WARNING: LOW ACCURACY\n",
      "{'dataset_config': {'dataset_type': 'img', 'dataset_config': {'img_dataset_type': 'mnist', 'num_train_samples': 60000, 'num_test_samples': 10000, 'new_input_size': None, 'flatten': True, 'augment': False, 'corrupt_frac': 0.0, 'seed': 0}}, 'model_config': {'model_type': 'relu_toy', 'model_config': {'input_dim': 784, 'output_dim': 10, 'layer_dims': [100, 100, 100, 100, 100, 100, 100, 100], 'bias': True, 'seed': None}}, 'training_config': {'optimizer_type': 'sgd_momentum', 'loss_type': 'cross_entropy', 'lr': 0.01, 'num_epochs': 50, 'clip_grad_norm': False, 'weight_decay': 0.1, 'use_lr_schedule': False, 'epoch_lr_decay_steps': None, 'lr_decay_gamma': None, 'early_stop': True, 'early_stop_acc': 0.9, 'early_stop_patience': 5}, 'trial_index': 0}\n",
      "Loaded session from C:\\Users\\Windows\\Desktop\\Shahir\\18.408\\18408-final-project\\experiments\\57549825e10ba640\\sessions\\Session 05-19-2021 06-48-26 PM\n"
     ]
    },
    {
     "name": "stderr",
     "output_type": "stream",
     "text": [
      "100%|███████████████████████████████████████████████████████████████████████████████| 469/469 [00:03<00:00, 127.60it/s]\n",
      "100%|██████████████████████████████████████████████████████████████████████████████████| 79/79 [00:02<00:00, 30.94it/s]\n",
      "  0%|                                                                                          | 0/469 [00:00<?, ?it/s]"
     ]
    },
    {
     "name": "stdout",
     "output_type": "stream",
     "text": [
      "Loaded session from C:\\Users\\Windows\\Desktop\\Shahir\\18.408\\18408-final-project\\experiments\\1ef6d3c069e14304\\sessions\\Session 05-19-2021 06-58-05 PM\n"
     ]
    },
    {
     "name": "stderr",
     "output_type": "stream",
     "text": [
      "100%|███████████████████████████████████████████████████████████████████████████████| 469/469 [00:03<00:00, 121.91it/s]\n",
      "100%|██████████████████████████████████████████████████████████████████████████████████| 79/79 [00:02<00:00, 31.04it/s]\n",
      "  0%|                                                                                          | 0/469 [00:00<?, ?it/s]"
     ]
    },
    {
     "name": "stdout",
     "output_type": "stream",
     "text": [
      "WARNING: LOW ACCURACY\n",
      "{'dataset_config': {'dataset_type': 'img', 'dataset_config': {'img_dataset_type': 'mnist', 'num_train_samples': 60000, 'num_test_samples': 10000, 'new_input_size': None, 'flatten': True, 'augment': False, 'corrupt_frac': 0.0, 'seed': 0}}, 'model_config': {'model_type': 'relu_toy', 'model_config': {'input_dim': 784, 'output_dim': 10, 'layer_dims': [100, 100, 100, 100, 100, 100, 100, 100, 100, 100], 'bias': True, 'seed': None}}, 'training_config': {'optimizer_type': 'sgd_momentum', 'loss_type': 'cross_entropy', 'lr': 0.01, 'num_epochs': 50, 'clip_grad_norm': False, 'weight_decay': 0.01, 'use_lr_schedule': False, 'epoch_lr_decay_steps': None, 'lr_decay_gamma': None, 'early_stop': True, 'early_stop_acc': 0.9, 'early_stop_patience': 5}, 'trial_index': 0}\n",
      "Loaded session from C:\\Users\\Windows\\Desktop\\Shahir\\18.408\\18408-final-project\\experiments\\7a8c21cebbae6784\\sessions\\Session 05-19-2021 07-08-08 PM\n"
     ]
    },
    {
     "name": "stderr",
     "output_type": "stream",
     "text": [
      "100%|███████████████████████████████████████████████████████████████████████████████| 469/469 [00:03<00:00, 122.12it/s]\n",
      "100%|██████████████████████████████████████████████████████████████████████████████████| 79/79 [00:02<00:00, 31.74it/s]\n",
      "  0%|                                                                                          | 0/469 [00:00<?, ?it/s]"
     ]
    },
    {
     "name": "stdout",
     "output_type": "stream",
     "text": [
      "WARNING: LOW ACCURACY\n",
      "{'dataset_config': {'dataset_type': 'img', 'dataset_config': {'img_dataset_type': 'mnist', 'num_train_samples': 60000, 'num_test_samples': 10000, 'new_input_size': None, 'flatten': True, 'augment': False, 'corrupt_frac': 0.0, 'seed': 0}}, 'model_config': {'model_type': 'relu_toy', 'model_config': {'input_dim': 784, 'output_dim': 10, 'layer_dims': [100, 100, 100, 100, 100, 100, 100, 100, 100, 100], 'bias': True, 'seed': None}}, 'training_config': {'optimizer_type': 'sgd_momentum', 'loss_type': 'cross_entropy', 'lr': 0.01, 'num_epochs': 50, 'clip_grad_norm': False, 'weight_decay': 0.1, 'use_lr_schedule': False, 'epoch_lr_decay_steps': None, 'lr_decay_gamma': None, 'early_stop': True, 'early_stop_acc': 0.9, 'early_stop_patience': 5}, 'trial_index': 0}\n",
      "Loaded session from C:\\Users\\Windows\\Desktop\\Shahir\\18.408\\18408-final-project\\experiments\\104efcad1f2821f2\\sessions\\Session 05-19-2021 07-18-10 PM\n"
     ]
    },
    {
     "name": "stderr",
     "output_type": "stream",
     "text": [
      "100%|███████████████████████████████████████████████████████████████████████████████| 469/469 [00:03<00:00, 127.72it/s]\n",
      "100%|██████████████████████████████████████████████████████████████████████████████████| 79/79 [00:02<00:00, 30.89it/s]\n",
      "  0%|                                                                                          | 0/469 [00:00<?, ?it/s]"
     ]
    },
    {
     "name": "stdout",
     "output_type": "stream",
     "text": [
      "WARNING: LOW ACCURACY\n",
      "{'dataset_config': {'dataset_type': 'img', 'dataset_config': {'img_dataset_type': 'mnist', 'num_train_samples': 60000, 'num_test_samples': 10000, 'new_input_size': None, 'flatten': True, 'augment': False, 'corrupt_frac': 0.0, 'seed': 0}}, 'model_config': {'model_type': 'relu_toy', 'model_config': {'input_dim': 784, 'output_dim': 10, 'layer_dims': [100, 100, 100, 100, 100, 100, 100, 100, 100, 100, 100, 100], 'bias': True, 'seed': None}}, 'training_config': {'optimizer_type': 'sgd_momentum', 'loss_type': 'cross_entropy', 'lr': 0.01, 'num_epochs': 50, 'clip_grad_norm': False, 'weight_decay': 0.0, 'use_lr_schedule': False, 'epoch_lr_decay_steps': None, 'lr_decay_gamma': None, 'early_stop': True, 'early_stop_acc': 0.9, 'early_stop_patience': 5}, 'trial_index': 0}\n",
      "Loaded session from C:\\Users\\Windows\\Desktop\\Shahir\\18.408\\18408-final-project\\experiments\\aa7914b1d9cc22fb\\sessions\\Session 05-19-2021 07-28-33 PM\n"
     ]
    },
    {
     "name": "stderr",
     "output_type": "stream",
     "text": [
      "100%|███████████████████████████████████████████████████████████████████████████████| 469/469 [00:03<00:00, 123.57it/s]\n",
      "100%|██████████████████████████████████████████████████████████████████████████████████| 79/79 [00:02<00:00, 30.67it/s]\n",
      "  0%|                                                                                          | 0/469 [00:00<?, ?it/s]"
     ]
    },
    {
     "name": "stdout",
     "output_type": "stream",
     "text": [
      "WARNING: LOW ACCURACY\n",
      "{'dataset_config': {'dataset_type': 'img', 'dataset_config': {'img_dataset_type': 'mnist', 'num_train_samples': 60000, 'num_test_samples': 10000, 'new_input_size': None, 'flatten': True, 'augment': False, 'corrupt_frac': 0.0, 'seed': 0}}, 'model_config': {'model_type': 'relu_toy', 'model_config': {'input_dim': 784, 'output_dim': 10, 'layer_dims': [100, 100, 100, 100, 100, 100, 100, 100, 100, 100, 100, 100], 'bias': True, 'seed': None}}, 'training_config': {'optimizer_type': 'sgd_momentum', 'loss_type': 'cross_entropy', 'lr': 0.01, 'num_epochs': 50, 'clip_grad_norm': False, 'weight_decay': 0.01, 'use_lr_schedule': False, 'epoch_lr_decay_steps': None, 'lr_decay_gamma': None, 'early_stop': True, 'early_stop_acc': 0.9, 'early_stop_patience': 5}, 'trial_index': 0}\n",
      "Loaded session from C:\\Users\\Windows\\Desktop\\Shahir\\18.408\\18408-final-project\\experiments\\62c02e779d2a6486\\sessions\\Session 05-19-2021 07-38-46 PM\n"
     ]
    },
    {
     "name": "stderr",
     "output_type": "stream",
     "text": [
      "100%|███████████████████████████████████████████████████████████████████████████████| 469/469 [00:03<00:00, 120.64it/s]\n",
      "100%|██████████████████████████████████████████████████████████████████████████████████| 79/79 [00:02<00:00, 30.67it/s]"
     ]
    },
    {
     "name": "stdout",
     "output_type": "stream",
     "text": [
      "WARNING: LOW ACCURACY\n",
      "{'dataset_config': {'dataset_type': 'img', 'dataset_config': {'img_dataset_type': 'mnist', 'num_train_samples': 60000, 'num_test_samples': 10000, 'new_input_size': None, 'flatten': True, 'augment': False, 'corrupt_frac': 0.0, 'seed': 0}}, 'model_config': {'model_type': 'relu_toy', 'model_config': {'input_dim': 784, 'output_dim': 10, 'layer_dims': [100, 100, 100, 100, 100, 100, 100, 100, 100, 100, 100, 100], 'bias': True, 'seed': None}}, 'training_config': {'optimizer_type': 'sgd_momentum', 'loss_type': 'cross_entropy', 'lr': 0.01, 'num_epochs': 50, 'clip_grad_norm': False, 'weight_decay': 0.1, 'use_lr_schedule': False, 'epoch_lr_decay_steps': None, 'lr_decay_gamma': None, 'early_stop': True, 'early_stop_acc': 0.9, 'early_stop_patience': 5}, 'trial_index': 0}\n"
     ]
    },
    {
     "name": "stderr",
     "output_type": "stream",
     "text": [
      "\n"
     ]
    }
   ],
   "source": [
    "results = {}\n",
    "\n",
    "for c in configs:\n",
    "    h = manager.find_experiment(c)\n",
    "    if not h:\n",
    "        continue\n",
    "    setup, state = manager.load_experiment(c, device)\n",
    "    if not state.training_complete:\n",
    "        continue\n",
    "    dataloaders = setup['data_setup']['dataloaders']\n",
    "    model = setup['model']\n",
    "    criterion = setup['training_setup']['criterion']\n",
    "    train_stats = get_dataloader_stats(dataloaders['train'], model, criterion, device)\n",
    "    test_stats = get_dataloader_stats(dataloaders['test'], model, criterion, device)\n",
    "    \n",
    "    w_norm_prod = get_weight_norm_prod(model)\n",
    "    \n",
    "    outputs = test_stats['outputs']\n",
    "    labels = test_stats['labels']\n",
    "    mask = np.tile(np.arange(outputs.shape[1]), (outputs.shape[0], 1))\n",
    "    mask = mask != labels.reshape(-1, 1)\n",
    "    f_x_y = outputs[np.arange(outputs.shape[0]), labels]\n",
    "    max_incorrect = outputs[mask].reshape((outputs.shape[0], outputs.shape[1] - 1)).max(axis=1)\n",
    "    margins = f_x_y - max_incorrect\n",
    "    \n",
    "    depth = len(c.model_config.config.layer_dims) + 1\n",
    "    \n",
    "    if test_stats['acc'] < 0.9:\n",
    "        print(\"WARNING: LOW ACCURACY\")\n",
    "        print(c)\n",
    "\n",
    "    stats = {\n",
    "        \"config\": c,\n",
    "        \"train_acc\": train_stats['acc'],\n",
    "        \"test_acc\": test_stats['acc'],\n",
    "        \"gen_error\": train_stats['acc'] - test_stats['acc'],\n",
    "        \"weight_norm_prod\": w_norm_prod,\n",
    "        \"margins\": margins,\n",
    "        \"depth\": depth\n",
    "    }\n",
    "    \n",
    "    results[h] = stats\n"
   ]
  },
  {
   "cell_type": "code",
   "execution_count": 9,
   "id": "9d548403",
   "metadata": {},
   "outputs": [
    {
     "name": "stdout",
     "output_type": "stream",
     "text": [
      "{'config': {'dataset_config': {'dataset_type': 'img', 'dataset_config': {'img_dataset_type': 'mnist', 'num_train_samples': 60000, 'num_test_samples': 10000, 'new_input_size': None, 'flatten': True, 'augment': False, 'corrupt_frac': 0.0, 'seed': 0}}, 'model_config': {'model_type': 'relu_toy', 'model_config': {'input_dim': 784, 'output_dim': 10, 'layer_dims': [100, 100, 100, 100, 100, 100, 100, 100, 100, 100, 100, 100], 'bias': True, 'seed': None}}, 'training_config': {'optimizer_type': 'sgd_momentum', 'loss_type': 'cross_entropy', 'lr': 0.01, 'num_epochs': 50, 'clip_grad_norm': False, 'weight_decay': 0.1, 'use_lr_schedule': False, 'epoch_lr_decay_steps': None, 'lr_decay_gamma': None, 'early_stop': True, 'early_stop_acc': 0.9, 'early_stop_patience': 5}, 'trial_index': 0}, 'train_acc': 0.11236666666666667, 'test_acc': 0.1135, 'gen_error': -0.0011333333333333334, 'weight_norm_prod': 2.78937059640937e-20, 'margins': array([-0.02817239, -0.0785652 ,  0.02817239, ..., -0.07801323,\n",
      "       -0.11424795, -0.07969411], dtype=float32), 'depth': 13}\n"
     ]
    }
   ],
   "source": [
    "print(stats)"
   ]
  },
  {
   "cell_type": "code",
   "execution_count": 45,
   "id": "9e85233f",
   "metadata": {},
   "outputs": [],
   "source": [
    "def invalid_run(r):\n",
    "    #return False\n",
    "    return r['test_acc'] < 0.5 or r['config'].training_config.weight_decay != 0"
   ]
  },
  {
   "cell_type": "code",
   "execution_count": 46,
   "id": "7e67dee7",
   "metadata": {
    "scrolled": true
   },
   "outputs": [
    {
     "data": {
      "image/png": "[encoded data removed]",
      "text/plain": [
       "<Figure size 432x288 with 1 Axes>"
      ]
     },
     "metadata": {
      "needs_background": "light"
     },
     "output_type": "display_data"
    }
   ],
   "source": [
    "depths = []\n",
    "test_accs = []\n",
    "\n",
    "for h, r in results.items():\n",
    "    if invalid_run(r):\n",
    "        continue\n",
    "    depths.append(r['depth'])\n",
    "    test_accs.append(r['test_acc'])\n",
    "    \n",
    "plt.xlabel('Depth')\n",
    "plt.ylabel('Testing Accuracy')\n",
    "plt.scatter(depths, test_accs)\n",
    "plt.xlim(left=-0.2)\n",
    "plt.show()"
   ]
  },
  {
   "cell_type": "code",
   "execution_count": 47,
   "id": "1d024218",
   "metadata": {
    "scrolled": true
   },
   "outputs": [
    {
     "data": {
      "image/png": "[encoded data removed]",
      "text/plain": [
       "<Figure size 432x288 with 1 Axes>"
      ]
     },
     "metadata": {
      "needs_background": "light"
     },
     "output_type": "display_data"
    }
   ],
   "source": [
    "depths = []\n",
    "gen_errs = []\n",
    "\n",
    "for h, r in results.items():\n",
    "    if invalid_run(r):\n",
    "        continue\n",
    "    depths.append(r['depth'])\n",
    "    gen_errs.append(abs(r['gen_error']))\n",
    "    \n",
    "plt.xlabel('Depth')\n",
    "plt.ylabel('Generalization Error')\n",
    "plt.scatter(depths, gen_errs)\n",
    "plt.xlim(left=-0.2)\n",
    "plt.show()"
   ]
  },
  {
   "cell_type": "code",
   "execution_count": 48,
   "id": "f58f1b32",
   "metadata": {},
   "outputs": [
    {
     "data": {
      "image/png": "[encoded data removed]",
      "text/plain": [
       "<Figure size 432x288 with 1 Axes>"
      ]
     },
     "metadata": {
      "needs_background": "light"
     },
     "output_type": "display_data"
    }
   ],
   "source": [
    "depths = []\n",
    "w_norm_prods = []\n",
    "\n",
    "for h, r in results.items():\n",
    "    if invalid_run(r):\n",
    "        continue\n",
    "    depths.append(r['depth']) #r['config'].training_config.weight_decay)\n",
    "    w_norm_prods.append(r['weight_norm_prod'])\n",
    "    \n",
    "plt.xlabel('Depth')\n",
    "plt.ylabel('Weight Norm Products')\n",
    "plt.yscale('log')\n",
    "plt.scatter(depths, w_norm_prods)\n",
    "plt.show()"
   ]
  },
  {
   "cell_type": "code",
   "execution_count": 49,
   "id": "889b5061",
   "metadata": {},
   "outputs": [
    {
     "data": {
      "image/png": "[encoded data removed]",
      "text/plain": [
       "<Figure size 432x288 with 1 Axes>"
      ]
     },
     "metadata": {
      "needs_background": "light"
     },
     "output_type": "display_data"
    }
   ],
   "source": [
    "depths = []\n",
    "w_norm_prods = []\n",
    "\n",
    "for h, r in results.items():\n",
    "    if invalid_run(r):\n",
    "        continue\n",
    "    depths.append(r['config'].dataset_config.config.num_train_samples)\n",
    "    w_norm_prods.append(r['weight_norm_prod'])\n",
    "\n",
    "plt.yscale('log')\n",
    "plt.xlabel('Number of Training Samples')\n",
    "plt.ylabel('Weight Norm Products')\n",
    "plt.scatter(depths, w_norm_prods)\n",
    "plt.show()"
   ]
  },
  {
   "cell_type": "code",
   "execution_count": 50,
   "id": "01f2c9d1",
   "metadata": {
    "scrolled": true
   },
   "outputs": [
    {
     "data": {
      "image/png": "[encoded data removed]",
      "text/plain": [
       "<Figure size 432x288 with 1 Axes>"
      ]
     },
     "metadata": {
      "needs_background": "light"
     },
     "output_type": "display_data"
    }
   ],
   "source": [
    "w_norm_prods = []\n",
    "gen_errs = []\n",
    "\n",
    "for h, r in results.items():\n",
    "    if invalid_run(r):\n",
    "        continue\n",
    "    w_norm_prods.append(r['weight_norm_prod'])\n",
    "    gen_errs.append(r['gen_error'])\n",
    "\n",
    "plt.xscale('log')\n",
    "plt.xlabel('Weight Norm Products')\n",
    "plt.ylabel('Generalization Error')\n",
    "plt.scatter(w_norm_prods, gen_errs)\n",
    "plt.show()"
   ]
  },
  {
   "cell_type": "code",
   "execution_count": 51,
   "id": "687587b7",
   "metadata": {},
   "outputs": [
    {
     "data": {
      "image/png": "[encoded data removed]",
      "text/plain": [
       "<Figure size 432x288 with 1 Axes>"
      ]
     },
     "metadata": {
      "needs_background": "light"
     },
     "output_type": "display_data"
    }
   ],
   "source": [
    "depths = []\n",
    "gen_errs = []\n",
    "w_norm_prods = []\n",
    "\n",
    "fig = plt.figure()\n",
    "ax = fig.add_subplot(projection='3d')\n",
    "for h, r in results.items():\n",
    "    if invalid_run(r):\n",
    "        continue\n",
    "    depths.append(r['depth'])\n",
    "    gen_errs.append(r['gen_error'])\n",
    "    w_norm_prods.append(r['weight_norm_prod'])\n",
    "ax.set_xlabel('Depth')\n",
    "ax.set_ylabel('Weight Norm Products')\n",
    "ax.set_zlabel('Generalization Error')\n",
    "#plt.xlim(left=-0.2)\n",
    "ax.scatter(depths, w_norm_prods, gen_errs, marker='o')\n",
    "plt.show()"
   ]
  },
  {
   "cell_type": "code",
   "execution_count": null,
   "id": "51e08397",
   "metadata": {},
   "outputs": [],
   "source": []
  },
  {
   "cell_type": "code",
   "execution_count": null,
   "id": "00ea1240",
   "metadata": {},
   "outputs": [],
   "source": []
  },
  {
   "cell_type": "code",
   "execution_count": null,
   "id": "badc1396",
   "metadata": {},
   "outputs": [],
   "source": []
  }
 ],
 "metadata": {
  "kernelspec": {
   "display_name": "Python 3",
   "language": "python",
   "name": "python3"
  },
  "language_info": {
   "codemirror_mode": {
    "name": "ipython",
    "version": 3
   },
   "file_extension": ".py",
   "mimetype": "text/x-python",
   "name": "python",
   "nbconvert_exporter": "python",
   "pygments_lexer": "ipython3",
   "version": "3.8.8"
  }
 },
 "nbformat": 4,
 "nbformat_minor": 5
}
