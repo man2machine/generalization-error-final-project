{
 "cells": [
  {
   "cell_type": "markdown",
   "id": "impossible-moscow",
   "metadata": {},
   "source": [
    "# Shahir Rahman"
   ]
  },
  {
   "cell_type": "code",
   "execution_count": 1,
   "id": "negative-german",
   "metadata": {},
   "outputs": [],
   "source": [
    "import os\n",
    "import json\n",
    "\n",
    "import numpy as np\n",
    "from joblib import Parallel, delayed\n",
    "\n",
    "import torch\n",
    "import torchvision\n",
    "from torchsummary import summary\n",
    "\n",
    "from project_18408.datasets import *\n",
    "from project_18408.evaluation import *\n",
    "from project_18408.experiments import *\n",
    "from project_18408.utils import *"
   ]
  },
  {
   "cell_type": "code",
   "execution_count": 2,
   "id": "applied-bullet",
   "metadata": {},
   "outputs": [
    {
     "name": "stdout",
     "output_type": "stream",
     "text": [
      "PyTorch Version: 1.8.0\n",
      "Torchvision Version: 0.9.0\n",
      "Using the GPU!\n"
     ]
    }
   ],
   "source": [
    "print(\"PyTorch Version:\", torch.__version__)\n",
    "print(\"Torchvision Version:\", torchvision.__version__)\n",
    "# Detect if we have a GPU available\n",
    "device = torch.device(\"cuda\" if torch.cuda.is_available() else \"cpu\")\n",
    "if torch.cuda.is_available():\n",
    "    print(\"Using the GPU!\")\n",
    "else:\n",
    "    print(\"WARNING: Could not find GPU! Using CPU only\")"
   ]
  },
  {
   "cell_type": "code",
   "execution_count": 3,
   "id": "f689987f",
   "metadata": {},
   "outputs": [],
   "source": [
    "configs_fname = \"experiment_configs_mnist.json\""
   ]
  },
  {
   "cell_type": "code",
   "execution_count": 4,
   "id": "08fd7561",
   "metadata": {},
   "outputs": [],
   "source": [
    "with open(configs_fname, 'r') as f:\n",
    "    configs = json.load(f)\n",
    "configs = [ExperimentConfig.from_dict(c) for c in configs]"
   ]
  },
  {
   "cell_type": "code",
   "execution_count": 5,
   "id": "d1a1b57a",
   "metadata": {},
   "outputs": [
    {
     "name": "stdout",
     "output_type": "stream",
     "text": [
      "{'dataset_config': {'dataset_type': 'img', 'dataset_config': {'img_dataset_type': 'mnist', 'num_train_samples': 10000, 'num_test_samples': 10000, 'new_input_size': None, 'flatten': True, 'augment': False, 'corrupt_frac': 1.0, 'seed': 0}}, 'model_config': {'model_type': 'relu_toy', 'model_config': {'input_dim': 784, 'output_dim': 10, 'layer_dims': [100], 'bias': False, 'seed': None}}, 'training_config': {'optimizer_type': 'sgd_momentum', 'loss_type': 'cross_entropy', 'lr': 0.01, 'num_epochs': 20, 'clip_grad_norm': False, 'weight_decay': 0.0, 'use_lr_schedule': False, 'epoch_lr_decay_steps': None, 'lr_decay_gamma': None}, 'trial_index': 0}\n"
     ]
    }
   ],
   "source": [
    "print(configs[0])"
   ]
  },
  {
   "cell_type": "code",
   "execution_count": 6,
   "id": "buried-edmonton",
   "metadata": {},
   "outputs": [],
   "source": [
    "data_dir = get_rel_pkg_path(\"dataset/\")\n",
    "experiment_dir = get_rel_pkg_path(\"experiments/\")"
   ]
  },
  {
   "cell_type": "code",
   "execution_count": 7,
   "id": "eastern-dakota",
   "metadata": {},
   "outputs": [],
   "source": [
    "manager = ExperimentManager(data_dir, experiment_dir)"
   ]
  },
  {
   "cell_type": "code",
   "execution_count": 8,
   "id": "af537e0f",
   "metadata": {},
   "outputs": [],
   "source": [
    "def process_training(config):\n",
    "    manager.add_experiment(config, exist_ok=True)\n",
    "    setup, state = manager.run_training(config,\n",
    "                                        device,\n",
    "                                        num_workers=2, # this is required for joblib\n",
    "                                        pin_memory=False,\n",
    "                                        completed_ok=True)"
   ]
  },
  {
   "cell_type": "code",
   "execution_count": null,
   "id": "f24e775d",
   "metadata": {},
   "outputs": [
    {
     "name": "stderr",
     "output_type": "stream",
     "text": [
      "\r",
      "  0%|                                                                                          | 0/469 [00:00<?, ?it/s]"
     ]
    },
    {
     "name": "stdout",
     "output_type": "stream",
     "text": [
      "Epoch 1/20\n",
      "----------\n",
      "Training\n"
     ]
    },
    {
     "name": "stderr",
     "output_type": "stream",
     "text": [
      "Avg. Loss: 2.3042, Total Loss: 2.3001, Loss Parts: [2.3001]: 100%|███████████████████| 469/469 [00:12<00:00, 38.39it/s]\n",
      "  0%|                                                                                           | 0/79 [00:00<?, ?it/s]"
     ]
    },
    {
     "name": "stdout",
     "output_type": "stream",
     "text": [
      "Training Loss: 2.3042\n",
      "Training Accuracy: 0.0993\n",
      "Testing\n"
     ]
    },
    {
     "name": "stderr",
     "output_type": "stream",
     "text": [
      "100%|██████████████████████████████████████████████████████████████████████████████████| 79/79 [00:10<00:00,  7.41it/s]\n",
      "  0%|                                                                                          | 0/469 [00:00<?, ?it/s]"
     ]
    },
    {
     "name": "stdout",
     "output_type": "stream",
     "text": [
      "Testing loss 2.3029\n",
      "Testing accuracy 0.0971\n",
      "\n",
      "Epoch 2/20\n",
      "----------\n",
      "Training\n"
     ]
    },
    {
     "name": "stderr",
     "output_type": "stream",
     "text": [
      "Avg. Loss: 2.3016, Total Loss: 2.3070, Loss Parts: [2.3070]: 100%|███████████████████| 469/469 [00:11<00:00, 40.40it/s]\n",
      "  0%|                                                                                           | 0/79 [00:00<?, ?it/s]"
     ]
    },
    {
     "name": "stdout",
     "output_type": "stream",
     "text": [
      "Training Loss: 2.3016\n",
      "Training Accuracy: 0.1079\n",
      "Testing\n"
     ]
    },
    {
     "name": "stderr",
     "output_type": "stream",
     "text": [
      "100%|██████████████████████████████████████████████████████████████████████████████████| 79/79 [00:10<00:00,  7.24it/s]\n",
      "  0%|                                                                                          | 0/469 [00:00<?, ?it/s]"
     ]
    },
    {
     "name": "stdout",
     "output_type": "stream",
     "text": [
      "Testing loss 2.3035\n",
      "Testing accuracy 0.0992\n",
      "\n",
      "Epoch 3/20\n",
      "----------\n",
      "Training\n"
     ]
    },
    {
     "name": "stderr",
     "output_type": "stream",
     "text": [
      "Avg. Loss: 2.3004, Total Loss: 2.3041, Loss Parts: [2.3041]: 100%|███████████████████| 469/469 [00:11<00:00, 40.69it/s]\n",
      "  0%|                                                                                           | 0/79 [00:00<?, ?it/s]"
     ]
    },
    {
     "name": "stdout",
     "output_type": "stream",
     "text": [
      "Training Loss: 2.3004\n",
      "Training Accuracy: 0.1124\n",
      "Testing\n"
     ]
    },
    {
     "name": "stderr",
     "output_type": "stream",
     "text": [
      "100%|██████████████████████████████████████████████████████████████████████████████████| 79/79 [00:09<00:00,  8.05it/s]\n",
      "  0%|                                                                                          | 0/469 [00:00<?, ?it/s]"
     ]
    },
    {
     "name": "stdout",
     "output_type": "stream",
     "text": [
      "Testing loss 2.3038\n",
      "Testing accuracy 0.1019\n",
      "\n",
      "Epoch 4/20\n",
      "----------\n",
      "Training\n"
     ]
    }
   ],
   "source": [
    "for c in configs:\n",
    "    process_training(c)"
   ]
  },
  {
   "cell_type": "code",
   "execution_count": null,
   "id": "7f05f735",
   "metadata": {},
   "outputs": [],
   "source": []
  },
  {
   "cell_type": "code",
   "execution_count": null,
   "id": "ca86a659",
   "metadata": {},
   "outputs": [],
   "source": [
    "#out = Parallel(n_jobs=3, verbose=100, prefer=\"threads\")(delayed(process_training)(c) for c in configs)"
   ]
  }
 ],
 "metadata": {
  "kernelspec": {
   "display_name": "Python 3",
   "language": "python",
   "name": "python3"
  },
  "language_info": {
   "codemirror_mode": {
    "name": "ipython",
    "version": 3
   },
   "file_extension": ".py",
   "mimetype": "text/x-python",
   "name": "python",
   "nbconvert_exporter": "python",
   "pygments_lexer": "ipython3",
   "version": "3.8.8"
  }
 },
 "nbformat": 4,
 "nbformat_minor": 5
}
