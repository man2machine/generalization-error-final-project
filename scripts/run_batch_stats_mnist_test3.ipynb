{
 "cells": [
  {
   "cell_type": "code",
   "execution_count": 1,
   "id": "negative-german",
   "metadata": {},
   "outputs": [],
   "source": [
    "import os\n",
    "import json\n",
    "\n",
    "import numpy as np\n",
    "import torch\n",
    "import torchvision\n",
    "from torchsummary import summary\n",
    "\n",
    "from project_18408.datasets import *\n",
    "from project_18408.evaluation import *\n",
    "from project_18408.experiments import *\n",
    "from project_18408.utils import *"
   ]
  },
  {
   "cell_type": "code",
   "execution_count": 2,
   "id": "applied-bullet",
   "metadata": {},
   "outputs": [
    {
     "name": "stdout",
     "output_type": "stream",
     "text": [
      "PyTorch Version: 1.8.0\n",
      "Torchvision Version: 0.9.0\n",
      "Using the GPU!\n"
     ]
    }
   ],
   "source": [
    "print(\"PyTorch Version:\", torch.__version__)\n",
    "print(\"Torchvision Version:\", torchvision.__version__)\n",
    "# Detect if we have a GPU available\n",
    "device = torch.device(\"cuda\" if torch.cuda.is_available() else \"cpu\")\n",
    "if torch.cuda.is_available():\n",
    "    print(\"Using the GPU!\")\n",
    "else:\n",
    "    print(\"WARNING: Could not find GPU! Using CPU only\")"
   ]
  },
  {
   "cell_type": "code",
   "execution_count": 3,
   "id": "4a91c558",
   "metadata": {},
   "outputs": [],
   "source": [
    "data_dir = get_rel_pkg_path(\"dataset/\")\n",
    "experiment_dir = get_rel_pkg_path(\"experiments/\")"
   ]
  },
  {
   "cell_type": "code",
   "execution_count": 4,
   "id": "fc770c50",
   "metadata": {},
   "outputs": [],
   "source": [
    "manager = ExperimentManager(data_dir, experiment_dir)"
   ]
  },
  {
   "cell_type": "code",
   "execution_count": 5,
   "id": "70295b92",
   "metadata": {},
   "outputs": [],
   "source": [
    "configs_fname = \"experiment_configs_mnist_test3.json\""
   ]
  },
  {
   "cell_type": "code",
   "execution_count": 6,
   "id": "a8842de6",
   "metadata": {},
   "outputs": [],
   "source": [
    "with open(configs_fname, 'r') as f:\n",
    "    configs = json.load(f)\n",
    "configs = [ExperimentConfig.from_dict(c) for c in configs]"
   ]
  },
  {
   "cell_type": "code",
   "execution_count": 7,
   "id": "cf6e76aa",
   "metadata": {},
   "outputs": [],
   "source": [
    "def get_weight_norm_prod(model):\n",
    "    prod = 1\n",
    "    for layer in model.get_layers_with_weights():\n",
    "        v = layer.weight.norm().item()\n",
    "        prod *= v\n",
    "    return prod"
   ]
  },
  {
   "cell_type": "code",
   "execution_count": 8,
   "id": "e52e574a",
   "metadata": {
    "scrolled": true
   },
   "outputs": [
    {
     "name": "stderr",
     "output_type": "stream",
     "text": [
      "\r",
      "  0%|                                                                                          | 0/469 [00:00<?, ?it/s]"
     ]
    },
    {
     "name": "stdout",
     "output_type": "stream",
     "text": [
      "Loaded session from C:\\Users\\Windows\\Desktop\\Shahir\\18.408\\18408-final-project\\experiments\\b637997f1ebd6edc\\sessions\\Session 05-19-2021 08-19-14 PM\n"
     ]
    },
    {
     "name": "stderr",
     "output_type": "stream",
     "text": [
      "100%|████████████████████████████████████████████████████████████████████████████████| 469/469 [00:05<00:00, 91.22it/s]\n",
      "100%|██████████████████████████████████████████████████████████████████████████████████| 79/79 [00:02<00:00, 33.12it/s]\n",
      "  0%|                                                                                          | 0/469 [00:00<?, ?it/s]"
     ]
    },
    {
     "name": "stdout",
     "output_type": "stream",
     "text": [
      "Loaded session from C:\\Users\\Windows\\Desktop\\Shahir\\18.408\\18408-final-project\\experiments\\9e97236db3e0e9a9\\sessions\\Session 05-19-2021 08-23-03 PM\n"
     ]
    },
    {
     "name": "stderr",
     "output_type": "stream",
     "text": [
      "100%|███████████████████████████████████████████████████████████████████████████████| 469/469 [00:03<00:00, 141.03it/s]\n",
      "100%|██████████████████████████████████████████████████████████████████████████████████| 79/79 [00:02<00:00, 32.91it/s]\n",
      "  0%|                                                                                          | 0/469 [00:00<?, ?it/s]"
     ]
    },
    {
     "name": "stdout",
     "output_type": "stream",
     "text": [
      "Loaded session from C:\\Users\\Windows\\Desktop\\Shahir\\18.408\\18408-final-project\\experiments\\f013d3ddb6a74830\\sessions\\Session 05-19-2021 08-27-27 PM\n"
     ]
    },
    {
     "name": "stderr",
     "output_type": "stream",
     "text": [
      "100%|███████████████████████████████████████████████████████████████████████████████| 469/469 [00:03<00:00, 130.85it/s]\n",
      "100%|██████████████████████████████████████████████████████████████████████████████████| 79/79 [00:02<00:00, 33.39it/s]\n",
      "  0%|                                                                                          | 0/469 [00:00<?, ?it/s]"
     ]
    },
    {
     "name": "stdout",
     "output_type": "stream",
     "text": [
      "Loaded session from C:\\Users\\Windows\\Desktop\\Shahir\\18.408\\18408-final-project\\experiments\\9724e097a50281a3\\sessions\\Session 05-19-2021 08-31-18 PM\n"
     ]
    },
    {
     "name": "stderr",
     "output_type": "stream",
     "text": [
      "100%|███████████████████████████████████████████████████████████████████████████████| 469/469 [00:03<00:00, 138.79it/s]\n",
      "100%|██████████████████████████████████████████████████████████████████████████████████| 79/79 [00:02<00:00, 32.42it/s]\n",
      "  0%|                                                                                          | 0/469 [00:00<?, ?it/s]"
     ]
    },
    {
     "name": "stdout",
     "output_type": "stream",
     "text": [
      "Loaded session from C:\\Users\\Windows\\Desktop\\Shahir\\18.408\\18408-final-project\\experiments\\dc9b701d4ff199b5\\sessions\\Session 05-19-2021 08-35-28 PM\n"
     ]
    },
    {
     "name": "stderr",
     "output_type": "stream",
     "text": [
      "100%|███████████████████████████████████████████████████████████████████████████████| 469/469 [00:03<00:00, 128.15it/s]\n",
      "100%|██████████████████████████████████████████████████████████████████████████████████| 79/79 [00:02<00:00, 32.30it/s]\n",
      "  0%|                                                                                          | 0/469 [00:00<?, ?it/s]"
     ]
    },
    {
     "name": "stdout",
     "output_type": "stream",
     "text": [
      "Loaded session from C:\\Users\\Windows\\Desktop\\Shahir\\18.408\\18408-final-project\\experiments\\b4c1df0a1e100bbe\\sessions\\Session 05-19-2021 08-37-35 PM\n"
     ]
    },
    {
     "name": "stderr",
     "output_type": "stream",
     "text": [
      "100%|███████████████████████████████████████████████████████████████████████████████| 469/469 [00:03<00:00, 141.84it/s]\n",
      "100%|██████████████████████████████████████████████████████████████████████████████████| 79/79 [00:02<00:00, 32.53it/s]\n",
      "  0%|                                                                                          | 0/469 [00:00<?, ?it/s]"
     ]
    },
    {
     "name": "stdout",
     "output_type": "stream",
     "text": [
      "Loaded session from C:\\Users\\Windows\\Desktop\\Shahir\\18.408\\18408-final-project\\experiments\\df51ce5726ad54da\\sessions\\Session 05-19-2021 08-43-04 PM\n"
     ]
    },
    {
     "name": "stderr",
     "output_type": "stream",
     "text": [
      "100%|███████████████████████████████████████████████████████████████████████████████| 469/469 [00:03<00:00, 123.92it/s]\n",
      "100%|██████████████████████████████████████████████████████████████████████████████████| 79/79 [00:02<00:00, 30.35it/s]\n",
      "  0%|                                                                                          | 0/469 [00:00<?, ?it/s]"
     ]
    },
    {
     "name": "stdout",
     "output_type": "stream",
     "text": [
      "Loaded session from C:\\Users\\Windows\\Desktop\\Shahir\\18.408\\18408-final-project\\experiments\\c9aa4c0fd0813d29\\sessions\\Session 05-19-2021 08-46-31 PM\n"
     ]
    },
    {
     "name": "stderr",
     "output_type": "stream",
     "text": [
      "100%|███████████████████████████████████████████████████████████████████████████████| 469/469 [00:03<00:00, 131.43it/s]\n",
      "100%|██████████████████████████████████████████████████████████████████████████████████| 79/79 [00:02<00:00, 32.68it/s]\n",
      "  0%|                                                                                          | 0/469 [00:00<?, ?it/s]"
     ]
    },
    {
     "name": "stdout",
     "output_type": "stream",
     "text": [
      "Loaded session from C:\\Users\\Windows\\Desktop\\Shahir\\18.408\\18408-final-project\\experiments\\598c5c0b246ccdd3\\sessions\\Session 05-19-2021 08-51-14 PM\n"
     ]
    },
    {
     "name": "stderr",
     "output_type": "stream",
     "text": [
      "100%|███████████████████████████████████████████████████████████████████████████████| 469/469 [00:03<00:00, 127.01it/s]\n",
      "100%|██████████████████████████████████████████████████████████████████████████████████| 79/79 [00:02<00:00, 31.32it/s]\n",
      "  0%|                                                                                          | 0/469 [00:00<?, ?it/s]"
     ]
    },
    {
     "name": "stdout",
     "output_type": "stream",
     "text": [
      "Loaded session from C:\\Users\\Windows\\Desktop\\Shahir\\18.408\\18408-final-project\\experiments\\3e63b057124836a5\\sessions\\Session 05-19-2021 08-54-59 PM\n"
     ]
    },
    {
     "name": "stderr",
     "output_type": "stream",
     "text": [
      "100%|███████████████████████████████████████████████████████████████████████████████| 469/469 [00:03<00:00, 124.96it/s]\n",
      "100%|██████████████████████████████████████████████████████████████████████████████████| 79/79 [00:02<00:00, 31.93it/s]\n",
      "  0%|                                                                                          | 0/469 [00:00<?, ?it/s]"
     ]
    },
    {
     "name": "stdout",
     "output_type": "stream",
     "text": [
      "Loaded session from C:\\Users\\Windows\\Desktop\\Shahir\\18.408\\18408-final-project\\experiments\\76ef59ece2799919\\sessions\\Session 05-19-2021 09-00-00 PM\n"
     ]
    },
    {
     "name": "stderr",
     "output_type": "stream",
     "text": [
      "100%|███████████████████████████████████████████████████████████████████████████████| 469/469 [00:03<00:00, 122.58it/s]\n",
      "100%|██████████████████████████████████████████████████████████████████████████████████| 79/79 [00:02<00:00, 30.90it/s]\n",
      "  0%|                                                                                          | 0/469 [00:00<?, ?it/s]"
     ]
    },
    {
     "name": "stdout",
     "output_type": "stream",
     "text": [
      "Loaded session from C:\\Users\\Windows\\Desktop\\Shahir\\18.408\\18408-final-project\\experiments\\5b1c1a6d6b8815f1\\sessions\\Session 05-19-2021 09-03-59 PM\n"
     ]
    },
    {
     "name": "stderr",
     "output_type": "stream",
     "text": [
      "100%|███████████████████████████████████████████████████████████████████████████████| 469/469 [00:03<00:00, 125.77it/s]\n",
      "100%|██████████████████████████████████████████████████████████████████████████████████| 79/79 [00:02<00:00, 32.37it/s]\n",
      "  0%|                                                                                          | 0/469 [00:00<?, ?it/s]"
     ]
    },
    {
     "name": "stdout",
     "output_type": "stream",
     "text": [
      "Loaded session from C:\\Users\\Windows\\Desktop\\Shahir\\18.408\\18408-final-project\\experiments\\52826d408b423079\\sessions\\Session 05-19-2021 09-13-02 PM\n"
     ]
    },
    {
     "name": "stderr",
     "output_type": "stream",
     "text": [
      "100%|███████████████████████████████████████████████████████████████████████████████| 469/469 [00:04<00:00, 116.87it/s]\n",
      "100%|██████████████████████████████████████████████████████████████████████████████████| 79/79 [00:02<00:00, 30.04it/s]\n",
      "  0%|                                                                                          | 0/469 [00:00<?, ?it/s]"
     ]
    },
    {
     "name": "stdout",
     "output_type": "stream",
     "text": [
      "Loaded session from C:\\Users\\Windows\\Desktop\\Shahir\\18.408\\18408-final-project\\experiments\\6366c4b0f408cbb1\\sessions\\Session 05-19-2021 09-19-44 PM\n"
     ]
    },
    {
     "name": "stderr",
     "output_type": "stream",
     "text": [
      "100%|███████████████████████████████████████████████████████████████████████████████| 469/469 [00:04<00:00, 113.11it/s]\n",
      "100%|██████████████████████████████████████████████████████████████████████████████████| 79/79 [00:02<00:00, 31.11it/s]\n",
      "  0%|                                                                                          | 0/469 [00:00<?, ?it/s]"
     ]
    },
    {
     "name": "stdout",
     "output_type": "stream",
     "text": [
      "Loaded session from C:\\Users\\Windows\\Desktop\\Shahir\\18.408\\18408-final-project\\experiments\\0945ebc2261b889a\\sessions\\Session 05-19-2021 09-25-41 PM\n"
     ]
    },
    {
     "name": "stderr",
     "output_type": "stream",
     "text": [
      "100%|███████████████████████████████████████████████████████████████████████████████| 469/469 [00:04<00:00, 114.25it/s]\n",
      "100%|██████████████████████████████████████████████████████████████████████████████████| 79/79 [00:02<00:00, 29.86it/s]\n",
      "  0%|                                                                                          | 0/469 [00:00<?, ?it/s]"
     ]
    },
    {
     "name": "stdout",
     "output_type": "stream",
     "text": [
      "Loaded session from C:\\Users\\Windows\\Desktop\\Shahir\\18.408\\18408-final-project\\experiments\\a8cbbdb849113146\\sessions\\Session 05-19-2021 09-35-46 PM\n"
     ]
    },
    {
     "name": "stderr",
     "output_type": "stream",
     "text": [
      "100%|███████████████████████████████████████████████████████████████████████████████| 469/469 [00:04<00:00, 102.75it/s]\n",
      "100%|██████████████████████████████████████████████████████████████████████████████████| 79/79 [00:02<00:00, 30.34it/s]\n",
      "  0%|                                                                                          | 0/469 [00:00<?, ?it/s]"
     ]
    },
    {
     "name": "stdout",
     "output_type": "stream",
     "text": [
      "Loaded session from C:\\Users\\Windows\\Desktop\\Shahir\\18.408\\18408-final-project\\experiments\\24c027380a56816f\\sessions\\Session 05-19-2021 09-48-25 PM\n"
     ]
    },
    {
     "name": "stderr",
     "output_type": "stream",
     "text": [
      "100%|███████████████████████████████████████████████████████████████████████████████| 469/469 [00:04<00:00, 104.00it/s]\n",
      "100%|██████████████████████████████████████████████████████████████████████████████████| 79/79 [00:02<00:00, 30.72it/s]\n",
      "  0%|                                                                                          | 0/469 [00:00<?, ?it/s]"
     ]
    },
    {
     "name": "stdout",
     "output_type": "stream",
     "text": [
      "Loaded session from C:\\Users\\Windows\\Desktop\\Shahir\\18.408\\18408-final-project\\experiments\\a3cfc42b7736981f\\sessions\\Session 05-19-2021 09-52-32 PM\n"
     ]
    },
    {
     "name": "stderr",
     "output_type": "stream",
     "text": [
      "100%|███████████████████████████████████████████████████████████████████████████████| 469/469 [00:04<00:00, 106.43it/s]\n",
      "100%|██████████████████████████████████████████████████████████████████████████████████| 79/79 [00:02<00:00, 30.75it/s]\n",
      "  0%|                                                                                          | 0/469 [00:00<?, ?it/s]"
     ]
    },
    {
     "name": "stdout",
     "output_type": "stream",
     "text": [
      "Loaded session from C:\\Users\\Windows\\Desktop\\Shahir\\18.408\\18408-final-project\\experiments\\84541ca09e8169ff\\sessions\\Session 05-19-2021 10-05-21 PM\n"
     ]
    },
    {
     "name": "stderr",
     "output_type": "stream",
     "text": [
      "100%|███████████████████████████████████████████████████████████████████████████████| 469/469 [00:03<00:00, 129.68it/s]\n",
      "100%|██████████████████████████████████████████████████████████████████████████████████| 79/79 [00:02<00:00, 31.80it/s]\n",
      "  0%|                                                                                          | 0/469 [00:00<?, ?it/s]"
     ]
    },
    {
     "name": "stdout",
     "output_type": "stream",
     "text": [
      "Loaded session from C:\\Users\\Windows\\Desktop\\Shahir\\18.408\\18408-final-project\\experiments\\1a79716f545ca3e3\\sessions\\Session 05-19-2021 10-08-02 PM\n"
     ]
    },
    {
     "name": "stderr",
     "output_type": "stream",
     "text": [
      "100%|███████████████████████████████████████████████████████████████████████████████| 469/469 [00:03<00:00, 135.56it/s]\n",
      "100%|██████████████████████████████████████████████████████████████████████████████████| 79/79 [00:02<00:00, 32.40it/s]\n",
      "  0%|                                                                                          | 0/469 [00:00<?, ?it/s]"
     ]
    },
    {
     "name": "stdout",
     "output_type": "stream",
     "text": [
      "Loaded session from C:\\Users\\Windows\\Desktop\\Shahir\\18.408\\18408-final-project\\experiments\\11ea453ac6bd464e\\sessions\\Session 05-19-2021 10-12-32 PM\n"
     ]
    },
    {
     "name": "stderr",
     "output_type": "stream",
     "text": [
      "100%|███████████████████████████████████████████████████████████████████████████████| 469/469 [00:03<00:00, 124.53it/s]\n",
      "100%|██████████████████████████████████████████████████████████████████████████████████| 79/79 [00:02<00:00, 31.95it/s]\n",
      "  0%|                                                                                          | 0/469 [00:00<?, ?it/s]"
     ]
    },
    {
     "name": "stdout",
     "output_type": "stream",
     "text": [
      "Loaded session from C:\\Users\\Windows\\Desktop\\Shahir\\18.408\\18408-final-project\\experiments\\b9684780822f5739\\sessions\\Session 05-19-2021 10-16-06 PM\n"
     ]
    },
    {
     "name": "stderr",
     "output_type": "stream",
     "text": [
      "100%|███████████████████████████████████████████████████████████████████████████████| 469/469 [00:03<00:00, 137.11it/s]\n",
      "100%|██████████████████████████████████████████████████████████████████████████████████| 79/79 [00:02<00:00, 33.31it/s]\n",
      "  0%|                                                                                          | 0/469 [00:00<?, ?it/s]"
     ]
    },
    {
     "name": "stdout",
     "output_type": "stream",
     "text": [
      "Loaded session from C:\\Users\\Windows\\Desktop\\Shahir\\18.408\\18408-final-project\\experiments\\42da32511f26c388\\sessions\\Session 05-19-2021 10-19-53 PM\n"
     ]
    },
    {
     "name": "stderr",
     "output_type": "stream",
     "text": [
      "100%|███████████████████████████████████████████████████████████████████████████████| 469/469 [00:03<00:00, 126.31it/s]\n",
      "100%|██████████████████████████████████████████████████████████████████████████████████| 79/79 [00:02<00:00, 31.73it/s]\n",
      "  0%|                                                                                          | 0/469 [00:00<?, ?it/s]"
     ]
    },
    {
     "name": "stdout",
     "output_type": "stream",
     "text": [
      "Loaded session from C:\\Users\\Windows\\Desktop\\Shahir\\18.408\\18408-final-project\\experiments\\7f0840994f437721\\sessions\\Session 05-19-2021 10-22-34 PM\n"
     ]
    },
    {
     "name": "stderr",
     "output_type": "stream",
     "text": [
      "100%|███████████████████████████████████████████████████████████████████████████████| 469/469 [00:03<00:00, 139.35it/s]\n",
      "100%|██████████████████████████████████████████████████████████████████████████████████| 79/79 [00:02<00:00, 34.34it/s]\n",
      "  0%|                                                                                          | 0/469 [00:00<?, ?it/s]"
     ]
    },
    {
     "name": "stdout",
     "output_type": "stream",
     "text": [
      "Loaded session from C:\\Users\\Windows\\Desktop\\Shahir\\18.408\\18408-final-project\\experiments\\799f24d4d6345cd3\\sessions\\Session 05-19-2021 10-26-53 PM\n"
     ]
    },
    {
     "name": "stderr",
     "output_type": "stream",
     "text": [
      "100%|███████████████████████████████████████████████████████████████████████████████| 469/469 [00:03<00:00, 131.59it/s]\n",
      "100%|██████████████████████████████████████████████████████████████████████████████████| 79/79 [00:02<00:00, 32.31it/s]\n",
      "  0%|                                                                                          | 0/469 [00:00<?, ?it/s]"
     ]
    },
    {
     "name": "stdout",
     "output_type": "stream",
     "text": [
      "Loaded session from C:\\Users\\Windows\\Desktop\\Shahir\\18.408\\18408-final-project\\experiments\\21e6b5604e7c1578\\sessions\\Session 05-19-2021 10-30-59 PM\n"
     ]
    },
    {
     "name": "stderr",
     "output_type": "stream",
     "text": [
      "100%|███████████████████████████████████████████████████████████████████████████████| 469/469 [00:03<00:00, 130.69it/s]\n",
      "100%|██████████████████████████████████████████████████████████████████████████████████| 79/79 [00:02<00:00, 32.98it/s]\n",
      "  0%|                                                                                          | 0/469 [00:00<?, ?it/s]"
     ]
    },
    {
     "name": "stdout",
     "output_type": "stream",
     "text": [
      "Loaded session from C:\\Users\\Windows\\Desktop\\Shahir\\18.408\\18408-final-project\\experiments\\99d85c5e9c4ea273\\sessions\\Session 05-19-2021 10-35-35 PM\n"
     ]
    },
    {
     "name": "stderr",
     "output_type": "stream",
     "text": [
      "100%|███████████████████████████████████████████████████████████████████████████████| 469/469 [00:03<00:00, 134.11it/s]\n",
      "100%|██████████████████████████████████████████████████████████████████████████████████| 79/79 [00:02<00:00, 33.13it/s]\n",
      "  0%|                                                                                          | 0/469 [00:00<?, ?it/s]"
     ]
    },
    {
     "name": "stdout",
     "output_type": "stream",
     "text": [
      "Loaded session from C:\\Users\\Windows\\Desktop\\Shahir\\18.408\\18408-final-project\\experiments\\155c02cb0e01646a\\sessions\\Session 05-19-2021 10-40-00 PM\n"
     ]
    },
    {
     "name": "stderr",
     "output_type": "stream",
     "text": [
      "100%|███████████████████████████████████████████████████████████████████████████████| 469/469 [00:03<00:00, 122.19it/s]\n",
      "100%|██████████████████████████████████████████████████████████████████████████████████| 79/79 [00:02<00:00, 33.04it/s]\n",
      "  0%|                                                                                          | 0/469 [00:00<?, ?it/s]"
     ]
    },
    {
     "name": "stdout",
     "output_type": "stream",
     "text": [
      "Loaded session from C:\\Users\\Windows\\Desktop\\Shahir\\18.408\\18408-final-project\\experiments\\591e61ea7dbad8b9\\sessions\\Session 05-19-2021 10-46-32 PM\n"
     ]
    },
    {
     "name": "stderr",
     "output_type": "stream",
     "text": [
      "100%|███████████████████████████████████████████████████████████████████████████████| 469/469 [00:03<00:00, 126.82it/s]\n",
      "100%|██████████████████████████████████████████████████████████████████████████████████| 79/79 [00:02<00:00, 31.06it/s]\n",
      "  0%|                                                                                          | 0/469 [00:00<?, ?it/s]"
     ]
    },
    {
     "name": "stdout",
     "output_type": "stream",
     "text": [
      "Loaded session from C:\\Users\\Windows\\Desktop\\Shahir\\18.408\\18408-final-project\\experiments\\a3a7d981bea24a90\\sessions\\Session 05-19-2021 10-50-19 PM\n"
     ]
    },
    {
     "name": "stderr",
     "output_type": "stream",
     "text": [
      "100%|███████████████████████████████████████████████████████████████████████████████| 469/469 [00:03<00:00, 122.61it/s]\n",
      "100%|██████████████████████████████████████████████████████████████████████████████████| 79/79 [00:02<00:00, 32.49it/s]\n",
      "  0%|                                                                                          | 0/469 [00:00<?, ?it/s]"
     ]
    },
    {
     "name": "stdout",
     "output_type": "stream",
     "text": [
      "Loaded session from C:\\Users\\Windows\\Desktop\\Shahir\\18.408\\18408-final-project\\experiments\\b7cbdc48d1c9eed1\\sessions\\Session 05-19-2021 10-55-26 PM\n"
     ]
    },
    {
     "name": "stderr",
     "output_type": "stream",
     "text": [
      "100%|███████████████████████████████████████████████████████████████████████████████| 469/469 [00:03<00:00, 118.26it/s]\n",
      "100%|██████████████████████████████████████████████████████████████████████████████████| 79/79 [00:02<00:00, 30.40it/s]\n",
      "  0%|                                                                                          | 0/469 [00:00<?, ?it/s]"
     ]
    },
    {
     "name": "stdout",
     "output_type": "stream",
     "text": [
      "Loaded session from C:\\Users\\Windows\\Desktop\\Shahir\\18.408\\18408-final-project\\experiments\\a0e83e387da10a58\\sessions\\Session 05-19-2021 11-01-01 PM\n"
     ]
    },
    {
     "name": "stderr",
     "output_type": "stream",
     "text": [
      "100%|███████████████████████████████████████████████████████████████████████████████| 469/469 [00:04<00:00, 112.92it/s]\n",
      "100%|██████████████████████████████████████████████████████████████████████████████████| 79/79 [00:02<00:00, 31.73it/s]\n",
      "  0%|                                                                                          | 0/469 [00:00<?, ?it/s]"
     ]
    },
    {
     "name": "stdout",
     "output_type": "stream",
     "text": [
      "Loaded session from C:\\Users\\Windows\\Desktop\\Shahir\\18.408\\18408-final-project\\experiments\\ecf070833678850c\\sessions\\Session 05-19-2021 11-09-35 PM\n"
     ]
    },
    {
     "name": "stderr",
     "output_type": "stream",
     "text": [
      "100%|███████████████████████████████████████████████████████████████████████████████| 469/469 [00:03<00:00, 117.70it/s]\n",
      "100%|██████████████████████████████████████████████████████████████████████████████████| 79/79 [00:02<00:00, 30.72it/s]\n",
      "  0%|                                                                                          | 0/469 [00:00<?, ?it/s]"
     ]
    },
    {
     "name": "stdout",
     "output_type": "stream",
     "text": [
      "Loaded session from C:\\Users\\Windows\\Desktop\\Shahir\\18.408\\18408-final-project\\experiments\\4d5d40eb56d3320d\\sessions\\Session 05-19-2021 11-14-04 PM\n"
     ]
    },
    {
     "name": "stderr",
     "output_type": "stream",
     "text": [
      "100%|███████████████████████████████████████████████████████████████████████████████| 469/469 [00:04<00:00, 104.32it/s]\n",
      "100%|██████████████████████████████████████████████████████████████████████████████████| 79/79 [00:02<00:00, 30.35it/s]\n",
      "  0%|                                                                                          | 0/469 [00:00<?, ?it/s]"
     ]
    },
    {
     "name": "stdout",
     "output_type": "stream",
     "text": [
      "Loaded session from C:\\Users\\Windows\\Desktop\\Shahir\\18.408\\18408-final-project\\experiments\\2607b07939d866ce\\sessions\\Session 05-19-2021 11-21-26 PM\n"
     ]
    },
    {
     "name": "stderr",
     "output_type": "stream",
     "text": [
      "100%|███████████████████████████████████████████████████████████████████████████████| 469/469 [00:04<00:00, 105.18it/s]\n",
      "100%|██████████████████████████████████████████████████████████████████████████████████| 79/79 [00:02<00:00, 29.70it/s]\n",
      "  0%|                                                                                          | 0/469 [00:00<?, ?it/s]"
     ]
    },
    {
     "name": "stdout",
     "output_type": "stream",
     "text": [
      "Loaded session from C:\\Users\\Windows\\Desktop\\Shahir\\18.408\\18408-final-project\\experiments\\882202a7a512c120\\sessions\\Session 05-19-2021 11-28-41 PM\n"
     ]
    },
    {
     "name": "stderr",
     "output_type": "stream",
     "text": [
      "100%|███████████████████████████████████████████████████████████████████████████████| 469/469 [00:04<00:00, 103.57it/s]\n",
      "100%|██████████████████████████████████████████████████████████████████████████████████| 79/79 [00:02<00:00, 31.24it/s]\n",
      "  0%|                                                                                          | 0/469 [00:00<?, ?it/s]"
     ]
    },
    {
     "name": "stdout",
     "output_type": "stream",
     "text": [
      "Loaded session from C:\\Users\\Windows\\Desktop\\Shahir\\18.408\\18408-final-project\\experiments\\b4b23dd89e541c3e\\sessions\\Session 05-19-2021 11-44-49 PM\n"
     ]
    },
    {
     "name": "stderr",
     "output_type": "stream",
     "text": [
      "100%|███████████████████████████████████████████████████████████████████████████████| 469/469 [00:03<00:00, 138.84it/s]\n",
      "100%|██████████████████████████████████████████████████████████████████████████████████| 79/79 [00:02<00:00, 31.72it/s]\n",
      "  0%|                                                                                          | 0/469 [00:00<?, ?it/s]"
     ]
    },
    {
     "name": "stdout",
     "output_type": "stream",
     "text": [
      "Loaded session from C:\\Users\\Windows\\Desktop\\Shahir\\18.408\\18408-final-project\\experiments\\06657670ade2d620\\sessions\\Session 05-19-2021 11-47-53 PM\n"
     ]
    },
    {
     "name": "stderr",
     "output_type": "stream",
     "text": [
      "100%|███████████████████████████████████████████████████████████████████████████████| 469/469 [00:03<00:00, 128.63it/s]\n",
      "100%|██████████████████████████████████████████████████████████████████████████████████| 79/79 [00:02<00:00, 32.33it/s]\n",
      "  0%|                                                                                          | 0/469 [00:00<?, ?it/s]"
     ]
    },
    {
     "name": "stdout",
     "output_type": "stream",
     "text": [
      "Loaded session from C:\\Users\\Windows\\Desktop\\Shahir\\18.408\\18408-final-project\\experiments\\b35a20d1e0bc8e69\\sessions\\Session 05-19-2021 11-50-52 PM\n"
     ]
    },
    {
     "name": "stderr",
     "output_type": "stream",
     "text": [
      "100%|███████████████████████████████████████████████████████████████████████████████| 469/469 [00:03<00:00, 135.68it/s]\n",
      "100%|██████████████████████████████████████████████████████████████████████████████████| 79/79 [00:02<00:00, 31.60it/s]\n",
      "  0%|                                                                                          | 0/469 [00:00<?, ?it/s]"
     ]
    },
    {
     "name": "stdout",
     "output_type": "stream",
     "text": [
      "Loaded session from C:\\Users\\Windows\\Desktop\\Shahir\\18.408\\18408-final-project\\experiments\\cc4f70580f659ae2\\sessions\\Session 05-19-2021 11-54-32 PM\n"
     ]
    },
    {
     "name": "stderr",
     "output_type": "stream",
     "text": [
      "100%|███████████████████████████████████████████████████████████████████████████████| 469/469 [00:03<00:00, 127.96it/s]\n",
      "100%|██████████████████████████████████████████████████████████████████████████████████| 79/79 [00:02<00:00, 33.69it/s]\n",
      "  0%|                                                                                          | 0/469 [00:00<?, ?it/s]"
     ]
    },
    {
     "name": "stdout",
     "output_type": "stream",
     "text": [
      "Loaded session from C:\\Users\\Windows\\Desktop\\Shahir\\18.408\\18408-final-project\\experiments\\3015aa5d6a0c7071\\sessions\\Session 05-19-2021 11-58-19 PM\n"
     ]
    },
    {
     "name": "stderr",
     "output_type": "stream",
     "text": [
      "100%|███████████████████████████████████████████████████████████████████████████████| 469/469 [00:03<00:00, 140.92it/s]\n",
      "100%|██████████████████████████████████████████████████████████████████████████████████| 79/79 [00:02<00:00, 32.28it/s]\n",
      "  0%|                                                                                          | 0/469 [00:00<?, ?it/s]"
     ]
    },
    {
     "name": "stdout",
     "output_type": "stream",
     "text": [
      "Loaded session from C:\\Users\\Windows\\Desktop\\Shahir\\18.408\\18408-final-project\\experiments\\93da7f74ebde4583\\sessions\\Session 05-20-2021 12-00-16 AM\n"
     ]
    },
    {
     "name": "stderr",
     "output_type": "stream",
     "text": [
      "100%|███████████████████████████████████████████████████████████████████████████████| 469/469 [00:03<00:00, 128.96it/s]\n",
      "100%|██████████████████████████████████████████████████████████████████████████████████| 79/79 [00:02<00:00, 32.32it/s]\n",
      "  0%|                                                                                          | 0/469 [00:00<?, ?it/s]"
     ]
    },
    {
     "name": "stdout",
     "output_type": "stream",
     "text": [
      "Loaded session from C:\\Users\\Windows\\Desktop\\Shahir\\18.408\\18408-final-project\\experiments\\c8bb6c984d1838c2\\sessions\\Session 05-20-2021 12-05-45 AM\n"
     ]
    },
    {
     "name": "stderr",
     "output_type": "stream",
     "text": [
      "100%|███████████████████████████████████████████████████████████████████████████████| 469/469 [00:03<00:00, 135.29it/s]\n",
      "100%|██████████████████████████████████████████████████████████████████████████████████| 79/79 [00:02<00:00, 32.98it/s]\n",
      "  0%|                                                                                          | 0/469 [00:00<?, ?it/s]"
     ]
    },
    {
     "name": "stdout",
     "output_type": "stream",
     "text": [
      "Loaded session from C:\\Users\\Windows\\Desktop\\Shahir\\18.408\\18408-final-project\\experiments\\21fdaafa8005e8c0\\sessions\\Session 05-20-2021 12-08-55 AM\n"
     ]
    },
    {
     "name": "stderr",
     "output_type": "stream",
     "text": [
      "100%|███████████████████████████████████████████████████████████████████████████████| 469/469 [00:03<00:00, 123.33it/s]\n",
      "100%|██████████████████████████████████████████████████████████████████████████████████| 79/79 [00:02<00:00, 30.16it/s]\n",
      "  0%|                                                                                          | 0/469 [00:00<?, ?it/s]"
     ]
    },
    {
     "name": "stdout",
     "output_type": "stream",
     "text": [
      "Loaded session from C:\\Users\\Windows\\Desktop\\Shahir\\18.408\\18408-final-project\\experiments\\42f9a78f85c8ef07\\sessions\\Session 05-20-2021 12-13-16 AM\n"
     ]
    },
    {
     "name": "stderr",
     "output_type": "stream",
     "text": [
      "100%|███████████████████████████████████████████████████████████████████████████████| 469/469 [00:03<00:00, 132.96it/s]\n",
      "100%|██████████████████████████████████████████████████████████████████████████████████| 79/79 [00:02<00:00, 32.38it/s]\n",
      "  0%|                                                                                          | 0/469 [00:00<?, ?it/s]"
     ]
    },
    {
     "name": "stdout",
     "output_type": "stream",
     "text": [
      "Loaded session from C:\\Users\\Windows\\Desktop\\Shahir\\18.408\\18408-final-project\\experiments\\579ecb5c6b7adf71\\sessions\\Session 05-20-2021 12-17-31 AM\n"
     ]
    },
    {
     "name": "stderr",
     "output_type": "stream",
     "text": [
      "100%|███████████████████████████████████████████████████████████████████████████████| 469/469 [00:03<00:00, 118.32it/s]\n",
      "100%|██████████████████████████████████████████████████████████████████████████████████| 79/79 [00:02<00:00, 29.92it/s]\n",
      "  0%|                                                                                          | 0/469 [00:00<?, ?it/s]"
     ]
    },
    {
     "name": "stdout",
     "output_type": "stream",
     "text": [
      "Loaded session from C:\\Users\\Windows\\Desktop\\Shahir\\18.408\\18408-final-project\\experiments\\59579eb5e7209392\\sessions\\Session 05-20-2021 12-21-57 AM\n"
     ]
    },
    {
     "name": "stderr",
     "output_type": "stream",
     "text": [
      "100%|███████████████████████████████████████████████████████████████████████████████| 469/469 [00:03<00:00, 125.74it/s]\n",
      "100%|██████████████████████████████████████████████████████████████████████████████████| 79/79 [00:02<00:00, 28.85it/s]\n",
      "  0%|                                                                                          | 0/469 [00:00<?, ?it/s]"
     ]
    },
    {
     "name": "stdout",
     "output_type": "stream",
     "text": [
      "Loaded session from C:\\Users\\Windows\\Desktop\\Shahir\\18.408\\18408-final-project\\experiments\\1854b51c32707519\\sessions\\Session 05-20-2021 12-26-02 AM\n"
     ]
    },
    {
     "name": "stderr",
     "output_type": "stream",
     "text": [
      "100%|███████████████████████████████████████████████████████████████████████████████| 469/469 [00:03<00:00, 120.19it/s]\n",
      "100%|██████████████████████████████████████████████████████████████████████████████████| 79/79 [00:02<00:00, 29.87it/s]\n",
      "  0%|                                                                                          | 0/469 [00:00<?, ?it/s]"
     ]
    },
    {
     "name": "stdout",
     "output_type": "stream",
     "text": [
      "Loaded session from C:\\Users\\Windows\\Desktop\\Shahir\\18.408\\18408-final-project\\experiments\\f5ec86de919fb473\\sessions\\Session 05-20-2021 12-32-46 AM\n"
     ]
    },
    {
     "name": "stderr",
     "output_type": "stream",
     "text": [
      "100%|███████████████████████████████████████████████████████████████████████████████| 469/469 [00:04<00:00, 116.09it/s]\n",
      "100%|██████████████████████████████████████████████████████████████████████████████████| 79/79 [00:02<00:00, 29.34it/s]\n",
      "  0%|                                                                                          | 0/469 [00:00<?, ?it/s]"
     ]
    },
    {
     "name": "stdout",
     "output_type": "stream",
     "text": [
      "Loaded session from C:\\Users\\Windows\\Desktop\\Shahir\\18.408\\18408-final-project\\experiments\\9cafe524dfee63cd\\sessions\\Session 05-20-2021 12-36-28 AM\n"
     ]
    },
    {
     "name": "stderr",
     "output_type": "stream",
     "text": [
      "100%|███████████████████████████████████████████████████████████████████████████████| 469/469 [00:04<00:00, 115.91it/s]\n",
      "100%|██████████████████████████████████████████████████████████████████████████████████| 79/79 [00:02<00:00, 30.09it/s]\n",
      "  0%|                                                                                          | 0/469 [00:00<?, ?it/s]"
     ]
    },
    {
     "name": "stdout",
     "output_type": "stream",
     "text": [
      "Loaded session from C:\\Users\\Windows\\Desktop\\Shahir\\18.408\\18408-final-project\\experiments\\f1945d2d7a45ddc1\\sessions\\Session 05-20-2021 12-40-30 AM\n"
     ]
    },
    {
     "name": "stderr",
     "output_type": "stream",
     "text": [
      "100%|███████████████████████████████████████████████████████████████████████████████| 469/469 [00:04<00:00, 113.30it/s]\n",
      "100%|██████████████████████████████████████████████████████████████████████████████████| 79/79 [00:02<00:00, 28.78it/s]\n",
      "  0%|                                                                                          | 0/469 [00:00<?, ?it/s]"
     ]
    },
    {
     "name": "stdout",
     "output_type": "stream",
     "text": [
      "Loaded session from C:\\Users\\Windows\\Desktop\\Shahir\\18.408\\18408-final-project\\experiments\\f71774f89351ba55\\sessions\\Session 05-20-2021 12-47-38 AM\n"
     ]
    },
    {
     "name": "stderr",
     "output_type": "stream",
     "text": [
      "100%|███████████████████████████████████████████████████████████████████████████████| 469/469 [00:04<00:00, 100.65it/s]\n",
      "100%|██████████████████████████████████████████████████████████████████████████████████| 79/79 [00:02<00:00, 29.07it/s]\n",
      "  0%|                                                                                          | 0/469 [00:00<?, ?it/s]"
     ]
    },
    {
     "name": "stdout",
     "output_type": "stream",
     "text": [
      "Loaded session from C:\\Users\\Windows\\Desktop\\Shahir\\18.408\\18408-final-project\\experiments\\86c1cf097326d81f\\sessions\\Session 05-20-2021 12-54-52 AM\n"
     ]
    },
    {
     "name": "stderr",
     "output_type": "stream",
     "text": [
      "100%|███████████████████████████████████████████████████████████████████████████████| 469/469 [00:04<00:00, 103.64it/s]\n",
      "100%|██████████████████████████████████████████████████████████████████████████████████| 79/79 [00:02<00:00, 28.79it/s]\n",
      "  0%|                                                                                          | 0/469 [00:00<?, ?it/s]"
     ]
    },
    {
     "name": "stdout",
     "output_type": "stream",
     "text": [
      "Loaded session from C:\\Users\\Windows\\Desktop\\Shahir\\18.408\\18408-final-project\\experiments\\126d660ff193dd67\\sessions\\Session 05-20-2021 01-00-43 AM\n"
     ]
    },
    {
     "name": "stderr",
     "output_type": "stream",
     "text": [
      "100%|███████████████████████████████████████████████████████████████████████████████| 469/469 [00:04<00:00, 106.52it/s]\n",
      "100%|██████████████████████████████████████████████████████████████████████████████████| 79/79 [00:02<00:00, 28.93it/s]\n"
     ]
    }
   ],
   "source": [
    "results = {}\n",
    "\n",
    "for c in configs:\n",
    "    h = manager.find_experiment(c)\n",
    "    if not h:\n",
    "        continue\n",
    "    if c.model_config.config.depth <= 2:\n",
    "        continue\n",
    "    setup, state = manager.load_experiment(c, device)\n",
    "    if not state.training_complete:\n",
    "        continue\n",
    "\n",
    "    dataloaders = setup['data_setup']['dataloaders']\n",
    "    model = setup['model']\n",
    "    criterion = setup['training_setup']['criterion']\n",
    "    train_stats = get_dataloader_stats(dataloaders['train'], model, criterion, device)\n",
    "    test_stats = get_dataloader_stats(dataloaders['test'], model, criterion, device)\n",
    "    \n",
    "    w_norm_prod = get_weight_norm_prod(model)\n",
    "    \n",
    "    outputs = test_stats['outputs']\n",
    "    labels = test_stats['labels']\n",
    "    mask = np.tile(np.arange(outputs.shape[1]), (outputs.shape[0], 1))\n",
    "    mask = mask != labels.reshape(-1, 1)\n",
    "    f_x_y = outputs[np.arange(outputs.shape[0]), labels]\n",
    "    max_incorrect = outputs[mask].reshape((outputs.shape[0], outputs.shape[1] - 1)).max(axis=1)\n",
    "    margins = f_x_y - max_incorrect\n",
    "    \n",
    "    depth = c.model_config.config.depth\n",
    "    \n",
    "    if test_stats['acc'] < 0.5:\n",
    "        print(\"WARNING: LOW ACCURACY\")\n",
    "        print(c)\n",
    "\n",
    "    stats = {\n",
    "        \"config\": c,\n",
    "        \"train_acc\": train_stats['acc'],\n",
    "        \"test_acc\": test_stats['acc'],\n",
    "        \"gen_error\": train_stats['acc'] - test_stats['acc'],\n",
    "        \"weight_norm_prod\": w_norm_prod,\n",
    "        \"margins\": margins,\n",
    "        \"depth\": depth\n",
    "    }\n",
    "    \n",
    "    results[h] = stats\n"
   ]
  },
  {
   "cell_type": "code",
   "execution_count": 10,
   "id": "9d548403",
   "metadata": {},
   "outputs": [
    {
     "name": "stdout",
     "output_type": "stream",
     "text": [
      "{'config': {'dataset_config': {'dataset_type': 'img', 'dataset_config': {'img_dataset_type': 'mnist', 'num_train_samples': 60000, 'num_test_samples': 10000, 'new_input_size': None, 'flatten': False, 'augment': False, 'corrupt_frac': 0.0, 'seed': 0}}, 'model_config': {'model_type': 'cnn_toy', 'model_config': {'depth': 30, 'input_img_dim': 28, 'input_num_channels': 1, 'output_dim': 10, 'kernel_size': 3, 'seed': None}}, 'training_config': {'optimizer_type': 'sgd_momentum', 'loss_type': 'cross_entropy', 'lr': 0.01, 'num_epochs': 60, 'clip_grad_norm': False, 'weight_decay': 0.0001, 'use_lr_schedule': False, 'epoch_lr_decay_steps': None, 'lr_decay_gamma': None, 'early_stop': True, 'early_stop_acc': 0.75, 'early_stop_patience': 5}, 'trial_index': 0}, 'train_acc': 1.0, 'test_acc': 0.994, 'gen_error': 0.006000000000000005, 'weight_norm_prod': 2.9091903550975944e+16, 'margins': array([23.552975, 24.628159, 18.33342 , ..., 27.215668, 20.329704,\n",
      "       16.16164 ], dtype=float32), 'depth': 30}\n"
     ]
    }
   ],
   "source": [
    "print(stats)"
   ]
  },
  {
   "cell_type": "code",
   "execution_count": 11,
   "id": "9e85233f",
   "metadata": {},
   "outputs": [],
   "source": [
    "def invalid_run(r):\n",
    "    return r['test_acc'] < 0.5 or r['depth'] < 3"
   ]
  },
  {
   "cell_type": "code",
   "execution_count": 18,
   "id": "8ad2eaad",
   "metadata": {},
   "outputs": [],
   "source": [
    "plt.rcParams.update({'font.size': 12})"
   ]
  },
  {
   "cell_type": "code",
   "execution_count": 19,
   "id": "7e67dee7",
   "metadata": {
    "scrolled": true
   },
   "outputs": [
    {
     "data": {
      "image/png": "[encoded data removed]",
      "text/plain": [
       "<Figure size 432x288 with 1 Axes>"
      ]
     },
     "metadata": {
      "needs_background": "light"
     },
     "output_type": "display_data"
    }
   ],
   "source": [
    "depths = []\n",
    "test_accs = []\n",
    "\n",
    "for h, r in results.items():\n",
    "    if invalid_run(r):\n",
    "        continue\n",
    "    depths.append(r['depth'])\n",
    "    test_accs.append(r['test_acc'])\n",
    "\n",
    "plt.xlabel('Depth')\n",
    "plt.ylabel('Testing Accuracy')\n",
    "plt.scatter(depths, test_accs)\n",
    "plt.xlim(left=-0.2)\n",
    "plt.show()"
   ]
  },
  {
   "cell_type": "code",
   "execution_count": 20,
   "id": "1d024218",
   "metadata": {
    "scrolled": true
   },
   "outputs": [
    {
     "data": {
      "image/png": "[encoded data removed]",
      "text/plain": [
       "<Figure size 432x288 with 1 Axes>"
      ]
     },
     "metadata": {
      "needs_background": "light"
     },
     "output_type": "display_data"
    }
   ],
   "source": [
    "depths = []\n",
    "gen_errs = []\n",
    "\n",
    "for h, r in results.items():\n",
    "    if invalid_run(r):\n",
    "        continue\n",
    "    depths.append(r['depth'])\n",
    "    gen_errs.append(abs(r['gen_error']))\n",
    "\n",
    "plt.xlabel('Depth')\n",
    "plt.ylabel('Generalization Error')\n",
    "plt.scatter(depths, gen_errs)\n",
    "plt.xlim(left=-0.2)\n",
    "plt.show()"
   ]
  },
  {
   "cell_type": "code",
   "execution_count": 21,
   "id": "f58f1b32",
   "metadata": {
    "scrolled": true
   },
   "outputs": [
    {
     "data": {
      "image/png": "[encoded data removed]",
      "text/plain": [
       "<Figure size 432x288 with 1 Axes>"
      ]
     },
     "metadata": {
      "needs_background": "light"
     },
     "output_type": "display_data"
    }
   ],
   "source": [
    "depths = []\n",
    "w_norm_prods = []\n",
    "\n",
    "for h, r in results.items():\n",
    "    if invalid_run(r):\n",
    "        continue\n",
    "    depths.append(r['depth']) #r['config'].training_config.weight_decay)\n",
    "    w_norm_prods.append(r['weight_norm_prod'])\n",
    "    \n",
    "plt.xlabel('Depth')\n",
    "plt.ylabel('Weight Norm Products')\n",
    "plt.yscale('log')\n",
    "plt.scatter(depths, w_norm_prods)\n",
    "plt.show()"
   ]
  },
  {
   "cell_type": "code",
   "execution_count": 22,
   "id": "889b5061",
   "metadata": {},
   "outputs": [
    {
     "data": {
      "image/png": "[encoded data removed]",
      "text/plain": [
       "<Figure size 432x288 with 1 Axes>"
      ]
     },
     "metadata": {
      "needs_background": "light"
     },
     "output_type": "display_data"
    }
   ],
   "source": [
    "depths = []\n",
    "w_norm_prods = []\n",
    "\n",
    "for h, r in results.items():\n",
    "    if invalid_run(r):\n",
    "        continue\n",
    "    depths.append(r['config'].dataset_config.config.num_train_samples)\n",
    "    w_norm_prods.append(r['weight_norm_prod'])\n",
    "\n",
    "plt.yscale('log')\n",
    "plt.xlabel('Number of Training Samples')\n",
    "plt.ylabel('Weight Norm Products')\n",
    "plt.scatter(depths, w_norm_prods)\n",
    "plt.show()"
   ]
  },
  {
   "cell_type": "code",
   "execution_count": 23,
   "id": "01f2c9d1",
   "metadata": {
    "scrolled": true
   },
   "outputs": [
    {
     "data": {
      "image/png": "[encoded data removed]",
      "text/plain": [
       "<Figure size 432x288 with 1 Axes>"
      ]
     },
     "metadata": {
      "needs_background": "light"
     },
     "output_type": "display_data"
    }
   ],
   "source": [
    "w_norm_prods = []\n",
    "gen_errs = []\n",
    "\n",
    "for h, r in results.items():\n",
    "    if invalid_run(r):\n",
    "        continue\n",
    "    w_norm_prods.append(r['weight_norm_prod'])\n",
    "    gen_errs.append(r['gen_error'])\n",
    "\n",
    "plt.xscale('log')\n",
    "plt.xlabel('Weight Norm Products')\n",
    "plt.ylabel('Generalization Error')\n",
    "plt.scatter(w_norm_prods, gen_errs)\n",
    "plt.show()"
   ]
  },
  {
   "cell_type": "code",
   "execution_count": 24,
   "id": "687587b7",
   "metadata": {},
   "outputs": [
    {
     "data": {
      "image/png": "[encoded data removed]",
      "text/plain": [
       "<Figure size 432x288 with 1 Axes>"
      ]
     },
     "metadata": {
      "needs_background": "light"
     },
     "output_type": "display_data"
    }
   ],
   "source": [
    "depths = []\n",
    "gen_errs = []\n",
    "w_norm_prods = []\n",
    "\n",
    "fig = plt.figure()\n",
    "ax = fig.add_subplot(projection='3d')\n",
    "for h, r in results.items():\n",
    "    if invalid_run(r):\n",
    "        continue\n",
    "    depths.append(r['depth'])\n",
    "    gen_errs.append(r['gen_error'])\n",
    "    w_norm_prods.append(r['weight_norm_prod'])\n",
    "ax.set_xlabel('Depth')\n",
    "ax.set_ylabel('Weight Norm Products')\n",
    "ax.set_zlabel('Generalization Error')\n",
    "#plt.xlim(left=-0.2)\n",
    "ax.scatter(depths, w_norm_prods, gen_errs, marker='o')\n",
    "plt.show()"
   ]
  },
  {
   "cell_type": "code",
   "execution_count": null,
   "id": "51e08397",
   "metadata": {},
   "outputs": [],
   "source": []
  },
  {
   "cell_type": "code",
   "execution_count": null,
   "id": "00ea1240",
   "metadata": {},
   "outputs": [],
   "source": []
  },
  {
   "cell_type": "code",
   "execution_count": 27,
   "id": "badc1396",
   "metadata": {},
   "outputs": [],
   "source": [
    "manager._save_index()"
   ]
  },
  {
   "cell_type": "code",
   "execution_count": null,
   "id": "8b61fce6",
   "metadata": {},
   "outputs": [],
   "source": []
  }
 ],
 "metadata": {
  "kernelspec": {
   "display_name": "Python 3",
   "language": "python",
   "name": "python3"
  },
  "language_info": {
   "codemirror_mode": {
    "name": "ipython",
    "version": 3
   },
   "file_extension": ".py",
   "mimetype": "text/x-python",
   "name": "python",
   "nbconvert_exporter": "python",
   "pygments_lexer": "ipython3",
   "version": "3.8.8"
  }
 },
 "nbformat": 4,
 "nbformat_minor": 5
}
