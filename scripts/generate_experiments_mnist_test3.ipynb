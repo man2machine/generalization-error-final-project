{
 "cells": [
  {
   "cell_type": "code",
   "execution_count": 1,
   "id": "negative-german",
   "metadata": {},
   "outputs": [],
   "source": [
    "import os\n",
    "import json\n",
    "\n",
    "import numpy as np\n",
    "import torch\n",
    "import torchvision\n",
    "from torchsummary import summary\n",
    "\n",
    "from project_18408.datasets import *\n",
    "from project_18408.evaluation import *\n",
    "from project_18408.experiments import *"
   ]
  },
  {
   "cell_type": "code",
   "execution_count": 2,
   "id": "applied-bullet",
   "metadata": {},
   "outputs": [
    {
     "name": "stdout",
     "output_type": "stream",
     "text": [
      "PyTorch Version: 1.8.0\n",
      "Torchvision Version: 0.9.0\n",
      "Using the GPU!\n"
     ]
    }
   ],
   "source": [
    "print(\"PyTorch Version:\", torch.__version__)\n",
    "print(\"Torchvision Version:\", torchvision.__version__)\n",
    "# Detect if we have a GPU available\n",
    "device = torch.device(\"cuda\" if torch.cuda.is_available() else \"cpu\")\n",
    "if torch.cuda.is_available():\n",
    "    print(\"Using the GPU!\")\n",
    "else:\n",
    "    print(\"WARNING: Could not find GPU! Using CPU only\")"
   ]
  },
  {
   "cell_type": "code",
   "execution_count": 3,
   "id": "70295b92",
   "metadata": {},
   "outputs": [],
   "source": [
    "# fixed paramaters\n",
    "img_dataset_type = ImageDatasetType.MNIST\n",
    "layer_width = 100\n",
    "num_epochs = 60\n",
    "input_img_dim = IMG_DATASET_TO_IMG_SIZE[img_dataset_type]\n",
    "input_num_channels = 1\n",
    "output_dim = IMG_DATASET_TO_NUM_CLASSES[img_dataset_type]\n",
    "lr = 0.01\n",
    "\n",
    "# varied parameters\n",
    "num_train_samples_space = np.array([20000, 40000, 60000])\n",
    "depth_space = np.array([3, 5, 10, 15, 20, 30])\n",
    "weight_decay_space = np.array([0, 1e-5, 1e-4])\n",
    "label_corrupt_frac_space = np.array([0])\n",
    "trial_index_space = np.array([0])"
   ]
  },
  {
   "cell_type": "code",
   "execution_count": 4,
   "id": "afraid-publicity",
   "metadata": {},
   "outputs": [],
   "source": [
    "def generate_config(num_train_samples,\n",
    "                    depth,\n",
    "                    weight_decay,\n",
    "                    corrupt_frac,\n",
    "                    trial_index):\n",
    "    num_train_samples = int(num_train_samples)\n",
    "    depth = int(depth)\n",
    "    weight_decay = float(weight_decay)\n",
    "    corrupt_frac = float(corrupt_frac)\n",
    "    trial_index = int(trial_index)\n",
    "    early_stop_acc = (1-corrupt_frac) * 0.75\n",
    "    \n",
    "    img_dataset_type = ImageDatasetType.MNIST\n",
    "    dataset_config = DatasetConfig(\n",
    "        dataset_type=DatasetType.IMG,\n",
    "        dataset_config=ImageDatasetConfig(\n",
    "            img_dataset_type=img_dataset_type,\n",
    "            num_train_samples=num_train_samples,\n",
    "            corrupt_frac=corrupt_frac,\n",
    "            flatten=False,\n",
    "            seed=0\n",
    "        )\n",
    "    )\n",
    "\n",
    "    model_config = ModelConfig(\n",
    "        model_type=ModelType.CNN_TOY,\n",
    "        model_config=CNNModelConfig(\n",
    "             depth=depth, \n",
    "             input_img_dim=input_img_dim, \n",
    "             input_num_channels=input_num_channels,\n",
    "             output_dim=output_dim, \n",
    "             kernel_size=3,\n",
    "             seed=None\n",
    "        )\n",
    "    )\n",
    "\n",
    "    training_config = TrainingConfig(\n",
    "        optimizer_type=OptimizerType.SGD_MOMENTUM,\n",
    "        loss_type=LossType.CROSS_ENTROPY,\n",
    "        num_epochs=num_epochs,\n",
    "        weight_decay=weight_decay,\n",
    "        early_stop=True,\n",
    "        early_stop_acc=early_stop_acc,\n",
    "        lr=lr\n",
    "    )\n",
    "\n",
    "    experiment_config = ExperimentConfig(\n",
    "        dataset_config=dataset_config,\n",
    "        model_config=model_config,\n",
    "        training_config=training_config,\n",
    "        trial_index=trial_index\n",
    "    )\n",
    "    \n",
    "    return experiment_config"
   ]
  },
  {
   "cell_type": "code",
   "execution_count": 5,
   "id": "ec2a90e8",
   "metadata": {},
   "outputs": [],
   "source": [
    "experiment_configs = []\n",
    "\n",
    "spaces = (num_train_samples_space, depth_space, weight_decay_space, label_corrupt_frac_space, trial_index_space)\n",
    "grids = np.meshgrid(*spaces, indexing='ij')\n",
    "for index in np.ndindex(grids[0].shape):\n",
    "    params = [g[index] for g in grids]\n",
    "    config = generate_config(*params)\n",
    "    experiment_configs.append(config)"
   ]
  },
  {
   "cell_type": "code",
   "execution_count": 6,
   "id": "b17bf47a",
   "metadata": {},
   "outputs": [
    {
     "name": "stdout",
     "output_type": "stream",
     "text": [
      "63 configurations generated\n"
     ]
    }
   ],
   "source": [
    "print(len(experiment_configs), \"configurations generated\")"
   ]
  },
  {
   "cell_type": "code",
   "execution_count": 7,
   "id": "afc223be",
   "metadata": {},
   "outputs": [],
   "source": [
    "configs_fname = \"experiment_configs_mnist_test3.json\""
   ]
  },
  {
   "cell_type": "code",
   "execution_count": 8,
   "id": "f307a83f",
   "metadata": {},
   "outputs": [],
   "source": [
    "out = [c.to_dict() for c in experiment_configs]\n",
    "with open(configs_fname, 'w') as f:\n",
    "    json.dump(out, f, indent=4)"
   ]
  },
  {
   "cell_type": "code",
   "execution_count": null,
   "id": "f6373e3b",
   "metadata": {},
   "outputs": [],
   "source": []
  },
  {
   "cell_type": "code",
   "execution_count": null,
   "id": "423d9a44",
   "metadata": {},
   "outputs": [],
   "source": []
  }
 ],
 "metadata": {
  "kernelspec": {
   "display_name": "Python 3",
   "language": "python",
   "name": "python3"
  },
  "language_info": {
   "codemirror_mode": {
    "name": "ipython",
    "version": 3
   },
   "file_extension": ".py",
   "mimetype": "text/x-python",
   "name": "python",
   "nbconvert_exporter": "python",
   "pygments_lexer": "ipython3",
   "version": "3.8.8"
  }
 },
 "nbformat": 4,
 "nbformat_minor": 5
}
