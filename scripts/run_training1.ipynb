{
 "cells": [
  {
   "cell_type": "code",
   "execution_count": null,
   "id": "negative-german",
   "metadata": {},
   "outputs": [],
   "source": [
    "import os\n",
    "import random\n",
    "import numpy as np\n",
    "import torch\n",
    "import torchvision\n",
    "from torchsummary import summary\n",
    "\n",
    "from project_18408.datasets import *\n",
    "from project_18408.training import *\n",
    "from project_18408.evaluation import *\n",
    "from project_18408.models.relu_toy_models import *\n",
    "from project_18408.utils import *"
   ]
  },
  {
   "cell_type": "code",
   "execution_count": null,
   "id": "applied-bullet",
   "metadata": {},
   "outputs": [],
   "source": [
    "print(\"PyTorch Version:\", torch.__version__)\n",
    "print(\"Torchvision Version:\", torchvision.__version__)\n",
    "# Detect if we have a GPU available\n",
    "device = torch.device(\"cuda\" if torch.cuda.is_available() else \"cpu\")\n",
    "if torch.cuda.is_available():\n",
    "    print(\"Using the GPU!\")\n",
    "else:\n",
    "    print(\"WARNING: Could not find GPU! Using CPU only\")"
   ]
  },
  {
   "cell_type": "code",
   "execution_count": null,
   "id": "buried-edmonton",
   "metadata": {},
   "outputs": [],
   "source": [
    "data_dir = get_rel_pkg_path(\"dataset/\")\n",
    "weights_dir = get_rel_pkg_path(\"weights/\")\n",
    "session_dir = get_rel_pkg_path(\"sessions/\")"
   ]
  },
  {
   "cell_type": "code",
   "execution_count": null,
   "id": "7cf0a918",
   "metadata": {},
   "outputs": [],
   "source": [
    "dataset_type = ImageDatasetType.MNIST"
   ]
  },
  {
   "cell_type": "code",
   "execution_count": null,
   "id": "familiar-number",
   "metadata": {},
   "outputs": [],
   "source": [
    "orig_datasets = get_img_dataset(data_dir, dataset_type)"
   ]
  },
  {
   "cell_type": "code",
   "execution_count": null,
   "id": "cloudy-cassette",
   "metadata": {
    "scrolled": true
   },
   "outputs": [],
   "source": [
    "print(\"Training\")\n",
    "show_dataset_samples_img(orig_datasets['train'], cmap='gray')\n",
    "\n",
    "print(\"Testing\")\n",
    "show_dataset_samples_img(orig_datasets['test'], cmap='gray')"
   ]
  },
  {
   "cell_type": "code",
   "execution_count": null,
   "id": "compound-mentor",
   "metadata": {},
   "outputs": [],
   "source": [
    "datasets = apply_img_transforms(orig_datasets, dataset_type, flatten=True)"
   ]
  },
  {
   "cell_type": "code",
   "execution_count": null,
   "id": "clear-bosnia",
   "metadata": {},
   "outputs": [],
   "source": [
    "dataloaders = get_dataloaders(datasets, 128, 128, num_workers=0)"
   ]
  },
  {
   "cell_type": "code",
   "execution_count": null,
   "id": "inner-soundtrack",
   "metadata": {},
   "outputs": [],
   "source": [
    "input_dim = IMG_DATASET_TO_IMG_SIZE_FLAT[dataset_type]\n",
    "num_classes = IMG_DATASET_TO_NUM_CLASSES[dataset_type]\n",
    "\n",
    "model = ReLUToyModel(input_dim, num_classes, layer_dims=[100]*8)\n",
    "model = model.to(device)"
   ]
  },
  {
   "cell_type": "code",
   "execution_count": null,
   "id": "general-michigan",
   "metadata": {},
   "outputs": [],
   "source": [
    "summary(model, (input_dim,))"
   ]
  },
  {
   "cell_type": "code",
   "execution_count": null,
   "id": "first-airplane",
   "metadata": {},
   "outputs": [],
   "source": [
    "num_epochs = 60\n",
    "\n",
    "criterion = get_loss()\n",
    "criterion = criterion.to(device)\n",
    "\n",
    "optimizer = make_optimizer(model, optimzer_type=OptimizerType.SGD_MOMENTUM,\n",
    "                           lr=0.001, weight_decay=1e-5, verbose=False)"
   ]
  },
  {
   "cell_type": "code",
   "execution_count": null,
   "id": "august-blues",
   "metadata": {
    "scrolled": true
   },
   "outputs": [],
   "source": [
    "tracker = train_model(device=device,\n",
    "                      model=model,\n",
    "                      dataloaders=dataloaders,\n",
    "                      criterion=criterion,\n",
    "                      optimizer=optimizer,\n",
    "                      lr_scheduler=None,\n",
    "                      save_log=True,\n",
    "                      save_model=True,\n",
    "                      save_dir=weights_dir,\n",
    "                      save_best=False,\n",
    "                      save_latest=True,\n",
    "                      save_all=False,\n",
    "                      num_epochs=num_epochs)"
   ]
  },
  {
   "cell_type": "code",
   "execution_count": null,
   "id": "furnished-tattoo",
   "metadata": {},
   "outputs": [],
   "source": [
    "print(tracker.save_dir)"
   ]
  },
  {
   "cell_type": "code",
   "execution_count": null,
   "id": "raised-lucas",
   "metadata": {},
   "outputs": [],
   "source": [
    "for n in dataloaders['test']: print(n[0].shape); break;"
   ]
  },
  {
   "cell_type": "code",
   "execution_count": null,
   "id": "italian-picture",
   "metadata": {},
   "outputs": [],
   "source": [
    "%qtconsole"
   ]
  },
  {
   "cell_type": "code",
   "execution_count": null,
   "id": "afraid-publicity",
   "metadata": {},
   "outputs": [],
   "source": [
    "model"
   ]
  },
  {
   "cell_type": "code",
   "execution_count": null,
   "id": "eastern-dakota",
   "metadata": {},
   "outputs": [],
   "source": [
    "for n in dataloaders['test']: break"
   ]
  },
  {
   "cell_type": "code",
   "execution_count": null,
   "id": "3dd0d969",
   "metadata": {},
   "outputs": [],
   "source": [
    "n[0].shape"
   ]
  },
  {
   "cell_type": "code",
   "execution_count": null,
   "id": "803192f4",
   "metadata": {},
   "outputs": [],
   "source": []
  }
 ],
 "metadata": {
  "kernelspec": {
   "display_name": "Python 3",
   "language": "python",
   "name": "python3"
  },
  "language_info": {
   "codemirror_mode": {
    "name": "ipython",
    "version": 3
   },
   "file_extension": ".py",
   "mimetype": "text/x-python",
   "name": "python",
   "nbconvert_exporter": "python",
   "pygments_lexer": "ipython3",
   "version": "3.8.8"
  }
 },
 "nbformat": 4,
 "nbformat_minor": 5
}
