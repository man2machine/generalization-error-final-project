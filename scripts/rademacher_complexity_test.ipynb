{
 "cells": [
  {
   "cell_type": "code",
   "execution_count": 1,
   "id": "711a90eb",
   "metadata": {},
   "outputs": [],
   "source": [
    "import os\n",
    "import json\n",
    "import time\n",
    "\n",
    "import numpy as np\n",
    "import torch\n",
    "import torchvision\n",
    "from torchsummary import summary\n",
    "\n",
    "from project_18408.datasets import *\n",
    "from project_18408.evaluation import *\n",
    "from project_18408.experiments import *\n",
    "from project_18408.utils import *\n",
    "\n",
    "import numpy as np\n",
    "import matplotlib.pyplot as plt"
   ]
  },
  {
   "cell_type": "code",
   "execution_count": 2,
   "id": "378fa2cc",
   "metadata": {},
   "outputs": [
    {
     "name": "stdout",
     "output_type": "stream",
     "text": [
      "PyTorch Version: 1.8.0\n",
      "Torchvision Version: 0.9.0\n",
      "Using the GPU!\n"
     ]
    }
   ],
   "source": [
    "print(\"PyTorch Version:\", torch.__version__)\n",
    "print(\"Torchvision Version:\", torchvision.__version__)\n",
    "# Detect if we have a GPU available\n",
    "device = torch.device(\"cuda\" if torch.cuda.is_available() else \"cpu\")\n",
    "if torch.cuda.is_available():\n",
    "    print(\"Using the GPU!\")\n",
    "else:\n",
    "    print(\"WARNING: Could not find GPU! Using CPU only\")"
   ]
  },
  {
   "cell_type": "code",
   "execution_count": 3,
   "id": "585603e1",
   "metadata": {},
   "outputs": [],
   "source": [
    "def random_sample_ball(radius, num_samples, d):\n",
    "    output_samples = np.random.normal(size=(num_samples,d)) \n",
    "    output_samples = (output_samples.T / np.linalg.norm(output_samples, axis=1)).T\n",
    "    random_radii = np.random.random(num_samples) ** (1/d)\n",
    "    output_samples = np.multiply(output_samples, random_radii[:, np.newaxis])\n",
    "    return output_samples * radius\n",
    "\n",
    "def random_sample_binary(num_samples, d):\n",
    "    return np.random.choice([1, -1], (num_samples, d))"
   ]
  },
  {
   "cell_type": "code",
   "execution_count": 4,
   "id": "6f7e5329",
   "metadata": {},
   "outputs": [],
   "source": [
    "def dec_to_bin(x):\n",
    "    return np.array([2*int(a)-1 for a in list(bin(x)[2:])])\n",
    "\n",
    "def all_sample_binary(d):\n",
    "    output_samples = np.zeros((2**d, d))\n",
    "    for i in range(2**d):\n",
    "        xi = dec_to_bin(i)\n",
    "        xi = np.pad(xi, (d - len(xi), 0), mode='constant', constant_values=-1)\n",
    "        output_samples[i] = xi\n",
    "    return output_samples.T\n"
   ]
  },
  {
   "cell_type": "code",
   "execution_count": 5,
   "id": "499a096d",
   "metadata": {},
   "outputs": [],
   "source": [
    "def train_model(\n",
    "    device,\n",
    "    model,\n",
    "    dataloaders,\n",
    "    criterion,\n",
    "    optimizer,\n",
    "    w_norm_prod_bound,\n",
    "    num_epochs=1):\n",
    "    start_time = time.time()\n",
    "    \n",
    "    train_loss_record = []\n",
    "    for epoch in range(num_epochs):\n",
    "        model.train()\n",
    "        running_loss = 0.0\n",
    "        running_count = 0\n",
    "        stop = False\n",
    "        for inputs, labels in dataloaders['train']:\n",
    "            inputs = inputs.to(device)\n",
    "            labels = labels.to(device)\n",
    "            optimizer.zero_grad()\n",
    "            with torch.set_grad_enabled(True):\n",
    "                # Get model outputs and calculate loss\n",
    "                outputs = model(inputs)\n",
    "                loss = criterion(outputs, labels)\n",
    "                train_loss_record.append(loss.detach().item())\n",
    "                loss.backward()\n",
    "                optimizer.step()\n",
    "            running_loss += loss.detach().item() * inputs.size(0)\n",
    "            running_count += inputs.size(0)\n",
    "            training_loss = running_loss / running_count\n",
    "            if get_weight_norm_prod(model) > w_norm_prod_bound:\n",
    "                stop = True\n",
    "                break\n",
    "            del loss\n",
    "        if stop:\n",
    "            break\n",
    "        if torch.cuda.is_available():\n",
    "            torch.cuda.empty_cache()\n",
    "    time_elapsed = time.time() - start_time\n",
    "    return train_loss_record"
   ]
  },
  {
   "cell_type": "code",
   "execution_count": 6,
   "id": "b4bdca5c",
   "metadata": {},
   "outputs": [],
   "source": [
    "def get_weight_norm_prod(model):\n",
    "    prod = 1\n",
    "    for layer in model.layers:\n",
    "        if isinstance(layer, nn.Linear):\n",
    "            v = layer.weight.norm().item()\n",
    "            prod *= v\n",
    "    return prod"
   ]
  },
  {
   "cell_type": "code",
   "execution_count": 7,
   "id": "ab846840",
   "metadata": {},
   "outputs": [],
   "source": [
    "def criterion(output, target):\n",
    "    loss = -torch.abs(torch.matmul(output.T, target)[0])\n",
    "    return loss"
   ]
  },
  {
   "cell_type": "code",
   "execution_count": 8,
   "id": "aeca2257",
   "metadata": {},
   "outputs": [],
   "source": [
    "data_dir = get_rel_pkg_path(\"dataset/\")\n",
    "weights_dir = get_rel_pkg_path(\"weights/\")\n",
    "session_dir = get_rel_pkg_path(\"sessions/\")"
   ]
  },
  {
   "cell_type": "code",
   "execution_count": 9,
   "id": "ed16a90a",
   "metadata": {},
   "outputs": [],
   "source": [
    "rc_trials = 5\n",
    "depths_to_test = list(range(2, 10))\n",
    "rc_per_depth_samples = []"
   ]
  },
  {
   "cell_type": "code",
   "execution_count": 10,
   "id": "049a0bc2",
   "metadata": {
    "scrolled": true
   },
   "outputs": [
    {
     "name": "stderr",
     "output_type": "stream",
     "text": [
      "100%|██████████████████████████████████████████████████████████████████████████████████| 32/32 [00:03<00:00,  8.25it/s]\n",
      "100%|██████████████████████████████████████████████████████████████████████████████████| 32/32 [00:02<00:00, 12.53it/s]\n",
      "100%|██████████████████████████████████████████████████████████████████████████████████| 32/32 [00:04<00:00,  7.52it/s]\n",
      "100%|██████████████████████████████████████████████████████████████████████████████████| 32/32 [00:06<00:00,  4.70it/s]\n",
      "100%|██████████████████████████████████████████████████████████████████████████████████| 32/32 [00:10<00:00,  2.95it/s]\n",
      "100%|██████████████████████████████████████████████████████████████████████████████████| 32/32 [00:11<00:00,  2.77it/s]\n",
      "100%|██████████████████████████████████████████████████████████████████████████████████| 32/32 [00:11<00:00,  2.71it/s]\n",
      "100%|██████████████████████████████████████████████████████████████████████████████████| 32/32 [00:12<00:00,  2.48it/s]\n",
      "100%|██████████████████████████████████████████████████████████████████████████████████| 32/32 [00:01<00:00, 17.00it/s]\n",
      "100%|██████████████████████████████████████████████████████████████████████████████████| 32/32 [00:03<00:00,  9.97it/s]\n",
      "100%|██████████████████████████████████████████████████████████████████████████████████| 32/32 [00:05<00:00,  6.33it/s]\n",
      "100%|██████████████████████████████████████████████████████████████████████████████████| 32/32 [00:07<00:00,  4.01it/s]\n",
      "100%|██████████████████████████████████████████████████████████████████████████████████| 32/32 [00:08<00:00,  3.72it/s]\n",
      "100%|██████████████████████████████████████████████████████████████████████████████████| 32/32 [00:10<00:00,  2.98it/s]\n",
      "100%|██████████████████████████████████████████████████████████████████████████████████| 32/32 [00:12<00:00,  2.51it/s]\n",
      "100%|██████████████████████████████████████████████████████████████████████████████████| 32/32 [00:14<00:00,  2.23it/s]\n",
      "100%|██████████████████████████████████████████████████████████████████████████████████| 32/32 [00:02<00:00, 14.22it/s]\n",
      "100%|██████████████████████████████████████████████████████████████████████████████████| 32/32 [00:03<00:00,  8.29it/s]\n",
      "100%|██████████████████████████████████████████████████████████████████████████████████| 32/32 [00:04<00:00,  7.22it/s]\n",
      "100%|██████████████████████████████████████████████████████████████████████████████████| 32/32 [00:07<00:00,  4.14it/s]\n",
      "100%|██████████████████████████████████████████████████████████████████████████████████| 32/32 [00:09<00:00,  3.39it/s]\n",
      "100%|██████████████████████████████████████████████████████████████████████████████████| 32/32 [00:10<00:00,  2.95it/s]\n",
      "100%|██████████████████████████████████████████████████████████████████████████████████| 32/32 [00:12<00:00,  2.65it/s]\n",
      "100%|██████████████████████████████████████████████████████████████████████████████████| 32/32 [00:12<00:00,  2.56it/s]\n",
      "100%|██████████████████████████████████████████████████████████████████████████████████| 32/32 [00:02<00:00, 15.65it/s]\n",
      "100%|██████████████████████████████████████████████████████████████████████████████████| 32/32 [00:03<00:00, 10.37it/s]\n",
      "100%|██████████████████████████████████████████████████████████████████████████████████| 32/32 [00:05<00:00,  6.15it/s]\n",
      "100%|██████████████████████████████████████████████████████████████████████████████████| 32/32 [00:07<00:00,  4.17it/s]\n",
      "100%|██████████████████████████████████████████████████████████████████████████████████| 32/32 [00:09<00:00,  3.43it/s]\n",
      "100%|██████████████████████████████████████████████████████████████████████████████████| 32/32 [00:12<00:00,  2.64it/s]\n",
      "100%|██████████████████████████████████████████████████████████████████████████████████| 32/32 [00:13<00:00,  2.42it/s]\n",
      "100%|██████████████████████████████████████████████████████████████████████████████████| 32/32 [00:14<00:00,  2.24it/s]\n",
      "100%|██████████████████████████████████████████████████████████████████████████████████| 32/32 [00:01<00:00, 18.57it/s]\n",
      "100%|██████████████████████████████████████████████████████████████████████████████████| 32/32 [00:03<00:00, 10.51it/s]\n",
      "100%|██████████████████████████████████████████████████████████████████████████████████| 32/32 [00:04<00:00,  6.42it/s]\n",
      "100%|██████████████████████████████████████████████████████████████████████████████████| 32/32 [00:06<00:00,  4.78it/s]\n",
      "100%|██████████████████████████████████████████████████████████████████████████████████| 32/32 [00:09<00:00,  3.21it/s]\n",
      "100%|██████████████████████████████████████████████████████████████████████████████████| 32/32 [00:10<00:00,  2.94it/s]\n",
      "100%|██████████████████████████████████████████████████████████████████████████████████| 32/32 [00:11<00:00,  2.68it/s]\n",
      "100%|██████████████████████████████████████████████████████████████████████████████████| 32/32 [00:13<00:00,  2.39it/s]\n"
     ]
    }
   ],
   "source": [
    "for _ in range(rc_trials):\n",
    "    num_samples_bin = 2**5\n",
    "    num_samples_input = 5\n",
    "    input_dim = 5\n",
    "    ball_radius = 1\n",
    "    w_norm_prod_bound = 10\n",
    "    network_width = 5\n",
    "\n",
    "    input_samples = random_sample_ball(ball_radius, num_samples_input, input_dim)\n",
    "    string_samples = random_sample_binary(num_samples_input, num_samples_bin)\n",
    "    string_samples = all_sample_binary(num_samples_input)\n",
    "\n",
    "    rc_per_depth = []\n",
    "\n",
    "    for d in depths_to_test:\n",
    "        prods = []\n",
    "        for n in tqdm(range(num_samples_bin)):\n",
    "            batch_size = num_samples_input\n",
    "            target_samples = string_samples[:, n]\n",
    "            dataset = RawDataset(input_samples.astype(np.float32), target_samples.astype(np.float32))\n",
    "            dataloader = DataLoader(dataset,\n",
    "                    batch_size=batch_size,\n",
    "                    shuffle=True,\n",
    "                    num_workers=0,\n",
    "                    pin_memory=False)\n",
    "            dataloaders = {'train': dataloader, 'test': dataloader}\n",
    "            model = ReLUToyModel(input_dim, 1, layer_dims=[network_width]*(d - 1), bias=False)\n",
    "            model = model.to(device)\n",
    "            optimizer = make_optimizer(model, optimzer_type=OptimizerType.SGD_MOMENTUM,\n",
    "                                   lr=0.01, weight_decay=0, verbose=False, clip_grad_norm=True)\n",
    "            loss_history = train_model(device=device,\n",
    "                              model=model,\n",
    "                              dataloaders=dataloaders,\n",
    "                              criterion=criterion,\n",
    "                              optimizer=optimizer,\n",
    "                              w_norm_prod_bound=w_norm_prod_bound,\n",
    "                              num_epochs=100)\n",
    "            max_dot_prod = -loss_history[-2]\n",
    "            prods.append(max_dot_prod)\n",
    "        rc_per_depth.append(np.mean(prods))\n",
    "    rc_per_depth_samples.append(rc_per_depth)\n",
    "    "
   ]
  },
  {
   "cell_type": "code",
   "execution_count": 12,
   "id": "a640f76e",
   "metadata": {},
   "outputs": [],
   "source": [
    "plt.rcParams.update({'font.size': 12})"
   ]
  },
  {
   "cell_type": "code",
   "execution_count": 13,
   "id": "f24c5d25",
   "metadata": {},
   "outputs": [
    {
     "data": {
      "image/png": "[encoded data removed]",
      "text/plain": [
       "<Figure size 432x288 with 1 Axes>"
      ]
     },
     "metadata": {
      "needs_background": "light"
     },
     "output_type": "display_data"
    }
   ],
   "source": [
    "depths = []\n",
    "rcs = []\n",
    "for i in range(rc_trials):\n",
    "    for j in range(len(depths_to_test)):\n",
    "        depths.append(depths_to_test[j])\n",
    "        rcs.append(rc_per_depth_samples[i][j])\n",
    "\n",
    "plt.scatter(depths, rcs)\n",
    "plt.ylim(bottom=0)\n",
    "plt.xlabel(\"Depth\")\n",
    "plt.ylabel(\"Rademacher Complexity\")\n",
    "plt.show()"
   ]
  },
  {
   "cell_type": "code",
   "execution_count": null,
   "id": "a3c0185c",
   "metadata": {},
   "outputs": [],
   "source": []
  }
 ],
 "metadata": {
  "kernelspec": {
   "display_name": "Python 3",
   "language": "python",
   "name": "python3"
  },
  "language_info": {
   "codemirror_mode": {
    "name": "ipython",
    "version": 3
   },
   "file_extension": ".py",
   "mimetype": "text/x-python",
   "name": "python",
   "nbconvert_exporter": "python",
   "pygments_lexer": "ipython3",
   "version": "3.8.8"
  }
 },
 "nbformat": 4,
 "nbformat_minor": 5
}
