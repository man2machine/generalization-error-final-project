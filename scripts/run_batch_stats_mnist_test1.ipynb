{
 "cells": [
  {
   "cell_type": "code",
   "execution_count": 1,
   "id": "negative-german",
   "metadata": {},
   "outputs": [],
   "source": [
    "import os\n",
    "import json\n",
    "\n",
    "import numpy as np\n",
    "import torch\n",
    "import torchvision\n",
    "from torchsummary import summary\n",
    "\n",
    "from project_18408.datasets import *\n",
    "from project_18408.evaluation import *\n",
    "from project_18408.experiments import *\n",
    "from project_18408.utils import *"
   ]
  },
  {
   "cell_type": "code",
   "execution_count": 2,
   "id": "applied-bullet",
   "metadata": {},
   "outputs": [
    {
     "name": "stdout",
     "output_type": "stream",
     "text": [
      "PyTorch Version: 1.8.0\n",
      "Torchvision Version: 0.9.0\n",
      "Using the GPU!\n"
     ]
    }
   ],
   "source": [
    "print(\"PyTorch Version:\", torch.__version__)\n",
    "print(\"Torchvision Version:\", torchvision.__version__)\n",
    "# Detect if we have a GPU available\n",
    "device = torch.device(\"cuda\" if torch.cuda.is_available() else \"cpu\")\n",
    "if torch.cuda.is_available():\n",
    "    print(\"Using the GPU!\")\n",
    "else:\n",
    "    print(\"WARNING: Could not find GPU! Using CPU only\")"
   ]
  },
  {
   "cell_type": "code",
   "execution_count": 3,
   "id": "4a91c558",
   "metadata": {},
   "outputs": [],
   "source": [
    "data_dir = get_rel_pkg_path(\"dataset/\")\n",
    "experiment_dir = get_rel_pkg_path(\"experiments/\")"
   ]
  },
  {
   "cell_type": "code",
   "execution_count": 4,
   "id": "fc770c50",
   "metadata": {},
   "outputs": [],
   "source": [
    "manager = ExperimentManager(data_dir, experiment_dir)"
   ]
  },
  {
   "cell_type": "code",
   "execution_count": 5,
   "id": "70295b92",
   "metadata": {},
   "outputs": [],
   "source": [
    "configs_fname = \"experiment_configs_mnist_test1.json\""
   ]
  },
  {
   "cell_type": "code",
   "execution_count": 6,
   "id": "a8842de6",
   "metadata": {},
   "outputs": [],
   "source": [
    "with open(configs_fname, 'r') as f:\n",
    "    configs = json.load(f)\n",
    "configs = [ExperimentConfig.from_dict(c) for c in configs]"
   ]
  },
  {
   "cell_type": "code",
   "execution_count": 7,
   "id": "cf6e76aa",
   "metadata": {},
   "outputs": [],
   "source": [
    "def get_weight_norm_prod(model):\n",
    "    prod = 1\n",
    "    for layer in model.layers:\n",
    "        if isinstance(layer, nn.Linear):\n",
    "            v = layer.weight.norm().item()\n",
    "            prod *= v\n",
    "    return prod"
   ]
  },
  {
   "cell_type": "code",
   "execution_count": 8,
   "id": "e52e574a",
   "metadata": {
    "scrolled": true
   },
   "outputs": [
    {
     "name": "stderr",
     "output_type": "stream",
     "text": [
      "\r",
      "  0%|                                                                                          | 0/469 [00:00<?, ?it/s]"
     ]
    },
    {
     "name": "stdout",
     "output_type": "stream",
     "text": [
      "Loaded session from C:\\Users\\Windows\\Desktop\\Shahir\\18.408\\18408-final-project\\experiments\\4b6c6784241787e3\\sessions\\Session 05-19-2021 06-09-16 AM\n"
     ]
    },
    {
     "name": "stderr",
     "output_type": "stream",
     "text": [
      "100%|███████████████████████████████████████████████████████████████████████████████| 469/469 [00:04<00:00, 116.76it/s]\n",
      "100%|██████████████████████████████████████████████████████████████████████████████████| 79/79 [00:02<00:00, 31.66it/s]\n",
      "  0%|                                                                                          | 0/469 [00:00<?, ?it/s]"
     ]
    },
    {
     "name": "stdout",
     "output_type": "stream",
     "text": [
      "Loaded session from C:\\Users\\Windows\\Desktop\\Shahir\\18.408\\18408-final-project\\experiments\\ebfbe283f1c8a1c5\\sessions\\Session 05-19-2021 06-14-52 AM\n"
     ]
    },
    {
     "name": "stderr",
     "output_type": "stream",
     "text": [
      "100%|███████████████████████████████████████████████████████████████████████████████| 469/469 [00:03<00:00, 127.09it/s]\n",
      "100%|██████████████████████████████████████████████████████████████████████████████████| 79/79 [00:02<00:00, 30.91it/s]\n",
      "  0%|                                                                                          | 0/469 [00:00<?, ?it/s]"
     ]
    },
    {
     "name": "stdout",
     "output_type": "stream",
     "text": [
      "Loaded session from C:\\Users\\Windows\\Desktop\\Shahir\\18.408\\18408-final-project\\experiments\\b6f6c04b88dbe847\\sessions\\Session 05-19-2021 06-18-06 AM\n"
     ]
    },
    {
     "name": "stderr",
     "output_type": "stream",
     "text": [
      "100%|███████████████████████████████████████████████████████████████████████████████| 469/469 [00:03<00:00, 125.89it/s]\n",
      "100%|██████████████████████████████████████████████████████████████████████████████████| 79/79 [00:02<00:00, 31.79it/s]\n",
      "  0%|                                                                                          | 0/469 [00:00<?, ?it/s]"
     ]
    },
    {
     "name": "stdout",
     "output_type": "stream",
     "text": [
      "Loaded session from C:\\Users\\Windows\\Desktop\\Shahir\\18.408\\18408-final-project\\experiments\\3ca7bdc1d14d477d\\sessions\\Session 05-19-2021 06-25-11 AM\n"
     ]
    },
    {
     "name": "stderr",
     "output_type": "stream",
     "text": [
      "100%|███████████████████████████████████████████████████████████████████████████████| 469/469 [00:03<00:00, 129.38it/s]\n",
      "100%|██████████████████████████████████████████████████████████████████████████████████| 79/79 [00:02<00:00, 30.89it/s]\n",
      "  0%|                                                                                          | 0/469 [00:00<?, ?it/s]"
     ]
    },
    {
     "name": "stdout",
     "output_type": "stream",
     "text": [
      "Loaded session from C:\\Users\\Windows\\Desktop\\Shahir\\18.408\\18408-final-project\\experiments\\9d28940fd6a00f91\\sessions\\Session 05-19-2021 06-30-53 AM\n"
     ]
    },
    {
     "name": "stderr",
     "output_type": "stream",
     "text": [
      "100%|███████████████████████████████████████████████████████████████████████████████| 469/469 [00:03<00:00, 129.19it/s]\n",
      "100%|██████████████████████████████████████████████████████████████████████████████████| 79/79 [00:02<00:00, 32.62it/s]\n",
      "  0%|                                                                                          | 0/469 [00:00<?, ?it/s]"
     ]
    },
    {
     "name": "stdout",
     "output_type": "stream",
     "text": [
      "Loaded session from C:\\Users\\Windows\\Desktop\\Shahir\\18.408\\18408-final-project\\experiments\\a649a288db75857c\\sessions\\Session 05-19-2021 06-36-36 AM\n"
     ]
    },
    {
     "name": "stderr",
     "output_type": "stream",
     "text": [
      "100%|███████████████████████████████████████████████████████████████████████████████| 469/469 [00:03<00:00, 127.82it/s]\n",
      "100%|██████████████████████████████████████████████████████████████████████████████████| 79/79 [00:02<00:00, 31.90it/s]\n",
      "  0%|                                                                                          | 0/469 [00:00<?, ?it/s]"
     ]
    },
    {
     "name": "stdout",
     "output_type": "stream",
     "text": [
      "Loaded session from C:\\Users\\Windows\\Desktop\\Shahir\\18.408\\18408-final-project\\experiments\\69331838767d877b\\sessions\\Session 05-19-2021 06-41-19 AM\n"
     ]
    },
    {
     "name": "stderr",
     "output_type": "stream",
     "text": [
      "100%|███████████████████████████████████████████████████████████████████████████████| 469/469 [00:03<00:00, 127.61it/s]\n",
      "100%|██████████████████████████████████████████████████████████████████████████████████| 79/79 [00:02<00:00, 32.45it/s]\n",
      "  0%|                                                                                          | 0/469 [00:00<?, ?it/s]"
     ]
    },
    {
     "name": "stdout",
     "output_type": "stream",
     "text": [
      "Loaded session from C:\\Users\\Windows\\Desktop\\Shahir\\18.408\\18408-final-project\\experiments\\221dffeaa4777191\\sessions\\Session 05-19-2021 06-45-48 AM\n"
     ]
    },
    {
     "name": "stderr",
     "output_type": "stream",
     "text": [
      "100%|███████████████████████████████████████████████████████████████████████████████| 469/469 [00:03<00:00, 127.20it/s]\n",
      "100%|██████████████████████████████████████████████████████████████████████████████████| 79/79 [00:02<00:00, 32.02it/s]\n",
      "  0%|                                                                                          | 0/469 [00:00<?, ?it/s]"
     ]
    },
    {
     "name": "stdout",
     "output_type": "stream",
     "text": [
      "Loaded session from C:\\Users\\Windows\\Desktop\\Shahir\\18.408\\18408-final-project\\experiments\\c4006ecb1f07900d\\sessions\\Session 05-19-2021 06-50-32 AM\n"
     ]
    },
    {
     "name": "stderr",
     "output_type": "stream",
     "text": [
      "100%|███████████████████████████████████████████████████████████████████████████████| 469/469 [00:03<00:00, 128.51it/s]\n",
      "100%|██████████████████████████████████████████████████████████████████████████████████| 79/79 [00:02<00:00, 32.11it/s]\n",
      "  0%|                                                                                          | 0/469 [00:00<?, ?it/s]"
     ]
    },
    {
     "name": "stdout",
     "output_type": "stream",
     "text": [
      "Loaded session from C:\\Users\\Windows\\Desktop\\Shahir\\18.408\\18408-final-project\\experiments\\5652a57e55ed40cb\\sessions\\Session 05-19-2021 06-53-26 AM\n"
     ]
    },
    {
     "name": "stderr",
     "output_type": "stream",
     "text": [
      "100%|███████████████████████████████████████████████████████████████████████████████| 469/469 [00:03<00:00, 128.40it/s]\n",
      "100%|██████████████████████████████████████████████████████████████████████████████████| 79/79 [00:02<00:00, 31.85it/s]\n",
      "  0%|                                                                                          | 0/469 [00:00<?, ?it/s]"
     ]
    },
    {
     "name": "stdout",
     "output_type": "stream",
     "text": [
      "Loaded session from C:\\Users\\Windows\\Desktop\\Shahir\\18.408\\18408-final-project\\experiments\\ecfd2fee24c632e0\\sessions\\Session 05-19-2021 06-56-46 AM\n"
     ]
    },
    {
     "name": "stderr",
     "output_type": "stream",
     "text": [
      "100%|███████████████████████████████████████████████████████████████████████████████| 469/469 [00:03<00:00, 133.21it/s]\n",
      "100%|██████████████████████████████████████████████████████████████████████████████████| 79/79 [00:02<00:00, 32.02it/s]\n",
      "  0%|                                                                                          | 0/469 [00:00<?, ?it/s]"
     ]
    },
    {
     "name": "stdout",
     "output_type": "stream",
     "text": [
      "Loaded session from C:\\Users\\Windows\\Desktop\\Shahir\\18.408\\18408-final-project\\experiments\\2cebe7a02ae39957\\sessions\\Session 05-19-2021 07-00-28 AM\n"
     ]
    },
    {
     "name": "stderr",
     "output_type": "stream",
     "text": [
      "100%|███████████████████████████████████████████████████████████████████████████████| 469/469 [00:03<00:00, 131.89it/s]\n",
      "100%|██████████████████████████████████████████████████████████████████████████████████| 79/79 [00:02<00:00, 30.91it/s]\n",
      "  0%|                                                                                          | 0/469 [00:00<?, ?it/s]"
     ]
    },
    {
     "name": "stdout",
     "output_type": "stream",
     "text": [
      "Loaded session from C:\\Users\\Windows\\Desktop\\Shahir\\18.408\\18408-final-project\\experiments\\5d8b1b90e92ada4f\\sessions\\Session 05-19-2021 07-05-10 AM\n"
     ]
    },
    {
     "name": "stderr",
     "output_type": "stream",
     "text": [
      "100%|███████████████████████████████████████████████████████████████████████████████| 469/469 [00:03<00:00, 133.25it/s]\n",
      "100%|██████████████████████████████████████████████████████████████████████████████████| 79/79 [00:02<00:00, 30.73it/s]\n",
      "  0%|                                                                                          | 0/469 [00:00<?, ?it/s]"
     ]
    },
    {
     "name": "stdout",
     "output_type": "stream",
     "text": [
      "Loaded session from C:\\Users\\Windows\\Desktop\\Shahir\\18.408\\18408-final-project\\experiments\\0d3e694058efc299\\sessions\\Session 05-19-2021 07-09-12 AM\n"
     ]
    },
    {
     "name": "stderr",
     "output_type": "stream",
     "text": [
      "100%|███████████████████████████████████████████████████████████████████████████████| 469/469 [00:03<00:00, 124.66it/s]\n",
      "100%|██████████████████████████████████████████████████████████████████████████████████| 79/79 [00:02<00:00, 31.12it/s]\n",
      "  0%|                                                                                          | 0/469 [00:00<?, ?it/s]"
     ]
    },
    {
     "name": "stdout",
     "output_type": "stream",
     "text": [
      "Loaded session from C:\\Users\\Windows\\Desktop\\Shahir\\18.408\\18408-final-project\\experiments\\098b63005c483dff\\sessions\\Session 05-19-2021 07-12-35 AM\n"
     ]
    },
    {
     "name": "stderr",
     "output_type": "stream",
     "text": [
      "100%|███████████████████████████████████████████████████████████████████████████████| 469/469 [00:03<00:00, 122.41it/s]\n",
      "100%|██████████████████████████████████████████████████████████████████████████████████| 79/79 [00:02<00:00, 31.33it/s]\n",
      "  0%|                                                                                          | 0/469 [00:00<?, ?it/s]"
     ]
    },
    {
     "name": "stdout",
     "output_type": "stream",
     "text": [
      "Loaded session from C:\\Users\\Windows\\Desktop\\Shahir\\18.408\\18408-final-project\\experiments\\738e48f13def3deb\\sessions\\Session 05-19-2021 07-16-47 AM\n"
     ]
    },
    {
     "name": "stderr",
     "output_type": "stream",
     "text": [
      "100%|███████████████████████████████████████████████████████████████████████████████| 469/469 [00:03<00:00, 125.38it/s]\n",
      "100%|██████████████████████████████████████████████████████████████████████████████████| 79/79 [00:02<00:00, 31.40it/s]\n",
      "  0%|                                                                                          | 0/469 [00:00<?, ?it/s]"
     ]
    },
    {
     "name": "stdout",
     "output_type": "stream",
     "text": [
      "Loaded session from C:\\Users\\Windows\\Desktop\\Shahir\\18.408\\18408-final-project\\experiments\\79799825e36494fd\\sessions\\Session 05-19-2021 07-22-28 AM\n"
     ]
    },
    {
     "name": "stderr",
     "output_type": "stream",
     "text": [
      "100%|███████████████████████████████████████████████████████████████████████████████| 469/469 [00:03<00:00, 131.71it/s]\n",
      "100%|██████████████████████████████████████████████████████████████████████████████████| 79/79 [00:02<00:00, 31.85it/s]\n",
      "  0%|                                                                                          | 0/469 [00:00<?, ?it/s]"
     ]
    },
    {
     "name": "stdout",
     "output_type": "stream",
     "text": [
      "Loaded session from C:\\Users\\Windows\\Desktop\\Shahir\\18.408\\18408-final-project\\experiments\\6287f27c576a64c6\\sessions\\Session 05-19-2021 07-29-06 AM\n"
     ]
    },
    {
     "name": "stderr",
     "output_type": "stream",
     "text": [
      "100%|███████████████████████████████████████████████████████████████████████████████| 469/469 [00:03<00:00, 127.18it/s]\n",
      "100%|██████████████████████████████████████████████████████████████████████████████████| 79/79 [00:02<00:00, 31.67it/s]\n",
      "  0%|                                                                                          | 0/469 [00:00<?, ?it/s]"
     ]
    },
    {
     "name": "stdout",
     "output_type": "stream",
     "text": [
      "Loaded session from C:\\Users\\Windows\\Desktop\\Shahir\\18.408\\18408-final-project\\experiments\\a9fe1221369e95e2\\sessions\\Session 05-19-2021 07-38-07 AM\n"
     ]
    },
    {
     "name": "stderr",
     "output_type": "stream",
     "text": [
      "100%|███████████████████████████████████████████████████████████████████████████████| 469/469 [00:03<00:00, 132.93it/s]\n",
      "100%|██████████████████████████████████████████████████████████████████████████████████| 79/79 [00:02<00:00, 31.14it/s]\n",
      "  0%|                                                                                          | 0/469 [00:00<?, ?it/s]"
     ]
    },
    {
     "name": "stdout",
     "output_type": "stream",
     "text": [
      "WARNING: LOW ACCURACY\n",
      "{'dataset_config': {'dataset_type': 'img', 'dataset_config': {'img_dataset_type': 'mnist', 'num_train_samples': 20000, 'num_test_samples': 10000, 'new_input_size': None, 'flatten': True, 'augment': False, 'corrupt_frac': 0.0, 'seed': 0}}, 'model_config': {'model_type': 'relu_toy', 'model_config': {'input_dim': 784, 'output_dim': 10, 'layer_dims': [100, 100, 100, 100, 100, 100, 100, 100, 100, 100], 'bias': False, 'seed': None}}, 'training_config': {'optimizer_type': 'sgd_momentum', 'loss_type': 'cross_entropy', 'lr': 0.01, 'num_epochs': 50, 'clip_grad_norm': False, 'weight_decay': 0.0, 'use_lr_schedule': False, 'epoch_lr_decay_steps': None, 'lr_decay_gamma': None, 'early_stop': True, 'early_stop_acc': 0.9, 'early_stop_patience': 5}, 'trial_index': 0}\n",
      "Loaded session from C:\\Users\\Windows\\Desktop\\Shahir\\18.408\\18408-final-project\\experiments\\f1ae11a37ecad2d1\\sessions\\Session 05-19-2021 07-47-08 AM\n"
     ]
    },
    {
     "name": "stderr",
     "output_type": "stream",
     "text": [
      "100%|███████████████████████████████████████████████████████████████████████████████| 469/469 [00:03<00:00, 122.11it/s]\n",
      "100%|██████████████████████████████████████████████████████████████████████████████████| 79/79 [00:02<00:00, 30.67it/s]\n",
      "  0%|                                                                                          | 0/469 [00:00<?, ?it/s]"
     ]
    },
    {
     "name": "stdout",
     "output_type": "stream",
     "text": [
      "WARNING: LOW ACCURACY\n",
      "{'dataset_config': {'dataset_type': 'img', 'dataset_config': {'img_dataset_type': 'mnist', 'num_train_samples': 20000, 'num_test_samples': 10000, 'new_input_size': None, 'flatten': True, 'augment': False, 'corrupt_frac': 0.0, 'seed': 0}}, 'model_config': {'model_type': 'relu_toy', 'model_config': {'input_dim': 784, 'output_dim': 10, 'layer_dims': [100, 100, 100, 100, 100, 100, 100, 100, 100, 100], 'bias': False, 'seed': None}}, 'training_config': {'optimizer_type': 'sgd_momentum', 'loss_type': 'cross_entropy', 'lr': 0.01, 'num_epochs': 50, 'clip_grad_norm': False, 'weight_decay': 1e-05, 'use_lr_schedule': False, 'epoch_lr_decay_steps': None, 'lr_decay_gamma': None, 'early_stop': True, 'early_stop_acc': 0.9, 'early_stop_patience': 5}, 'trial_index': 0}\n",
      "Loaded session from C:\\Users\\Windows\\Desktop\\Shahir\\18.408\\18408-final-project\\experiments\\060dc04137047276\\sessions\\Session 05-19-2021 07-55-59 AM\n"
     ]
    },
    {
     "name": "stderr",
     "output_type": "stream",
     "text": [
      "100%|███████████████████████████████████████████████████████████████████████████████| 469/469 [00:03<00:00, 122.84it/s]\n",
      "100%|██████████████████████████████████████████████████████████████████████████████████| 79/79 [00:02<00:00, 31.21it/s]\n",
      "  0%|                                                                                          | 0/469 [00:00<?, ?it/s]"
     ]
    },
    {
     "name": "stdout",
     "output_type": "stream",
     "text": [
      "WARNING: LOW ACCURACY\n",
      "{'dataset_config': {'dataset_type': 'img', 'dataset_config': {'img_dataset_type': 'mnist', 'num_train_samples': 20000, 'num_test_samples': 10000, 'new_input_size': None, 'flatten': True, 'augment': False, 'corrupt_frac': 0.0, 'seed': 0}}, 'model_config': {'model_type': 'relu_toy', 'model_config': {'input_dim': 784, 'output_dim': 10, 'layer_dims': [100, 100, 100, 100, 100, 100, 100, 100, 100, 100], 'bias': False, 'seed': None}}, 'training_config': {'optimizer_type': 'sgd_momentum', 'loss_type': 'cross_entropy', 'lr': 0.01, 'num_epochs': 50, 'clip_grad_norm': False, 'weight_decay': 0.0001, 'use_lr_schedule': False, 'epoch_lr_decay_steps': None, 'lr_decay_gamma': None, 'early_stop': True, 'early_stop_acc': 0.9, 'early_stop_patience': 5}, 'trial_index': 0}\n",
      "Loaded session from C:\\Users\\Windows\\Desktop\\Shahir\\18.408\\18408-final-project\\experiments\\4b9a81c09c53f354\\sessions\\Session 05-19-2021 08-05-14 AM\n"
     ]
    },
    {
     "name": "stderr",
     "output_type": "stream",
     "text": [
      "100%|███████████████████████████████████████████████████████████████████████████████| 469/469 [00:03<00:00, 123.57it/s]\n",
      "100%|██████████████████████████████████████████████████████████████████████████████████| 79/79 [00:02<00:00, 32.08it/s]\n",
      "  0%|                                                                                          | 0/469 [00:00<?, ?it/s]"
     ]
    },
    {
     "name": "stdout",
     "output_type": "stream",
     "text": [
      "WARNING: LOW ACCURACY\n",
      "{'dataset_config': {'dataset_type': 'img', 'dataset_config': {'img_dataset_type': 'mnist', 'num_train_samples': 20000, 'num_test_samples': 10000, 'new_input_size': None, 'flatten': True, 'augment': False, 'corrupt_frac': 0.0, 'seed': 0}}, 'model_config': {'model_type': 'relu_toy', 'model_config': {'input_dim': 784, 'output_dim': 10, 'layer_dims': [100, 100, 100, 100, 100, 100, 100, 100, 100, 100, 100, 100], 'bias': False, 'seed': None}}, 'training_config': {'optimizer_type': 'sgd_momentum', 'loss_type': 'cross_entropy', 'lr': 0.01, 'num_epochs': 50, 'clip_grad_norm': False, 'weight_decay': 0.0, 'use_lr_schedule': False, 'epoch_lr_decay_steps': None, 'lr_decay_gamma': None, 'early_stop': True, 'early_stop_acc': 0.9, 'early_stop_patience': 5}, 'trial_index': 0}\n",
      "Loaded session from C:\\Users\\Windows\\Desktop\\Shahir\\18.408\\18408-final-project\\experiments\\afda79e07b04c26b\\sessions\\Session 05-19-2021 08-14-29 AM\n"
     ]
    },
    {
     "name": "stderr",
     "output_type": "stream",
     "text": [
      "100%|███████████████████████████████████████████████████████████████████████████████| 469/469 [00:03<00:00, 131.46it/s]\n",
      "100%|██████████████████████████████████████████████████████████████████████████████████| 79/79 [00:02<00:00, 31.37it/s]\n",
      "  0%|                                                                                          | 0/469 [00:00<?, ?it/s]"
     ]
    },
    {
     "name": "stdout",
     "output_type": "stream",
     "text": [
      "WARNING: LOW ACCURACY\n",
      "{'dataset_config': {'dataset_type': 'img', 'dataset_config': {'img_dataset_type': 'mnist', 'num_train_samples': 20000, 'num_test_samples': 10000, 'new_input_size': None, 'flatten': True, 'augment': False, 'corrupt_frac': 0.0, 'seed': 0}}, 'model_config': {'model_type': 'relu_toy', 'model_config': {'input_dim': 784, 'output_dim': 10, 'layer_dims': [100, 100, 100, 100, 100, 100, 100, 100, 100, 100, 100, 100], 'bias': False, 'seed': None}}, 'training_config': {'optimizer_type': 'sgd_momentum', 'loss_type': 'cross_entropy', 'lr': 0.01, 'num_epochs': 50, 'clip_grad_norm': False, 'weight_decay': 1e-05, 'use_lr_schedule': False, 'epoch_lr_decay_steps': None, 'lr_decay_gamma': None, 'early_stop': True, 'early_stop_acc': 0.9, 'early_stop_patience': 5}, 'trial_index': 0}\n",
      "Loaded session from C:\\Users\\Windows\\Desktop\\Shahir\\18.408\\18408-final-project\\experiments\\39ec45a7b72c678b\\sessions\\Session 05-19-2021 08-23-55 AM\n"
     ]
    },
    {
     "name": "stderr",
     "output_type": "stream",
     "text": [
      "100%|███████████████████████████████████████████████████████████████████████████████| 469/469 [00:03<00:00, 133.72it/s]\n",
      "100%|██████████████████████████████████████████████████████████████████████████████████| 79/79 [00:02<00:00, 31.35it/s]\n",
      "  0%|                                                                                          | 0/469 [00:00<?, ?it/s]"
     ]
    },
    {
     "name": "stdout",
     "output_type": "stream",
     "text": [
      "WARNING: LOW ACCURACY\n",
      "{'dataset_config': {'dataset_type': 'img', 'dataset_config': {'img_dataset_type': 'mnist', 'num_train_samples': 20000, 'num_test_samples': 10000, 'new_input_size': None, 'flatten': True, 'augment': False, 'corrupt_frac': 0.0, 'seed': 0}}, 'model_config': {'model_type': 'relu_toy', 'model_config': {'input_dim': 784, 'output_dim': 10, 'layer_dims': [100, 100, 100, 100, 100, 100, 100, 100, 100, 100, 100, 100], 'bias': False, 'seed': None}}, 'training_config': {'optimizer_type': 'sgd_momentum', 'loss_type': 'cross_entropy', 'lr': 0.01, 'num_epochs': 50, 'clip_grad_norm': False, 'weight_decay': 0.0001, 'use_lr_schedule': False, 'epoch_lr_decay_steps': None, 'lr_decay_gamma': None, 'early_stop': True, 'early_stop_acc': 0.9, 'early_stop_patience': 5}, 'trial_index': 0}\n",
      "Loaded session from C:\\Users\\Windows\\Desktop\\Shahir\\18.408\\18408-final-project\\experiments\\d609f383b787128b\\sessions\\Session 05-19-2021 08-27-10 AM\n"
     ]
    },
    {
     "name": "stderr",
     "output_type": "stream",
     "text": [
      "100%|███████████████████████████████████████████████████████████████████████████████| 469/469 [00:03<00:00, 135.10it/s]\n",
      "100%|██████████████████████████████████████████████████████████████████████████████████| 79/79 [00:02<00:00, 32.59it/s]\n",
      "  0%|                                                                                          | 0/469 [00:00<?, ?it/s]"
     ]
    },
    {
     "name": "stdout",
     "output_type": "stream",
     "text": [
      "Loaded session from C:\\Users\\Windows\\Desktop\\Shahir\\18.408\\18408-final-project\\experiments\\46d656a3349ba4cc\\sessions\\Session 05-19-2021 08-31-07 AM\n"
     ]
    },
    {
     "name": "stderr",
     "output_type": "stream",
     "text": [
      "100%|███████████████████████████████████████████████████████████████████████████████| 469/469 [00:03<00:00, 134.63it/s]\n",
      "100%|██████████████████████████████████████████████████████████████████████████████████| 79/79 [00:02<00:00, 31.97it/s]\n",
      "  0%|                                                                                          | 0/469 [00:00<?, ?it/s]"
     ]
    },
    {
     "name": "stdout",
     "output_type": "stream",
     "text": [
      "Loaded session from C:\\Users\\Windows\\Desktop\\Shahir\\18.408\\18408-final-project\\experiments\\05f08f53ae15facf\\sessions\\Session 05-19-2021 08-33-33 AM\n"
     ]
    },
    {
     "name": "stderr",
     "output_type": "stream",
     "text": [
      "100%|███████████████████████████████████████████████████████████████████████████████| 469/469 [00:03<00:00, 129.03it/s]\n",
      "100%|██████████████████████████████████████████████████████████████████████████████████| 79/79 [00:02<00:00, 31.14it/s]\n",
      "  0%|                                                                                          | 0/469 [00:00<?, ?it/s]"
     ]
    },
    {
     "name": "stdout",
     "output_type": "stream",
     "text": [
      "Loaded session from C:\\Users\\Windows\\Desktop\\Shahir\\18.408\\18408-final-project\\experiments\\8a37370ce766364e\\sessions\\Session 05-19-2021 08-39-17 AM\n"
     ]
    },
    {
     "name": "stderr",
     "output_type": "stream",
     "text": [
      "100%|███████████████████████████████████████████████████████████████████████████████| 469/469 [00:03<00:00, 124.30it/s]\n",
      "100%|██████████████████████████████████████████████████████████████████████████████████| 79/79 [00:02<00:00, 32.08it/s]\n",
      "  0%|                                                                                          | 0/469 [00:00<?, ?it/s]"
     ]
    },
    {
     "name": "stdout",
     "output_type": "stream",
     "text": [
      "Loaded session from C:\\Users\\Windows\\Desktop\\Shahir\\18.408\\18408-final-project\\experiments\\01e713a6d8d74caf\\sessions\\Session 05-19-2021 08-44-52 AM\n"
     ]
    },
    {
     "name": "stderr",
     "output_type": "stream",
     "text": [
      "100%|███████████████████████████████████████████████████████████████████████████████| 469/469 [00:03<00:00, 130.49it/s]\n",
      "100%|██████████████████████████████████████████████████████████████████████████████████| 79/79 [00:02<00:00, 31.49it/s]\n",
      "  0%|                                                                                          | 0/469 [00:00<?, ?it/s]"
     ]
    },
    {
     "name": "stdout",
     "output_type": "stream",
     "text": [
      "Loaded session from C:\\Users\\Windows\\Desktop\\Shahir\\18.408\\18408-final-project\\experiments\\1cc8a4f8ddb9a499\\sessions\\Session 05-19-2021 08-50-25 AM\n"
     ]
    },
    {
     "name": "stderr",
     "output_type": "stream",
     "text": [
      "100%|███████████████████████████████████████████████████████████████████████████████| 469/469 [00:03<00:00, 134.94it/s]\n",
      "100%|██████████████████████████████████████████████████████████████████████████████████| 79/79 [00:02<00:00, 31.88it/s]\n",
      "  0%|                                                                                          | 0/469 [00:00<?, ?it/s]"
     ]
    },
    {
     "name": "stdout",
     "output_type": "stream",
     "text": [
      "Loaded session from C:\\Users\\Windows\\Desktop\\Shahir\\18.408\\18408-final-project\\experiments\\8ebcdb83da58a1c3\\sessions\\Session 05-19-2021 08-54-15 AM\n"
     ]
    },
    {
     "name": "stderr",
     "output_type": "stream",
     "text": [
      "100%|███████████████████████████████████████████████████████████████████████████████| 469/469 [00:03<00:00, 130.99it/s]\n",
      "100%|██████████████████████████████████████████████████████████████████████████████████| 79/79 [00:02<00:00, 31.78it/s]\n",
      "  0%|                                                                                          | 0/469 [00:00<?, ?it/s]"
     ]
    },
    {
     "name": "stdout",
     "output_type": "stream",
     "text": [
      "Loaded session from C:\\Users\\Windows\\Desktop\\Shahir\\18.408\\18408-final-project\\experiments\\74fbd53d4a49fab4\\sessions\\Session 05-19-2021 08-57-58 AM\n"
     ]
    },
    {
     "name": "stderr",
     "output_type": "stream",
     "text": [
      "100%|███████████████████████████████████████████████████████████████████████████████| 469/469 [00:03<00:00, 130.44it/s]\n",
      "100%|██████████████████████████████████████████████████████████████████████████████████| 79/79 [00:02<00:00, 31.82it/s]\n",
      "  0%|                                                                                          | 0/469 [00:00<?, ?it/s]"
     ]
    },
    {
     "name": "stdout",
     "output_type": "stream",
     "text": [
      "Loaded session from C:\\Users\\Windows\\Desktop\\Shahir\\18.408\\18408-final-project\\experiments\\793404c4d531527b\\sessions\\Session 05-19-2021 09-02-31 AM\n"
     ]
    },
    {
     "name": "stderr",
     "output_type": "stream",
     "text": [
      "100%|███████████████████████████████████████████████████████████████████████████████| 469/469 [00:03<00:00, 130.92it/s]\n",
      "100%|██████████████████████████████████████████████████████████████████████████████████| 79/79 [00:02<00:00, 33.19it/s]\n",
      "  0%|                                                                                          | 0/469 [00:00<?, ?it/s]"
     ]
    },
    {
     "name": "stdout",
     "output_type": "stream",
     "text": [
      "Loaded session from C:\\Users\\Windows\\Desktop\\Shahir\\18.408\\18408-final-project\\experiments\\34cc1ead4e57871d\\sessions\\Session 05-19-2021 09-06-25 AM\n"
     ]
    },
    {
     "name": "stderr",
     "output_type": "stream",
     "text": [
      "100%|███████████████████████████████████████████████████████████████████████████████| 469/469 [00:03<00:00, 127.59it/s]\n",
      "100%|██████████████████████████████████████████████████████████████████████████████████| 79/79 [00:02<00:00, 31.63it/s]\n",
      "  0%|                                                                                          | 0/469 [00:00<?, ?it/s]"
     ]
    },
    {
     "name": "stdout",
     "output_type": "stream",
     "text": [
      "Loaded session from C:\\Users\\Windows\\Desktop\\Shahir\\18.408\\18408-final-project\\experiments\\a07fe3ca6e91bc44\\sessions\\Session 05-19-2021 09-10-08 AM\n"
     ]
    },
    {
     "name": "stderr",
     "output_type": "stream",
     "text": [
      "100%|███████████████████████████████████████████████████████████████████████████████| 469/469 [00:03<00:00, 128.87it/s]\n",
      "100%|██████████████████████████████████████████████████████████████████████████████████| 79/79 [00:02<00:00, 32.17it/s]\n",
      "  0%|                                                                                          | 0/469 [00:00<?, ?it/s]"
     ]
    },
    {
     "name": "stdout",
     "output_type": "stream",
     "text": [
      "Loaded session from C:\\Users\\Windows\\Desktop\\Shahir\\18.408\\18408-final-project\\experiments\\e9feb71c6f8c9d6a\\sessions\\Session 05-19-2021 09-12-46 AM\n"
     ]
    },
    {
     "name": "stderr",
     "output_type": "stream",
     "text": [
      "100%|███████████████████████████████████████████████████████████████████████████████| 469/469 [00:03<00:00, 129.51it/s]\n",
      "100%|██████████████████████████████████████████████████████████████████████████████████| 79/79 [00:02<00:00, 31.36it/s]\n",
      "  0%|                                                                                          | 0/469 [00:00<?, ?it/s]"
     ]
    },
    {
     "name": "stdout",
     "output_type": "stream",
     "text": [
      "Loaded session from C:\\Users\\Windows\\Desktop\\Shahir\\18.408\\18408-final-project\\experiments\\00735f5d9110046e\\sessions\\Session 05-19-2021 09-16-09 AM\n"
     ]
    },
    {
     "name": "stderr",
     "output_type": "stream",
     "text": [
      "100%|███████████████████████████████████████████████████████████████████████████████| 469/469 [00:03<00:00, 131.66it/s]\n",
      "100%|██████████████████████████████████████████████████████████████████████████████████| 79/79 [00:02<00:00, 31.46it/s]\n",
      "  0%|                                                                                          | 0/469 [00:00<?, ?it/s]"
     ]
    },
    {
     "name": "stdout",
     "output_type": "stream",
     "text": [
      "Loaded session from C:\\Users\\Windows\\Desktop\\Shahir\\18.408\\18408-final-project\\experiments\\57c7d6a92fff5310\\sessions\\Session 05-19-2021 09-18-55 AM\n"
     ]
    },
    {
     "name": "stderr",
     "output_type": "stream",
     "text": [
      "100%|███████████████████████████████████████████████████████████████████████████████| 469/469 [00:03<00:00, 132.98it/s]\n",
      "100%|██████████████████████████████████████████████████████████████████████████████████| 79/79 [00:02<00:00, 30.99it/s]\n",
      "  0%|                                                                                          | 0/469 [00:00<?, ?it/s]"
     ]
    },
    {
     "name": "stdout",
     "output_type": "stream",
     "text": [
      "Loaded session from C:\\Users\\Windows\\Desktop\\Shahir\\18.408\\18408-final-project\\experiments\\76d665e4a4e86dbc\\sessions\\Session 05-19-2021 09-22-51 AM\n"
     ]
    },
    {
     "name": "stderr",
     "output_type": "stream",
     "text": [
      "100%|███████████████████████████████████████████████████████████████████████████████| 469/469 [00:03<00:00, 130.56it/s]\n",
      "100%|██████████████████████████████████████████████████████████████████████████████████| 79/79 [00:02<00:00, 31.84it/s]\n",
      "  0%|                                                                                          | 0/469 [00:00<?, ?it/s]"
     ]
    },
    {
     "name": "stdout",
     "output_type": "stream",
     "text": [
      "Loaded session from C:\\Users\\Windows\\Desktop\\Shahir\\18.408\\18408-final-project\\experiments\\127fd2c2f4253664\\sessions\\Session 05-19-2021 09-27-36 AM\n"
     ]
    },
    {
     "name": "stderr",
     "output_type": "stream",
     "text": [
      "100%|███████████████████████████████████████████████████████████████████████████████| 469/469 [00:03<00:00, 128.58it/s]\n",
      "100%|██████████████████████████████████████████████████████████████████████████████████| 79/79 [00:02<00:00, 31.51it/s]\n",
      "  0%|                                                                                          | 0/469 [00:00<?, ?it/s]"
     ]
    },
    {
     "name": "stdout",
     "output_type": "stream",
     "text": [
      "Loaded session from C:\\Users\\Windows\\Desktop\\Shahir\\18.408\\18408-final-project\\experiments\\c9a06a0e942d52b6\\sessions\\Session 05-19-2021 09-33-16 AM\n"
     ]
    },
    {
     "name": "stderr",
     "output_type": "stream",
     "text": [
      "100%|███████████████████████████████████████████████████████████████████████████████| 469/469 [00:03<00:00, 125.24it/s]\n",
      "100%|██████████████████████████████████████████████████████████████████████████████████| 79/79 [00:02<00:00, 31.38it/s]\n",
      "  0%|                                                                                          | 0/469 [00:00<?, ?it/s]"
     ]
    },
    {
     "name": "stdout",
     "output_type": "stream",
     "text": [
      "Loaded session from C:\\Users\\Windows\\Desktop\\Shahir\\18.408\\18408-final-project\\experiments\\8fad0252b56f63b7\\sessions\\Session 05-19-2021 09-41-31 AM\n"
     ]
    },
    {
     "name": "stderr",
     "output_type": "stream",
     "text": [
      "100%|███████████████████████████████████████████████████████████████████████████████| 469/469 [00:03<00:00, 122.01it/s]\n",
      "100%|██████████████████████████████████████████████████████████████████████████████████| 79/79 [00:02<00:00, 30.67it/s]\n",
      "  0%|                                                                                          | 0/469 [00:00<?, ?it/s]"
     ]
    },
    {
     "name": "stdout",
     "output_type": "stream",
     "text": [
      "Loaded session from C:\\Users\\Windows\\Desktop\\Shahir\\18.408\\18408-final-project\\experiments\\ef4b6e8331f24b34\\sessions\\Session 05-19-2021 09-50-20 AM\n"
     ]
    },
    {
     "name": "stderr",
     "output_type": "stream",
     "text": [
      "100%|███████████████████████████████████████████████████████████████████████████████| 469/469 [00:03<00:00, 133.14it/s]\n",
      "100%|██████████████████████████████████████████████████████████████████████████████████| 79/79 [00:02<00:00, 32.27it/s]\n",
      "  0%|                                                                                          | 0/469 [00:00<?, ?it/s]"
     ]
    },
    {
     "name": "stdout",
     "output_type": "stream",
     "text": [
      "WARNING: LOW ACCURACY\n",
      "{'dataset_config': {'dataset_type': 'img', 'dataset_config': {'img_dataset_type': 'mnist', 'num_train_samples': 40000, 'num_test_samples': 10000, 'new_input_size': None, 'flatten': True, 'augment': False, 'corrupt_frac': 0.0, 'seed': 0}}, 'model_config': {'model_type': 'relu_toy', 'model_config': {'input_dim': 784, 'output_dim': 10, 'layer_dims': [100, 100, 100, 100, 100, 100, 100, 100, 100, 100], 'bias': False, 'seed': None}}, 'training_config': {'optimizer_type': 'sgd_momentum', 'loss_type': 'cross_entropy', 'lr': 0.01, 'num_epochs': 50, 'clip_grad_norm': False, 'weight_decay': 0.0, 'use_lr_schedule': False, 'epoch_lr_decay_steps': None, 'lr_decay_gamma': None, 'early_stop': True, 'early_stop_acc': 0.9, 'early_stop_patience': 5}, 'trial_index': 0}\n",
      "Loaded session from C:\\Users\\Windows\\Desktop\\Shahir\\18.408\\18408-final-project\\experiments\\7fea66806d362118\\sessions\\Session 05-19-2021 09-59-25 AM\n"
     ]
    },
    {
     "name": "stderr",
     "output_type": "stream",
     "text": [
      "100%|███████████████████████████████████████████████████████████████████████████████| 469/469 [00:03<00:00, 130.87it/s]\n",
      "100%|██████████████████████████████████████████████████████████████████████████████████| 79/79 [00:02<00:00, 32.44it/s]\n",
      "  0%|                                                                                          | 0/469 [00:00<?, ?it/s]"
     ]
    },
    {
     "name": "stdout",
     "output_type": "stream",
     "text": [
      "WARNING: LOW ACCURACY\n",
      "{'dataset_config': {'dataset_type': 'img', 'dataset_config': {'img_dataset_type': 'mnist', 'num_train_samples': 40000, 'num_test_samples': 10000, 'new_input_size': None, 'flatten': True, 'augment': False, 'corrupt_frac': 0.0, 'seed': 0}}, 'model_config': {'model_type': 'relu_toy', 'model_config': {'input_dim': 784, 'output_dim': 10, 'layer_dims': [100, 100, 100, 100, 100, 100, 100, 100, 100, 100], 'bias': False, 'seed': None}}, 'training_config': {'optimizer_type': 'sgd_momentum', 'loss_type': 'cross_entropy', 'lr': 0.01, 'num_epochs': 50, 'clip_grad_norm': False, 'weight_decay': 1e-05, 'use_lr_schedule': False, 'epoch_lr_decay_steps': None, 'lr_decay_gamma': None, 'early_stop': True, 'early_stop_acc': 0.9, 'early_stop_patience': 5}, 'trial_index': 0}\n",
      "Loaded session from C:\\Users\\Windows\\Desktop\\Shahir\\18.408\\18408-final-project\\experiments\\ca81e805f831fd0a\\sessions\\Session 05-19-2021 10-08-28 AM\n"
     ]
    },
    {
     "name": "stderr",
     "output_type": "stream",
     "text": [
      "100%|███████████████████████████████████████████████████████████████████████████████| 469/469 [00:03<00:00, 125.67it/s]\n",
      "100%|██████████████████████████████████████████████████████████████████████████████████| 79/79 [00:02<00:00, 31.96it/s]\n",
      "  0%|                                                                                          | 0/469 [00:00<?, ?it/s]"
     ]
    },
    {
     "name": "stdout",
     "output_type": "stream",
     "text": [
      "WARNING: LOW ACCURACY\n",
      "{'dataset_config': {'dataset_type': 'img', 'dataset_config': {'img_dataset_type': 'mnist', 'num_train_samples': 40000, 'num_test_samples': 10000, 'new_input_size': None, 'flatten': True, 'augment': False, 'corrupt_frac': 0.0, 'seed': 0}}, 'model_config': {'model_type': 'relu_toy', 'model_config': {'input_dim': 784, 'output_dim': 10, 'layer_dims': [100, 100, 100, 100, 100, 100, 100, 100, 100, 100], 'bias': False, 'seed': None}}, 'training_config': {'optimizer_type': 'sgd_momentum', 'loss_type': 'cross_entropy', 'lr': 0.01, 'num_epochs': 50, 'clip_grad_norm': False, 'weight_decay': 0.0001, 'use_lr_schedule': False, 'epoch_lr_decay_steps': None, 'lr_decay_gamma': None, 'early_stop': True, 'early_stop_acc': 0.9, 'early_stop_patience': 5}, 'trial_index': 0}\n",
      "Loaded session from C:\\Users\\Windows\\Desktop\\Shahir\\18.408\\18408-final-project\\experiments\\3871de3a98025206\\sessions\\Session 05-19-2021 10-17-50 AM\n"
     ]
    },
    {
     "name": "stderr",
     "output_type": "stream",
     "text": [
      "100%|███████████████████████████████████████████████████████████████████████████████| 469/469 [00:03<00:00, 132.41it/s]\n",
      "100%|██████████████████████████████████████████████████████████████████████████████████| 79/79 [00:02<00:00, 30.31it/s]\n",
      "  0%|                                                                                          | 0/469 [00:00<?, ?it/s]"
     ]
    },
    {
     "name": "stdout",
     "output_type": "stream",
     "text": [
      "WARNING: LOW ACCURACY\n",
      "{'dataset_config': {'dataset_type': 'img', 'dataset_config': {'img_dataset_type': 'mnist', 'num_train_samples': 40000, 'num_test_samples': 10000, 'new_input_size': None, 'flatten': True, 'augment': False, 'corrupt_frac': 0.0, 'seed': 0}}, 'model_config': {'model_type': 'relu_toy', 'model_config': {'input_dim': 784, 'output_dim': 10, 'layer_dims': [100, 100, 100, 100, 100, 100, 100, 100, 100, 100, 100, 100], 'bias': False, 'seed': None}}, 'training_config': {'optimizer_type': 'sgd_momentum', 'loss_type': 'cross_entropy', 'lr': 0.01, 'num_epochs': 50, 'clip_grad_norm': False, 'weight_decay': 0.0, 'use_lr_schedule': False, 'epoch_lr_decay_steps': None, 'lr_decay_gamma': None, 'early_stop': True, 'early_stop_acc': 0.9, 'early_stop_patience': 5}, 'trial_index': 0}\n",
      "Loaded session from C:\\Users\\Windows\\Desktop\\Shahir\\18.408\\18408-final-project\\experiments\\3745d9cbfb16c236\\sessions\\Session 05-19-2021 10-26-46 AM\n"
     ]
    },
    {
     "name": "stderr",
     "output_type": "stream",
     "text": [
      "100%|███████████████████████████████████████████████████████████████████████████████| 469/469 [00:03<00:00, 125.61it/s]\n",
      "100%|██████████████████████████████████████████████████████████████████████████████████| 79/79 [00:02<00:00, 30.61it/s]\n",
      "  0%|                                                                                          | 0/469 [00:00<?, ?it/s]"
     ]
    },
    {
     "name": "stdout",
     "output_type": "stream",
     "text": [
      "WARNING: LOW ACCURACY\n",
      "{'dataset_config': {'dataset_type': 'img', 'dataset_config': {'img_dataset_type': 'mnist', 'num_train_samples': 40000, 'num_test_samples': 10000, 'new_input_size': None, 'flatten': True, 'augment': False, 'corrupt_frac': 0.0, 'seed': 0}}, 'model_config': {'model_type': 'relu_toy', 'model_config': {'input_dim': 784, 'output_dim': 10, 'layer_dims': [100, 100, 100, 100, 100, 100, 100, 100, 100, 100, 100, 100], 'bias': False, 'seed': None}}, 'training_config': {'optimizer_type': 'sgd_momentum', 'loss_type': 'cross_entropy', 'lr': 0.01, 'num_epochs': 50, 'clip_grad_norm': False, 'weight_decay': 1e-05, 'use_lr_schedule': False, 'epoch_lr_decay_steps': None, 'lr_decay_gamma': None, 'early_stop': True, 'early_stop_acc': 0.9, 'early_stop_patience': 5}, 'trial_index': 0}\n",
      "Loaded session from C:\\Users\\Windows\\Desktop\\Shahir\\18.408\\18408-final-project\\experiments\\ebc2c06a0babfa18\\sessions\\Session 05-19-2021 10-36-18 AM\n"
     ]
    },
    {
     "name": "stderr",
     "output_type": "stream",
     "text": [
      "100%|███████████████████████████████████████████████████████████████████████████████| 469/469 [00:03<00:00, 122.07it/s]\n",
      "100%|██████████████████████████████████████████████████████████████████████████████████| 79/79 [00:02<00:00, 30.94it/s]\n",
      "  0%|                                                                                          | 0/469 [00:00<?, ?it/s]"
     ]
    },
    {
     "name": "stdout",
     "output_type": "stream",
     "text": [
      "WARNING: LOW ACCURACY\n",
      "{'dataset_config': {'dataset_type': 'img', 'dataset_config': {'img_dataset_type': 'mnist', 'num_train_samples': 40000, 'num_test_samples': 10000, 'new_input_size': None, 'flatten': True, 'augment': False, 'corrupt_frac': 0.0, 'seed': 0}}, 'model_config': {'model_type': 'relu_toy', 'model_config': {'input_dim': 784, 'output_dim': 10, 'layer_dims': [100, 100, 100, 100, 100, 100, 100, 100, 100, 100, 100, 100], 'bias': False, 'seed': None}}, 'training_config': {'optimizer_type': 'sgd_momentum', 'loss_type': 'cross_entropy', 'lr': 0.01, 'num_epochs': 50, 'clip_grad_norm': False, 'weight_decay': 0.0001, 'use_lr_schedule': False, 'epoch_lr_decay_steps': None, 'lr_decay_gamma': None, 'early_stop': True, 'early_stop_acc': 0.9, 'early_stop_patience': 5}, 'trial_index': 0}\n",
      "Loaded session from C:\\Users\\Windows\\Desktop\\Shahir\\18.408\\18408-final-project\\experiments\\4f7dc8e9503b84f2\\sessions\\Session 05-19-2021 10-39-49 AM\n"
     ]
    },
    {
     "name": "stderr",
     "output_type": "stream",
     "text": [
      "100%|███████████████████████████████████████████████████████████████████████████████| 469/469 [00:03<00:00, 128.70it/s]\n",
      "100%|██████████████████████████████████████████████████████████████████████████████████| 79/79 [00:02<00:00, 31.31it/s]\n",
      "  0%|                                                                                          | 0/469 [00:00<?, ?it/s]"
     ]
    },
    {
     "name": "stdout",
     "output_type": "stream",
     "text": [
      "Loaded session from C:\\Users\\Windows\\Desktop\\Shahir\\18.408\\18408-final-project\\experiments\\a721c4c3397177e2\\sessions\\Session 05-19-2021 10-42-06 AM\n"
     ]
    },
    {
     "name": "stderr",
     "output_type": "stream",
     "text": [
      "100%|███████████████████████████████████████████████████████████████████████████████| 469/469 [00:03<00:00, 125.53it/s]\n",
      "100%|██████████████████████████████████████████████████████████████████████████████████| 79/79 [00:02<00:00, 29.69it/s]\n",
      "  0%|                                                                                          | 0/469 [00:00<?, ?it/s]"
     ]
    },
    {
     "name": "stdout",
     "output_type": "stream",
     "text": [
      "Loaded session from C:\\Users\\Windows\\Desktop\\Shahir\\18.408\\18408-final-project\\experiments\\b993973fb07e26a4\\sessions\\Session 05-19-2021 10-46-06 AM\n"
     ]
    },
    {
     "name": "stderr",
     "output_type": "stream",
     "text": [
      "100%|███████████████████████████████████████████████████████████████████████████████| 469/469 [00:03<00:00, 130.61it/s]\n",
      "100%|██████████████████████████████████████████████████████████████████████████████████| 79/79 [00:02<00:00, 30.45it/s]\n",
      "  0%|                                                                                          | 0/469 [00:00<?, ?it/s]"
     ]
    },
    {
     "name": "stdout",
     "output_type": "stream",
     "text": [
      "Loaded session from C:\\Users\\Windows\\Desktop\\Shahir\\18.408\\18408-final-project\\experiments\\6bb3c1bb86d7f927\\sessions\\Session 05-19-2021 10-50-26 AM\n"
     ]
    },
    {
     "name": "stderr",
     "output_type": "stream",
     "text": [
      "100%|███████████████████████████████████████████████████████████████████████████████| 469/469 [00:03<00:00, 121.05it/s]\n",
      "100%|██████████████████████████████████████████████████████████████████████████████████| 79/79 [00:02<00:00, 31.68it/s]\n",
      "  0%|                                                                                          | 0/469 [00:00<?, ?it/s]"
     ]
    },
    {
     "name": "stdout",
     "output_type": "stream",
     "text": [
      "Loaded session from C:\\Users\\Windows\\Desktop\\Shahir\\18.408\\18408-final-project\\experiments\\c0c64d160de80dec\\sessions\\Session 05-19-2021 10-54-48 AM\n"
     ]
    },
    {
     "name": "stderr",
     "output_type": "stream",
     "text": [
      "100%|███████████████████████████████████████████████████████████████████████████████| 469/469 [00:03<00:00, 131.30it/s]\n",
      "100%|██████████████████████████████████████████████████████████████████████████████████| 79/79 [00:02<00:00, 31.16it/s]\n",
      "  0%|                                                                                          | 0/469 [00:00<?, ?it/s]"
     ]
    },
    {
     "name": "stdout",
     "output_type": "stream",
     "text": [
      "Loaded session from C:\\Users\\Windows\\Desktop\\Shahir\\18.408\\18408-final-project\\experiments\\cca603e87b3a9f45\\sessions\\Session 05-19-2021 10-59-09 AM\n"
     ]
    },
    {
     "name": "stderr",
     "output_type": "stream",
     "text": [
      "100%|███████████████████████████████████████████████████████████████████████████████| 469/469 [00:03<00:00, 132.29it/s]\n",
      "100%|██████████████████████████████████████████████████████████████████████████████████| 79/79 [00:02<00:00, 31.35it/s]\n",
      "  0%|                                                                                          | 0/469 [00:00<?, ?it/s]"
     ]
    },
    {
     "name": "stdout",
     "output_type": "stream",
     "text": [
      "Loaded session from C:\\Users\\Windows\\Desktop\\Shahir\\18.408\\18408-final-project\\experiments\\d4fdd357531f464e\\sessions\\Session 05-19-2021 11-03-12 AM\n"
     ]
    },
    {
     "name": "stderr",
     "output_type": "stream",
     "text": [
      "100%|███████████████████████████████████████████████████████████████████████████████| 469/469 [00:03<00:00, 126.52it/s]\n",
      "100%|██████████████████████████████████████████████████████████████████████████████████| 79/79 [00:02<00:00, 31.53it/s]\n",
      "  0%|                                                                                          | 0/469 [00:00<?, ?it/s]"
     ]
    },
    {
     "name": "stdout",
     "output_type": "stream",
     "text": [
      "Loaded session from C:\\Users\\Windows\\Desktop\\Shahir\\18.408\\18408-final-project\\experiments\\61ea71e38bdf44c2\\sessions\\Session 05-19-2021 11-07-46 AM\n"
     ]
    },
    {
     "name": "stderr",
     "output_type": "stream",
     "text": [
      "100%|███████████████████████████████████████████████████████████████████████████████| 469/469 [00:03<00:00, 125.31it/s]\n",
      "100%|██████████████████████████████████████████████████████████████████████████████████| 79/79 [00:02<00:00, 31.01it/s]\n",
      "  0%|                                                                                          | 0/469 [00:00<?, ?it/s]"
     ]
    },
    {
     "name": "stdout",
     "output_type": "stream",
     "text": [
      "Loaded session from C:\\Users\\Windows\\Desktop\\Shahir\\18.408\\18408-final-project\\experiments\\8d9223f827abc533\\sessions\\Session 05-19-2021 11-13-10 AM\n"
     ]
    },
    {
     "name": "stderr",
     "output_type": "stream",
     "text": [
      "100%|███████████████████████████████████████████████████████████████████████████████| 469/469 [00:03<00:00, 121.21it/s]\n",
      "100%|██████████████████████████████████████████████████████████████████████████████████| 79/79 [00:02<00:00, 33.17it/s]\n",
      "  0%|                                                                                          | 0/469 [00:00<?, ?it/s]"
     ]
    },
    {
     "name": "stdout",
     "output_type": "stream",
     "text": [
      "Loaded session from C:\\Users\\Windows\\Desktop\\Shahir\\18.408\\18408-final-project\\experiments\\9e5f6cc9bd721d41\\sessions\\Session 05-19-2021 11-16-12 AM\n"
     ]
    },
    {
     "name": "stderr",
     "output_type": "stream",
     "text": [
      "100%|███████████████████████████████████████████████████████████████████████████████| 469/469 [00:03<00:00, 130.65it/s]\n",
      "100%|██████████████████████████████████████████████████████████████████████████████████| 79/79 [00:02<00:00, 31.44it/s]\n",
      "  0%|                                                                                          | 0/469 [00:00<?, ?it/s]"
     ]
    },
    {
     "name": "stdout",
     "output_type": "stream",
     "text": [
      "Loaded session from C:\\Users\\Windows\\Desktop\\Shahir\\18.408\\18408-final-project\\experiments\\945bddc2256f5667\\sessions\\Session 05-19-2021 11-20-02 AM\n"
     ]
    },
    {
     "name": "stderr",
     "output_type": "stream",
     "text": [
      "100%|███████████████████████████████████████████████████████████████████████████████| 469/469 [00:03<00:00, 131.47it/s]\n",
      "100%|██████████████████████████████████████████████████████████████████████████████████| 79/79 [00:02<00:00, 31.11it/s]\n",
      "  0%|                                                                                          | 0/469 [00:00<?, ?it/s]"
     ]
    },
    {
     "name": "stdout",
     "output_type": "stream",
     "text": [
      "Loaded session from C:\\Users\\Windows\\Desktop\\Shahir\\18.408\\18408-final-project\\experiments\\6b63a7c0ac1510ce\\sessions\\Session 05-19-2021 11-22-48 AM\n"
     ]
    },
    {
     "name": "stderr",
     "output_type": "stream",
     "text": [
      "100%|███████████████████████████████████████████████████████████████████████████████| 469/469 [00:03<00:00, 126.79it/s]\n",
      "100%|██████████████████████████████████████████████████████████████████████████████████| 79/79 [00:02<00:00, 31.42it/s]\n",
      "  0%|                                                                                          | 0/469 [00:00<?, ?it/s]"
     ]
    },
    {
     "name": "stdout",
     "output_type": "stream",
     "text": [
      "Loaded session from C:\\Users\\Windows\\Desktop\\Shahir\\18.408\\18408-final-project\\experiments\\a899c0ffbf97edac\\sessions\\Session 05-19-2021 11-29-49 AM\n"
     ]
    },
    {
     "name": "stderr",
     "output_type": "stream",
     "text": [
      "100%|███████████████████████████████████████████████████████████████████████████████| 469/469 [00:03<00:00, 134.72it/s]\n",
      "100%|██████████████████████████████████████████████████████████████████████████████████| 79/79 [00:02<00:00, 32.21it/s]\n",
      "  0%|                                                                                          | 0/469 [00:00<?, ?it/s]"
     ]
    },
    {
     "name": "stdout",
     "output_type": "stream",
     "text": [
      "Loaded session from C:\\Users\\Windows\\Desktop\\Shahir\\18.408\\18408-final-project\\experiments\\04af4ddd1cc4ec53\\sessions\\Session 05-19-2021 11-35-07 AM\n"
     ]
    },
    {
     "name": "stderr",
     "output_type": "stream",
     "text": [
      "100%|███████████████████████████████████████████████████████████████████████████████| 469/469 [00:03<00:00, 132.09it/s]\n",
      "100%|██████████████████████████████████████████████████████████████████████████████████| 79/79 [00:02<00:00, 30.08it/s]\n",
      "  0%|                                                                                          | 0/469 [00:00<?, ?it/s]"
     ]
    },
    {
     "name": "stdout",
     "output_type": "stream",
     "text": [
      "Loaded session from C:\\Users\\Windows\\Desktop\\Shahir\\18.408\\18408-final-project\\experiments\\71cea6a8c412cb8e\\sessions\\Session 05-19-2021 11-38-44 AM\n"
     ]
    },
    {
     "name": "stderr",
     "output_type": "stream",
     "text": [
      "100%|███████████████████████████████████████████████████████████████████████████████| 469/469 [00:03<00:00, 124.25it/s]\n",
      "100%|██████████████████████████████████████████████████████████████████████████████████| 79/79 [00:02<00:00, 31.76it/s]\n",
      "  0%|                                                                                          | 0/469 [00:00<?, ?it/s]"
     ]
    },
    {
     "name": "stdout",
     "output_type": "stream",
     "text": [
      "Loaded session from C:\\Users\\Windows\\Desktop\\Shahir\\18.408\\18408-final-project\\experiments\\75bfbc08b0f55287\\sessions\\Session 05-19-2021 11-45-24 AM\n"
     ]
    },
    {
     "name": "stderr",
     "output_type": "stream",
     "text": [
      "100%|███████████████████████████████████████████████████████████████████████████████| 469/469 [00:03<00:00, 127.41it/s]\n",
      "100%|██████████████████████████████████████████████████████████████████████████████████| 79/79 [00:02<00:00, 31.80it/s]\n",
      "  0%|                                                                                          | 0/469 [00:00<?, ?it/s]"
     ]
    },
    {
     "name": "stdout",
     "output_type": "stream",
     "text": [
      "Loaded session from C:\\Users\\Windows\\Desktop\\Shahir\\18.408\\18408-final-project\\experiments\\6afe056328491a3f\\sessions\\Session 05-19-2021 11-51-08 AM\n"
     ]
    },
    {
     "name": "stderr",
     "output_type": "stream",
     "text": [
      "100%|███████████████████████████████████████████████████████████████████████████████| 469/469 [00:03<00:00, 131.12it/s]\n",
      "100%|██████████████████████████████████████████████████████████████████████████████████| 79/79 [00:02<00:00, 32.27it/s]\n",
      "  0%|                                                                                          | 0/469 [00:00<?, ?it/s]"
     ]
    },
    {
     "name": "stdout",
     "output_type": "stream",
     "text": [
      "Loaded session from C:\\Users\\Windows\\Desktop\\Shahir\\18.408\\18408-final-project\\experiments\\4186df706c751343\\sessions\\Session 05-19-2021 11-56-42 AM\n"
     ]
    },
    {
     "name": "stderr",
     "output_type": "stream",
     "text": [
      "100%|███████████████████████████████████████████████████████████████████████████████| 469/469 [00:03<00:00, 130.85it/s]\n",
      "100%|██████████████████████████████████████████████████████████████████████████████████| 79/79 [00:02<00:00, 31.58it/s]\n",
      "  0%|                                                                                          | 0/469 [00:00<?, ?it/s]"
     ]
    },
    {
     "name": "stdout",
     "output_type": "stream",
     "text": [
      "Loaded session from C:\\Users\\Windows\\Desktop\\Shahir\\18.408\\18408-final-project\\experiments\\5fe747157701df64\\sessions\\Session 05-19-2021 12-05-44 PM\n"
     ]
    },
    {
     "name": "stderr",
     "output_type": "stream",
     "text": [
      "100%|███████████████████████████████████████████████████████████████████████████████| 469/469 [00:03<00:00, 131.09it/s]\n",
      "100%|██████████████████████████████████████████████████████████████████████████████████| 79/79 [00:02<00:00, 31.57it/s]\n",
      "  0%|                                                                                          | 0/469 [00:00<?, ?it/s]"
     ]
    },
    {
     "name": "stdout",
     "output_type": "stream",
     "text": [
      "Loaded session from C:\\Users\\Windows\\Desktop\\Shahir\\18.408\\18408-final-project\\experiments\\034e7cb89b8e06ee\\sessions\\Session 05-19-2021 12-14-43 PM\n"
     ]
    },
    {
     "name": "stderr",
     "output_type": "stream",
     "text": [
      "100%|███████████████████████████████████████████████████████████████████████████████| 469/469 [00:03<00:00, 129.91it/s]\n",
      "100%|██████████████████████████████████████████████████████████████████████████████████| 79/79 [00:02<00:00, 30.85it/s]\n",
      "  0%|                                                                                          | 0/469 [00:00<?, ?it/s]"
     ]
    },
    {
     "name": "stdout",
     "output_type": "stream",
     "text": [
      "WARNING: LOW ACCURACY\n",
      "{'dataset_config': {'dataset_type': 'img', 'dataset_config': {'img_dataset_type': 'mnist', 'num_train_samples': 60000, 'num_test_samples': 10000, 'new_input_size': None, 'flatten': True, 'augment': False, 'corrupt_frac': 0.0, 'seed': 0}}, 'model_config': {'model_type': 'relu_toy', 'model_config': {'input_dim': 784, 'output_dim': 10, 'layer_dims': [100, 100, 100, 100, 100, 100, 100, 100, 100, 100], 'bias': False, 'seed': None}}, 'training_config': {'optimizer_type': 'sgd_momentum', 'loss_type': 'cross_entropy', 'lr': 0.01, 'num_epochs': 50, 'clip_grad_norm': False, 'weight_decay': 1e-05, 'use_lr_schedule': False, 'epoch_lr_decay_steps': None, 'lr_decay_gamma': None, 'early_stop': True, 'early_stop_acc': 0.9, 'early_stop_patience': 5}, 'trial_index': 0}\n",
      "Loaded session from C:\\Users\\Windows\\Desktop\\Shahir\\18.408\\18408-final-project\\experiments\\959257b1acc8cf3e\\sessions\\Session 05-19-2021 12-23-57 PM\n"
     ]
    },
    {
     "name": "stderr",
     "output_type": "stream",
     "text": [
      "100%|███████████████████████████████████████████████████████████████████████████████| 469/469 [00:03<00:00, 122.72it/s]\n",
      "100%|██████████████████████████████████████████████████████████████████████████████████| 79/79 [00:02<00:00, 32.49it/s]\n",
      "  0%|                                                                                          | 0/469 [00:00<?, ?it/s]"
     ]
    },
    {
     "name": "stdout",
     "output_type": "stream",
     "text": [
      "WARNING: LOW ACCURACY\n",
      "{'dataset_config': {'dataset_type': 'img', 'dataset_config': {'img_dataset_type': 'mnist', 'num_train_samples': 60000, 'num_test_samples': 10000, 'new_input_size': None, 'flatten': True, 'augment': False, 'corrupt_frac': 0.0, 'seed': 0}}, 'model_config': {'model_type': 'relu_toy', 'model_config': {'input_dim': 784, 'output_dim': 10, 'layer_dims': [100, 100, 100, 100, 100, 100, 100, 100, 100, 100], 'bias': False, 'seed': None}}, 'training_config': {'optimizer_type': 'sgd_momentum', 'loss_type': 'cross_entropy', 'lr': 0.01, 'num_epochs': 50, 'clip_grad_norm': False, 'weight_decay': 0.0001, 'use_lr_schedule': False, 'epoch_lr_decay_steps': None, 'lr_decay_gamma': None, 'early_stop': True, 'early_stop_acc': 0.9, 'early_stop_patience': 5}, 'trial_index': 0}\n",
      "Loaded session from C:\\Users\\Windows\\Desktop\\Shahir\\18.408\\18408-final-project\\experiments\\e114c7c77e8fd315\\sessions\\Session 05-19-2021 12-32-58 PM\n"
     ]
    },
    {
     "name": "stderr",
     "output_type": "stream",
     "text": [
      "100%|███████████████████████████████████████████████████████████████████████████████| 469/469 [00:03<00:00, 125.48it/s]\n",
      "100%|██████████████████████████████████████████████████████████████████████████████████| 79/79 [00:02<00:00, 30.77it/s]\n",
      "  0%|                                                                                          | 0/469 [00:00<?, ?it/s]"
     ]
    },
    {
     "name": "stdout",
     "output_type": "stream",
     "text": [
      "WARNING: LOW ACCURACY\n",
      "{'dataset_config': {'dataset_type': 'img', 'dataset_config': {'img_dataset_type': 'mnist', 'num_train_samples': 60000, 'num_test_samples': 10000, 'new_input_size': None, 'flatten': True, 'augment': False, 'corrupt_frac': 0.0, 'seed': 0}}, 'model_config': {'model_type': 'relu_toy', 'model_config': {'input_dim': 784, 'output_dim': 10, 'layer_dims': [100, 100, 100, 100, 100, 100, 100, 100, 100, 100, 100, 100], 'bias': False, 'seed': None}}, 'training_config': {'optimizer_type': 'sgd_momentum', 'loss_type': 'cross_entropy', 'lr': 0.01, 'num_epochs': 50, 'clip_grad_norm': False, 'weight_decay': 0.0, 'use_lr_schedule': False, 'epoch_lr_decay_steps': None, 'lr_decay_gamma': None, 'early_stop': True, 'early_stop_acc': 0.9, 'early_stop_patience': 5}, 'trial_index': 0}\n",
      "Loaded session from C:\\Users\\Windows\\Desktop\\Shahir\\18.408\\18408-final-project\\experiments\\f1966da3f624cf06\\sessions\\Session 05-19-2021 12-42-28 PM\n"
     ]
    },
    {
     "name": "stderr",
     "output_type": "stream",
     "text": [
      "100%|███████████████████████████████████████████████████████████████████████████████| 469/469 [00:03<00:00, 128.60it/s]\n",
      "100%|██████████████████████████████████████████████████████████████████████████████████| 79/79 [00:02<00:00, 32.61it/s]\n",
      "  0%|                                                                                          | 0/469 [00:00<?, ?it/s]"
     ]
    },
    {
     "name": "stdout",
     "output_type": "stream",
     "text": [
      "WARNING: LOW ACCURACY\n",
      "{'dataset_config': {'dataset_type': 'img', 'dataset_config': {'img_dataset_type': 'mnist', 'num_train_samples': 60000, 'num_test_samples': 10000, 'new_input_size': None, 'flatten': True, 'augment': False, 'corrupt_frac': 0.0, 'seed': 0}}, 'model_config': {'model_type': 'relu_toy', 'model_config': {'input_dim': 784, 'output_dim': 10, 'layer_dims': [100, 100, 100, 100, 100, 100, 100, 100, 100, 100, 100, 100], 'bias': False, 'seed': None}}, 'training_config': {'optimizer_type': 'sgd_momentum', 'loss_type': 'cross_entropy', 'lr': 0.01, 'num_epochs': 50, 'clip_grad_norm': False, 'weight_decay': 1e-05, 'use_lr_schedule': False, 'epoch_lr_decay_steps': None, 'lr_decay_gamma': None, 'early_stop': True, 'early_stop_acc': 0.9, 'early_stop_patience': 5}, 'trial_index': 0}\n",
      "Loaded session from C:\\Users\\Windows\\Desktop\\Shahir\\18.408\\18408-final-project\\experiments\\38a65dec663d6531\\sessions\\Session 05-19-2021 12-51-50 PM\n"
     ]
    },
    {
     "name": "stderr",
     "output_type": "stream",
     "text": [
      "100%|███████████████████████████████████████████████████████████████████████████████| 469/469 [00:03<00:00, 126.61it/s]\n",
      "100%|██████████████████████████████████████████████████████████████████████████████████| 79/79 [00:02<00:00, 31.14it/s]"
     ]
    },
    {
     "name": "stdout",
     "output_type": "stream",
     "text": [
      "WARNING: LOW ACCURACY\n",
      "{'dataset_config': {'dataset_type': 'img', 'dataset_config': {'img_dataset_type': 'mnist', 'num_train_samples': 60000, 'num_test_samples': 10000, 'new_input_size': None, 'flatten': True, 'augment': False, 'corrupt_frac': 0.0, 'seed': 0}}, 'model_config': {'model_type': 'relu_toy', 'model_config': {'input_dim': 784, 'output_dim': 10, 'layer_dims': [100, 100, 100, 100, 100, 100, 100, 100, 100, 100, 100, 100], 'bias': False, 'seed': None}}, 'training_config': {'optimizer_type': 'sgd_momentum', 'loss_type': 'cross_entropy', 'lr': 0.01, 'num_epochs': 50, 'clip_grad_norm': False, 'weight_decay': 0.0001, 'use_lr_schedule': False, 'epoch_lr_decay_steps': None, 'lr_decay_gamma': None, 'early_stop': True, 'early_stop_acc': 0.9, 'early_stop_patience': 5}, 'trial_index': 0}\n"
     ]
    },
    {
     "name": "stderr",
     "output_type": "stream",
     "text": [
      "\n"
     ]
    }
   ],
   "source": [
    "results = {}\n",
    "\n",
    "for c in configs:\n",
    "    h = manager.find_experiment(c)\n",
    "    if not h:\n",
    "        continue\n",
    "    setup, state = manager.load_experiment(c, device)\n",
    "    if not state.training_complete:\n",
    "        continue\n",
    "    dataloaders = setup['data_setup']['dataloaders']\n",
    "    model = setup['model']\n",
    "    criterion = setup['training_setup']['criterion']\n",
    "    train_stats = get_dataloader_stats(dataloaders['train'], model, criterion, device)\n",
    "    test_stats = get_dataloader_stats(dataloaders['test'], model, criterion, device)\n",
    "    \n",
    "    w_norm_prod = get_weight_norm_prod(model)\n",
    "    \n",
    "    outputs = test_stats['outputs']\n",
    "    labels = test_stats['labels']\n",
    "    mask = np.tile(np.arange(outputs.shape[1]), (outputs.shape[0], 1))\n",
    "    mask = mask != labels.reshape(-1, 1)\n",
    "    f_x_y = outputs[np.arange(outputs.shape[0]), labels]\n",
    "    max_incorrect = outputs[mask].reshape((outputs.shape[0], outputs.shape[1] - 1)).max(axis=1)\n",
    "    margins = f_x_y - max_incorrect\n",
    "    \n",
    "    depth = len(c.model_config.config.layer_dims) + 1\n",
    "    \n",
    "    if test_stats['acc'] < 0.9:\n",
    "        print(\"WARNING: LOW ACCURACY\")\n",
    "        print(c)\n",
    "\n",
    "    stats = {\n",
    "        \"config\": c,\n",
    "        \"train_acc\": train_stats['acc'],\n",
    "        \"test_acc\": test_stats['acc'],\n",
    "        \"gen_error\": train_stats['acc'] - test_stats['acc'],\n",
    "        \"weight_norm_prod\": w_norm_prod,\n",
    "        \"margins\": margins,\n",
    "        \"depth\": depth\n",
    "    }\n",
    "    \n",
    "    results[h] = stats\n"
   ]
  },
  {
   "cell_type": "code",
   "execution_count": 9,
   "id": "ea3cd12b",
   "metadata": {},
   "outputs": [
    {
     "name": "stdout",
     "output_type": "stream",
     "text": [
      "{'config': {'dataset_config': {'dataset_type': 'img', 'dataset_config': {'img_dataset_type': 'mnist', 'num_train_samples': 60000, 'num_test_samples': 10000, 'new_input_size': None, 'flatten': True, 'augment': False, 'corrupt_frac': 0.0, 'seed': 0}}, 'model_config': {'model_type': 'relu_toy', 'model_config': {'input_dim': 784, 'output_dim': 10, 'layer_dims': [100, 100, 100, 100, 100, 100, 100, 100, 100, 100, 100, 100], 'bias': False, 'seed': None}}, 'training_config': {'optimizer_type': 'sgd_momentum', 'loss_type': 'cross_entropy', 'lr': 0.01, 'num_epochs': 50, 'clip_grad_norm': False, 'weight_decay': 0.0001, 'use_lr_schedule': False, 'epoch_lr_decay_steps': None, 'lr_decay_gamma': None, 'early_stop': True, 'early_stop_acc': 0.9, 'early_stop_patience': 5}, 'trial_index': 0}, 'train_acc': 0.11236666666666667, 'test_acc': 0.1135, 'gen_error': -0.0011333333333333334, 'weight_norm_prod': 2288664012.058258, 'margins': array([-0.10354878, -0.13911672,  0.10354802, ..., -0.14755322,\n",
      "       -0.2505021 , -0.15683556], dtype=float32), 'depth': 13}\n"
     ]
    }
   ],
   "source": [
    "print(stats)"
   ]
  },
  {
   "cell_type": "code",
   "execution_count": 44,
   "id": "345f883f",
   "metadata": {},
   "outputs": [],
   "source": [
    "def invalid_run(r):\n",
    "    return r['test_acc'] < 0.9 or r['depth'] > 10"
   ]
  },
  {
   "cell_type": "code",
   "execution_count": 136,
   "id": "6ad555e0",
   "metadata": {},
   "outputs": [],
   "source": [
    "plt.rcParams.update({'font.size': 12})"
   ]
  },
  {
   "cell_type": "code",
   "execution_count": 137,
   "id": "47ece8b0",
   "metadata": {
    "scrolled": true
   },
   "outputs": [
    {
     "data": {
      "image/png": "[encoded data removed]",
      "text/plain": [
       "<Figure size 432x288 with 1 Axes>"
      ]
     },
     "metadata": {
      "needs_background": "light"
     },
     "output_type": "display_data"
    }
   ],
   "source": [
    "depths = []\n",
    "test_accs = []\n",
    "\n",
    "for h, r in results.items():\n",
    "    if invalid_run(r):\n",
    "        continue\n",
    "    depths.append(r['depth'])\n",
    "    test_accs.append(r['test_acc'])\n",
    "    \n",
    "plt.xlabel('Depth')\n",
    "plt.ylabel('Testing Accuracy')\n",
    "plt.scatter(depths, test_accs)\n",
    "plt.xlim(left=-0.2)\n",
    "plt.show()"
   ]
  },
  {
   "cell_type": "code",
   "execution_count": 138,
   "id": "1d024218",
   "metadata": {
    "scrolled": true
   },
   "outputs": [
    {
     "data": {
      "image/png": "[encoded data removed]",
      "text/plain": [
       "<Figure size 432x288 with 1 Axes>"
      ]
     },
     "metadata": {
      "needs_background": "light"
     },
     "output_type": "display_data"
    }
   ],
   "source": [
    "depths = []\n",
    "gen_errs = []\n",
    "\n",
    "for h, r in results.items():\n",
    "    if invalid_run(r):\n",
    "        continue\n",
    "    depths.append(r['depth'])\n",
    "    gen_errs.append(abs(r['gen_error']))\n",
    "    \n",
    "plt.xlabel('Depth')\n",
    "plt.ylabel('Generalization Error')\n",
    "plt.scatter(depths, gen_errs)\n",
    "plt.xlim(left=-0.2)\n",
    "plt.show()"
   ]
  },
  {
   "cell_type": "code",
   "execution_count": 139,
   "id": "f321848b",
   "metadata": {},
   "outputs": [
    {
     "data": {
      "image/png": "[encoded data removed]",
      "text/plain": [
       "<Figure size 432x288 with 1 Axes>"
      ]
     },
     "metadata": {
      "needs_background": "light"
     },
     "output_type": "display_data"
    }
   ],
   "source": [
    "depths = []\n",
    "w_norm_prods = []\n",
    "\n",
    "for h, r in results.items():\n",
    "    if invalid_run(r):\n",
    "        continue\n",
    "    depths.append(r['depth']) #r['config'].training_config.weight_decay)\n",
    "    w_norm_prods.append(r['weight_norm_prod'])\n",
    "    \n",
    "plt.xlabel('Depth')\n",
    "plt.ylabel('Weight Norm Products')\n",
    "plt.yscale('log')\n",
    "plt.scatter(depths, w_norm_prods)\n",
    "plt.show()"
   ]
  },
  {
   "cell_type": "code",
   "execution_count": 140,
   "id": "3b52c8c8",
   "metadata": {},
   "outputs": [
    {
     "data": {
      "image/png": "[encoded data removed]",
      "text/plain": [
       "<Figure size 432x288 with 1 Axes>"
      ]
     },
     "metadata": {
      "needs_background": "light"
     },
     "output_type": "display_data"
    }
   ],
   "source": [
    "depths = []\n",
    "w_norm_prods = []\n",
    "\n",
    "for h, r in results.items():\n",
    "    if invalid_run(r):\n",
    "        continue\n",
    "    depths.append(r['config'].dataset_config.config.num_train_samples)\n",
    "    w_norm_prods.append(r['weight_norm_prod'])\n",
    "\n",
    "plt.xlabel('Number of Training Samples')\n",
    "plt.ylabel('Weight Norm Products')\n",
    "plt.yscale('log')\n",
    "plt.scatter(depths, w_norm_prods)\n",
    "plt.show()"
   ]
  },
  {
   "cell_type": "code",
   "execution_count": 141,
   "id": "66dc783c",
   "metadata": {
    "scrolled": true
   },
   "outputs": [
    {
     "data": {
      "image/png": "[encoded data removed]",
      "text/plain": [
       "<Figure size 432x288 with 1 Axes>"
      ]
     },
     "metadata": {
      "needs_background": "light"
     },
     "output_type": "display_data"
    }
   ],
   "source": [
    "w_norm_prods = []\n",
    "gen_errs = []\n",
    "\n",
    "for h, r in results.items():\n",
    "    if invalid_run(r):\n",
    "        continue\n",
    "    w_norm_prods.append(r['weight_norm_prod'])\n",
    "    gen_errs.append(r['gen_error'])\n",
    "\n",
    "plt.xscale('log')\n",
    "plt.xlabel('Weight Norm Products')\n",
    "plt.ylabel('Generalization Error')\n",
    "plt.scatter(w_norm_prods, gen_errs)\n",
    "plt.show()"
   ]
  },
  {
   "cell_type": "code",
   "execution_count": 142,
   "id": "687587b7",
   "metadata": {},
   "outputs": [
    {
     "data": {
      "image/png": "[encoded data removed]",
      "text/plain": [
       "<Figure size 432x288 with 1 Axes>"
      ]
     },
     "metadata": {
      "needs_background": "light"
     },
     "output_type": "display_data"
    }
   ],
   "source": [
    "depths = []\n",
    "gen_errs = []\n",
    "w_norm_prods = []\n",
    "\n",
    "fig = plt.figure()\n",
    "ax = fig.add_subplot(projection='3d')\n",
    "for h, r in results.items():\n",
    "    if invalid_run(r):\n",
    "        continue\n",
    "    depths.append(r['depth'])\n",
    "    gen_errs.append(r['gen_error'])\n",
    "    w_norm_prods.append(r['weight_norm_prod'])\n",
    "ax.set_xlabel('Depth')\n",
    "ax.set_ylabel('Weight Norm Products')\n",
    "ax.set_zlabel('Generalization Error')\n",
    "#plt.xlim(left=-0.2)\n",
    "ax.scatter(depths, w_norm_prods, gen_errs, marker='o')\n",
    "plt.show()"
   ]
  },
  {
   "cell_type": "code",
   "execution_count": null,
   "id": "51e08397",
   "metadata": {},
   "outputs": [],
   "source": []
  },
  {
   "cell_type": "code",
   "execution_count": null,
   "id": "00ea1240",
   "metadata": {},
   "outputs": [],
   "source": []
  },
  {
   "cell_type": "code",
   "execution_count": null,
   "id": "badc1396",
   "metadata": {},
   "outputs": [],
   "source": []
  }
 ],
 "metadata": {
  "kernelspec": {
   "display_name": "Python 3",
   "language": "python",
   "name": "python3"
  },
  "language_info": {
   "codemirror_mode": {
    "name": "ipython",
    "version": 3
   },
   "file_extension": ".py",
   "mimetype": "text/x-python",
   "name": "python",
   "nbconvert_exporter": "python",
   "pygments_lexer": "ipython3",
   "version": "3.8.8"
  }
 },
 "nbformat": 4,
 "nbformat_minor": 5
}
